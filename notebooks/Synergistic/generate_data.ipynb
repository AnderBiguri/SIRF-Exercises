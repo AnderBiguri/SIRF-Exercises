{
 "cells": [
  {
   "cell_type": "markdown",
   "metadata": {},
   "source": [
    "# Simulate data for synergistic algorithms"
   ]
  },
  {
   "cell_type": "code",
   "execution_count": null,
   "metadata": {},
   "outputs": [],
   "source": [
    "#%% make sure figures appears inline and animations works\n",
    "%matplotlib notebook"
   ]
  },
  {
   "cell_type": "code",
   "execution_count": null,
   "metadata": {},
   "outputs": [],
   "source": [
    "import sirf.STIR as pet\n",
    "import matplotlib.pyplot as plt\n",
    "import os\n",
    "import numpy as np\n",
    "\n",
    "# Get to correct directory\n",
    "os.chdir(\"/data/SRS_data_exhale\")\n",
    "\n",
    "# We'll need a template sinogram\n",
    "templ_sino = pet.AcquisitionData('mMR_template_span11.hs')"
   ]
  },
  {
   "cell_type": "code",
   "execution_count": null,
   "metadata": {},
   "outputs": [],
   "source": [
    "#%% some handy function definitions\n",
    "def imshow(image, limits=None, title=''):\n",
    "    \"\"\"Usage: imshow(image, [min,max], title)\"\"\"\n",
    "    plt.title(title)\n",
    "    bitmap = plt.imshow(image)\n",
    "    if limits is None:\n",
    "        limits = [image.min(), image.max()]\n",
    "                \n",
    "    plt.clim(limits[0], limits[1])\n",
    "    plt.colorbar(shrink=.6)\n",
    "    plt.axis('off')\n",
    "    return bitmap"
   ]
  },
  {
   "cell_type": "markdown",
   "metadata": {},
   "source": [
    "## PET ground truth"
   ]
  },
  {
   "cell_type": "code",
   "execution_count": null,
   "metadata": {},
   "outputs": [],
   "source": [
    "gt_act = pet.ImageData('PET_activity.nii')\n",
    "gt_atten = pet.ImageData('PET_attenuation.nii')\n",
    "\n",
    "fig, axs = plt.subplots(2,3);\n",
    "fig.suptitle('Ground truth PET');\n",
    "\n",
    "# PET Activity\n",
    "axs[0,0].set_ylabel('Activity', rotation=90, size='large');\n",
    "axs[0,0].imshow(gt_act.as_array()[:,:,60]);\n",
    "axs[0,1].imshow(gt_act.as_array()[:,60,:]);\n",
    "axs[0,2].imshow(gt_act.as_array()[60,:,:]);\n",
    "\n",
    "# PET attenuation\n",
    "axs[1,0].set_ylabel('Attenuation', rotation=90, size='large');\n",
    "axs[1,0].imshow(gt_atten.as_array()[:,:,60]);\n",
    "axs[1,1].imshow(gt_atten.as_array()[:,60,:]);\n",
    "axs[1,2].imshow(gt_atten.as_array()[60,:,:]);"
   ]
  },
  {
   "cell_type": "markdown",
   "metadata": {},
   "source": [
    "## MR ground truth"
   ]
  },
  {
   "cell_type": "code",
   "execution_count": null,
   "metadata": {},
   "outputs": [],
   "source": [
    "gt_T1 = pet.ImageData('MR_T1.nii')\n",
    "gt_T2 = pet.ImageData('MR_T2.nii')\n",
    "gt_PD = pet.ImageData('MR_PD.nii')\n",
    "\n",
    "fig, axs = plt.subplots(3,3);\n",
    "fig.suptitle('Ground truth MR');\n",
    "\n",
    "# MR T1\n",
    "axs[0,0].set_ylabel('T1', rotation=90, size='large');\n",
    "axs[0,0].imshow(gt_T1.as_array()[:,:,60]);\n",
    "axs[0,1].imshow(gt_T1.as_array()[:,60,:]);\n",
    "axs[0,2].imshow(gt_T1.as_array()[60,:,:]);\n",
    "\n",
    "# MR T1\n",
    "axs[1,0].set_ylabel('T2', rotation=90, size='large');\n",
    "axs[1,0].imshow(gt_T2.as_array()[:,:,60]);\n",
    "axs[1,1].imshow(gt_T2.as_array()[:,60,:]);\n",
    "axs[1,2].imshow(gt_T2.as_array()[60,:,:]);\n",
    "\n",
    "# MR PD\n",
    "axs[2,0].set_ylabel('PD', rotation=90, size='large');\n",
    "axs[2,0].imshow(gt_PD.as_array()[:,:,60]);\n",
    "axs[2,1].imshow(gt_PD.as_array()[:,60,:]);\n",
    "axs[2,2].imshow(gt_PD.as_array()[60,:,:]);"
   ]
  },
  {
   "cell_type": "markdown",
   "metadata": {},
   "source": [
    "## Create noisy PET data"
   ]
  },
  {
   "cell_type": "code",
   "execution_count": null,
   "metadata": {},
   "outputs": [],
   "source": [
    "#%% create acquisition model\n",
    "am = pet.AcquisitionModelUsingRayTracingMatrix()\n",
    "am.set_num_tangential_LORs(5)\n",
    "\n",
    "# Set up sensitivity due to attenuation\n",
    "asm_attn = pet.AcquisitionSensitivityModel(gt_atten, am)\n",
    "asm_attn.set_up(templ_sino)\n",
    "bin_eff = pet.AcquisitionData(templ_sino)\n",
    "bin_eff.fill(1.0)\n",
    "print('applying attenuation (please wait, may take a while)...')\n",
    "asm_attn.unnormalise(bin_eff)\n",
    "asm_attn = pet.AcquisitionSensitivityModel(bin_eff)\n",
    "\n",
    "am.set_acquisition_sensitivity(asm_attn)\n",
    "\n",
    "am.set_up(templ_sino,gt_act);"
   ]
  },
  {
   "cell_type": "code",
   "execution_count": null,
   "metadata": {},
   "outputs": [],
   "source": [
    "#%% simulate some data using forward projection\n",
    "gt_sino = am.forward(gt_act)\n",
    "\n",
    "gt_sino_array = np.abs(gt_sino.as_array());\n",
    "noisy_array = np.random.poisson(gt_sino_array).astype('float64');\n",
    "noisy_sino = gt_sino.clone();\n",
    "noisy_sino.fill(noisy_array);"
   ]
  },
  {
   "cell_type": "markdown",
   "metadata": {},
   "source": [
    "### Display it"
   ]
  },
  {
   "cell_type": "code",
   "execution_count": null,
   "metadata": {},
   "outputs": [],
   "source": [
    "sino_max = gt_sino_array[0,400,:,:].max()\n",
    "\n",
    "plt.figure()\n",
    "plt.subplot(1,2,1);\n",
    "imshow(gt_sino_array[0,400,:,:], [0,sino_max], 'Original');\n",
    "plt.subplot(1,2,2);\n",
    "imshow(noisy_array[0,400,:,:], [0,sino_max], 'Noisy');"
   ]
  },
  {
   "cell_type": "markdown",
   "metadata": {},
   "source": [
    "### Save it"
   ]
  },
  {
   "cell_type": "code",
   "execution_count": null,
   "metadata": {},
   "outputs": [],
   "source": [
    "#%% create objective function\n",
    "noisy_sino.write('noisy_sino')"
   ]
  }
 ],
 "metadata": {
  "kernelspec": {
   "display_name": "Python 2",
   "language": "python",
   "name": "python2"
  },
  "language_info": {
   "codemirror_mode": {
    "name": "ipython"
   },
   "file_extension": ".py",
   "mimetype": "text/x-python",
   "name": "python",
   "nbconvert_exporter": "python"
  }
 },
 "nbformat": 4,
 "nbformat_minor": 2
}

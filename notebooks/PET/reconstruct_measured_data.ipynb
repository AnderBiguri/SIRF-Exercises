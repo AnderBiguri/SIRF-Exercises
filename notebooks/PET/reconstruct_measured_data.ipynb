{
 "cells": [
  {
   "cell_type": "code",
   "execution_count": null,
   "metadata": {},
   "outputs": [],
   "source": [
    "import os\n",
    "import sys\n",
    "import matplotlib.pyplot as plt\n",
    "from pUtilities import show_2D_array\n",
    "from pSTIR import *\n",
    "\n",
    "data_path = petmr_data_path('pet') + '/mMR'\n",
    "#data_path='/home/sirfuser/data/NEMA'\n",
    "print('Finding files in %s' % data_path)\n",
    "os.chdir(data_path)"
   ]
  },
  {
   "cell_type": "code",
   "execution_count": null,
   "metadata": {},
   "outputs": [],
   "source": [
    "# check content of current directory using an iPython \"magic\" command\n",
    "%ls"
   ]
  },
  {
   "cell_type": "code",
   "execution_count": null,
   "metadata": {},
   "outputs": [],
   "source": [
    "# set filenames \n",
    "# input files\n",
    "list_file = '20170809_NEMA_60min_UCL.l.hdr';\n",
    "norm_file = 'norm.n.hdr'\n",
    "attn_file = 'mu_map.hv'\n",
    "# output filename prefixes\n",
    "sino_file = 'sino'"
   ]
  },
  {
   "cell_type": "code",
   "execution_count": null,
   "metadata": {},
   "outputs": [],
   "source": [
    "# redirect STIR messages to some files\n",
    "# you can check these if things go wrong\n",
    "msg_red = MessageRedirector('info.txt', 'warn.txt')"
   ]
  },
  {
   "cell_type": "code",
   "execution_count": null,
   "metadata": {},
   "outputs": [],
   "source": [
    "template_acq_data = AcquisitionData('Siemens_mMR',span=11, max_ring_diff=15,view_mash_factor=2)\n",
    "template_acq_data.write('template.hs')"
   ]
  },
  {
   "cell_type": "code",
   "execution_count": null,
   "metadata": {},
   "outputs": [],
   "source": [
    "# create listmode-to-sinograms converter object\n",
    "lm2sino = ListmodeToSinograms()\n",
    "\n",
    "# set input, output and template files\n",
    "lm2sino.set_input(list_file)\n",
    "lm2sino.set_output_prefix(sino_file)\n",
    "lm2sino.set_template('template.hs')"
   ]
  },
  {
   "cell_type": "code",
   "execution_count": null,
   "metadata": {},
   "outputs": [],
   "source": [
    "# set interval\n",
    "lm2sino.set_time_interval(0,10)\n",
    "# set up the converter\n",
    "lm2sino.set_up()\n",
    "# convert\n",
    "lm2sino.process()"
   ]
  },
  {
   "cell_type": "code",
   "execution_count": null,
   "metadata": {},
   "outputs": [],
   "source": [
    "%ls"
   ]
  },
  {
   "cell_type": "code",
   "execution_count": null,
   "metadata": {},
   "outputs": [],
   "source": [
    "# get access to the sinograms\n",
    "acq_data = lm2sino.get_output()\n",
    "# copy the acquisition data into a Python array\n",
    "acq_array = acq_data.as_array()\n",
    "print('acquisition data dimensions: %dx%dx%d' % acq_array.shape)\n",
    "# use a slice number for display that is appropriate for the NEMA phantom\n",
    "z = 71\n",
    "show_2D_array('Acquisition data', acq_array[z,:,:])"
   ]
  },
  {
   "cell_type": "code",
   "execution_count": null,
   "metadata": {},
   "outputs": [],
   "source": [
    "# select acquisition model that implements the geometric\n",
    "# forward projection by a ray tracing matrix multiplication\n",
    "acq_model = AcquisitionModelUsingRayTracingMatrix();\n",
    "acq_model.set_num_tangential_LORs(10);"
   ]
  },
  {
   "cell_type": "code",
   "execution_count": null,
   "metadata": {},
   "outputs": [],
   "source": [
    "# define objective function to be maximized as\n",
    "# Poisson logarithmic likelihood (with linear model for mean)\n",
    "obj_fun = make_Poisson_loglikelihood(acq_data)\n",
    "obj_fun.set_acquisition_model(acq_model)"
   ]
  },
  {
   "cell_type": "code",
   "execution_count": null,
   "metadata": {},
   "outputs": [],
   "source": [
    "# select Ordered Subsets Maximum A-Posteriori One Step Late as the\n",
    "# reconstruction algorithm (since we are not using a penalty, or prior, in\n",
    "# this example, we actually run OSEM);\n",
    "# this algorithm does not converge to the maximum of the objective function\n",
    "# but is used in practice to speed-up calculations\n",
    "# See the reconstruction demos for more complicated examples\n",
    "recon = OSMAPOSLReconstructor()\n",
    "recon.set_objective_function(obj_fun)\n",
    "                             \n",
    "num_subsets = 7\n",
    "num_subiterations = 4\n",
    "recon.set_num_subsets(num_subsets)\n",
    "recon.set_num_subiterations(num_subiterations)"
   ]
  },
  {
   "cell_type": "code",
   "execution_count": null,
   "metadata": {},
   "outputs": [],
   "source": [
    "# create initial image estimate of dimensions and voxel sizes\n",
    "# compatible with the scanner geometry (included in the AcquisitionData\n",
    "# object acq_data) and initialize each voxel to 1.0\n",
    "nxny = (127, 127)\n",
    "initial_image = acq_data.create_uniform_image(1.0, nxny)"
   ]
  },
  {
   "cell_type": "code",
   "execution_count": null,
   "metadata": {},
   "outputs": [],
   "source": [
    "image=initial_image\n",
    "# set up the reconstructor based on a sample image\n",
    "# (checks the validity of parameters, sets up objective function\n",
    "# and other objects involved in the reconstruction, which involves\n",
    "# computing/reading sensitivity image etc etc.)\n",
    "recon.set_up(image)\n",
    "\n",
    "# set the initial image estimate\n",
    "recon.set_current_estimate(image)\n",
    "\n",
    "# reconstruct\n",
    "recon.process()\n",
    "\n",
    "# show reconstructed image\n",
    "image_array = recon.get_current_estimate().as_array()\n",
    "show_2D_array('Reconstructed image', image_array[z,:,:])"
   ]
  },
  {
   "cell_type": "code",
   "execution_count": null,
   "metadata": {},
   "outputs": [],
   "source": [
    "asm_norm = AcquisitionSensitivityModel(norm_file)"
   ]
  },
  {
   "cell_type": "code",
   "execution_count": null,
   "metadata": {},
   "outputs": [],
   "source": [
    "acq_model.set_acquisition_sensitivity(asm_norm)"
   ]
  },
  {
   "cell_type": "code",
   "execution_count": null,
   "metadata": {},
   "outputs": [],
   "source": [
    "obj_fun.set_acquisition_model(acq_model)\n",
    "recon.set_objective_function(obj_fun)"
   ]
  },
  {
   "cell_type": "code",
   "execution_count": null,
   "metadata": {},
   "outputs": [],
   "source": [
    "image=initial_image\n",
    "# set up the reconstructor based on a sample image\n",
    "# (checks the validity of parameters, sets up objective function\n",
    "# and other objects involved in the reconstruction, which involves\n",
    "# computing/reading sensitivity image etc etc.)\n",
    "recon.set_up(image)\n",
    "\n",
    "# set the initial image estimate\n",
    "recon.set_current_estimate(image)\n",
    "\n",
    "# reconstruct\n",
    "recon.process()\n",
    "\n",
    "# show reconstructed image\n",
    "image_array = recon.get_current_estimate().as_array()\n",
    "show_2D_array('Reconstructed image', image_array[z,:,:])"
   ]
  },
  {
   "cell_type": "code",
   "execution_count": null,
   "metadata": {},
   "outputs": [],
   "source": [
    "# read attenuation image\n",
    "attn_image = ImageData(attn_file)\n",
    "z = 71\n",
    "attn_image.show(z)"
   ]
  },
  {
   "cell_type": "code",
   "execution_count": null,
   "metadata": {},
   "outputs": [],
   "source": [
    "attn_acq_model = AcquisitionModelUsingRayTracingMatrix()\n",
    "attn_acq_model.set_num_tangential_LORs(10)\n",
    "asm_attn = AcquisitionSensitivityModel(attn_image, attn_acq_model)\n",
    "# temporary fix pending attenuation offset fix in STIR:\n",
    "# converting attenuation into 'bin efficiency'\n",
    "asm_attn.set_up(acq_data)\n",
    "attn_factors = AcquisitionData(acq_data)\n",
    "attn_factors.fill(1.0)\n",
    "print('applying attenuation (please wait, may take a while)...')\n",
    "asm_attn.unnormalise(attn_factors)"
   ]
  },
  {
   "cell_type": "code",
   "execution_count": null,
   "metadata": {},
   "outputs": [],
   "source": [
    "asm_attn = AcquisitionSensitivityModel(attn_factors)"
   ]
  },
  {
   "cell_type": "code",
   "execution_count": null,
   "metadata": {},
   "outputs": [],
   "source": [
    "# chain attenuation and ECAT8 normalisation\n",
    "asm = AcquisitionSensitivityModel(asm_norm, asm_attn)\n",
    "\n",
    "acq_model.set_acquisition_sensitivity(asm)\n",
    "obj_fun.set_acquisition_model(acq_model)\n",
    "recon.set_objective_function(obj_fun)"
   ]
  },
  {
   "cell_type": "code",
   "execution_count": null,
   "metadata": {},
   "outputs": [],
   "source": [
    "image=initial_image\n",
    "# set up the reconstructor based on a sample image\n",
    "# (checks the validity of parameters, sets up objective function\n",
    "# and other objects involved in the reconstruction, which involves\n",
    "# computing/reading sensitivity image etc etc.)\n",
    "recon.set_up(image)\n",
    "\n",
    "# set the initial image estimate\n",
    "recon.set_current_estimate(image)\n",
    "\n",
    "# reconstruct\n",
    "recon.process()\n",
    "\n",
    "# show reconstructed image\n",
    "image_array = recon.get_current_estimate().as_array()\n",
    "show_2D_array('Reconstructed image', image_array[z,:,:])"
   ]
  },
  {
   "cell_type": "code",
   "execution_count": null,
   "metadata": {},
   "outputs": [],
   "source": [
    "# set interval\n",
    "lm2sino.set_time_interval(0,.002)\n",
    "# set up the converter\n",
    "lm2sino.set_up()"
   ]
  },
  {
   "cell_type": "code",
   "execution_count": null,
   "metadata": {},
   "outputs": [],
   "source": [
    "# Get the randoms\n",
    "randoms = lm2sino.estimate_randoms()"
   ]
  },
  {
   "cell_type": "code",
   "execution_count": null,
   "metadata": {},
   "outputs": [],
   "source": [
    "randoms_array=randoms.as_array()\n",
    "show_2D_array('randoms',randoms_array[z,:,:])"
   ]
  },
  {
   "cell_type": "code",
   "execution_count": null,
   "metadata": {},
   "outputs": [],
   "source": [
    "acq_model.set_background_term(randoms)\n",
    "obj_fun.set_acquisition_model(acq_model)\n",
    "recon.set_objective_function(obj_fun)"
   ]
  },
  {
   "cell_type": "code",
   "execution_count": null,
   "metadata": {},
   "outputs": [],
   "source": [
    "image=initial_image\n",
    "# set up the reconstructor based on a sample image\n",
    "# (checks the validity of parameters, sets up objective function\n",
    "# and other objects involved in the reconstruction, which involves\n",
    "# computing/reading sensitivity image etc etc.)\n",
    "recon.set_up(image)"
   ]
  },
  {
   "cell_type": "code",
   "execution_count": null,
   "metadata": {},
   "outputs": [],
   "source": [
    "# set the initial image estimate\n",
    "recon.set_current_estimate(image)\n",
    "\n",
    "# reconstruct\n",
    "recon.process()\n",
    "\n",
    "# show reconstructed image\n",
    "image_array = recon.get_current_estimate().as_array()\n",
    "show_2D_array('Reconstructed image', image_array[z,:,:])"
   ]
  },
  {
   "cell_type": "code",
   "execution_count": null,
   "metadata": {},
   "outputs": [],
   "source": [
    "show_3D_array(image_array[(z,z+15),:,:])"
   ]
  },
  {
   "cell_type": "code",
   "execution_count": null,
   "metadata": {},
   "outputs": [],
   "source": []
  }
 ],
 "metadata": {
  "kernelspec": {
   "display_name": "Python 2",
   "language": "python",
   "name": "python2"
  },
  "language_info": {
   "codemirror_mode": {
    "name": "ipython",
    "version": 2
   },
   "file_extension": ".py",
   "mimetype": "text/x-python",
   "name": "python",
   "nbconvert_exporter": "python",
   "pygments_lexer": "ipython2",
   "version": "2.7.12"
  }
 },
 "nbformat": 4,
 "nbformat_minor": 2
}

{
 "cells": [
  {
   "cell_type": "code",
   "execution_count": 1,
   "metadata": {},
   "outputs": [],
   "source": [
    "# -*- coding: utf-8 -*-\n",
    "###\n",
    "# Demonstration of MR reconstruction with CCP PET-MR Software\n",
    "#\n",
    "# This demonstration shows how to hande undersampled data\n",
    "# and how to write a simple iterative reconstruction algorithm with\n",
    "# the acquisition model.\n",
    "#\n",
    "# This demo is a 'script', i.e. intended to be run step by step in a\n",
    "# Python IDE such as spyder. It is organised in 'cells'. spyder displays these\n",
    "# cells nicely and allows you to run each cell on its own.\n",
    "#\n",
    "# First version: 27th of March 2019\n",
    "# Author: Johannes Mayer\n",
    "#\n",
    "\n",
    "## CCP PETMR Synergistic Image Reconstruction Framework (SIRF).\n",
    "## Copyright 2015 - 2017 Rutherford Appleton Laboratory STFC.\n",
    "## Copyright 2015 - 2017 University College London.\n",
    "## Copyright 2015 - 2017 Physikalisch-Technische Bundesanstalt.\n",
    "##\n",
    "## This is software developed for the Collaborative Computational\n",
    "## Project in Positron Emission Tomography and Magnetic Resonance imaging\n",
    "## (http://www.ccppetmr.ac.uk/).\n",
    "##\n",
    "## Licensed under the Apache License, Version 2.0 (the \"License\");\n",
    "##   you may not use this file except in compliance with the License.\n",
    "##   You may obtain a copy of the License at\n",
    "##       http://www.apache.org/licenses/LICENSE-2.0\n",
    "##   Unless required by applicable law or agreed to in writing, software\n",
    "##   distributed under the License is distributed on an \"AS IS\" BASIS,\n",
    "##   WITHOUT WARRANTIES OR CONDITIONS OF ANY KIND, either express or implied.\n",
    "##   See the License for the specific language governing permissions and\n",
    "##   limitations under the License.\n",
    "\n",
    "\n"
   ]
  },
  {
   "cell_type": "code",
   "execution_count": 20,
   "metadata": {
    "scrolled": true
   },
   "outputs": [
    {
     "name": "stdout",
     "output_type": "stream",
     "text": [
      "Using matplotlib backend: TkAgg\n"
     ]
    }
   ],
   "source": [
    "__version__ = '0.1.0'\n",
    "\n",
    "# import engine module\n",
    "import pGadgetron as pMR\n",
    "\n",
    "# import further modules\n",
    "import os, numpy\n",
    "%matplotlib \n",
    "import matplotlib.pyplot as plt\n"
   ]
  },
  {
   "cell_type": "code",
   "execution_count": 3,
   "metadata": {},
   "outputs": [
    {
     "name": "stdout",
     "output_type": "stream",
     "text": [
      "/home/sirfuser/devel/buildVM/sources/SIRF/data/examples/MR\n"
     ]
    }
   ],
   "source": [
    "#%% GO TO MR FOLDER\n",
    "os.chdir(pMR.petmr_data_path('mr'))\n",
    "print( pMR.petmr_data_path('mr'))"
   ]
  },
  {
   "cell_type": "markdown",
   "metadata": {},
   "source": [
    "### Undersampled Reconstruction\n",
    "#### Goals of this notebook:\n",
    "\n",
    "- Write a fully sampled reconstruction on our own.\n",
    "- Obtain knowledge of how to deal with undersampled data.\n",
    "- User SIRF and Gadgetron to perform a GRAPPA reconstruction.\n",
    "- Implement an iterative parallel imaging SENSE reconstruction algorithm from scratch.\n"
   ]
  },
  {
   "cell_type": "code",
   "execution_count": 4,
   "metadata": {},
   "outputs": [],
   "source": [
    "# This is just useful to plot data in a fix range\n",
    "def norm_array( arr ):\n",
    "    min_a = abs(arr).min()\n",
    "    max_a = abs(arr).max()\n",
    "    \n",
    "    return (arr - min_a)/(max_a - min_a)\n",
    "    "
   ]
  },
  {
   "cell_type": "markdown",
   "metadata": {},
   "source": [
    "### Time to get warmed up again:\n",
    "Since we deal with undersampled data in this last section, we need to compare it to a reference.\n",
    "So we need to reconstruct the fully sampled dataset we encountered before.\n",
    "\n",
    "This is an ideal opprotunity to test what we learned and employ the `pMR.FullSampledReconstructor` class from before."
   ]
  },
  {
   "cell_type": "markdown",
   "metadata": {},
   "source": [
    "### Programming Task: Fully sampled reconstruction\n",
    "\n",
    "__Please write code that does the following:__\n",
    "- create a variable called `full_acq_data` of type `pMR.AcquisitionData` from the file `ptb_resolutionphantom_fully_ismrmrd.h5`\n",
    "- create a variable called `prep_full_data` and assign it the preprocessed data by calling the function `pMR.preprocess_acquisition_data` on our variable `full_acq_data`\n",
    "- create a variable called `recon` of type `pMR.FullySampledReconstructor()`\n",
    "- call the `set_input` method of `recon` on `prep_full_data` to assign our fully sampled dataset to our reconstructor\n",
    "- call the `process()` method of `recon` without arguments. \n",
    "- create a variable called `fs_image` and assign it the output of the `get_output` method of `recon`\n",
    "\n",
    "__Hint:__ if you call a function without arguments, don't forget the empty parenthesis.\n",
    "\n",
    "#### Don't look at the solution before you tried! \n"
   ]
  },
  {
   "cell_type": "code",
   "execution_count": 5,
   "metadata": {},
   "outputs": [],
   "source": [
    "# YOUR CODE GOES HERE\n",
    "\n",
    "\n",
    "\n",
    "\n",
    "\n",
    "\n"
   ]
  },
  {
   "cell_type": "code",
   "execution_count": 6,
   "metadata": {},
   "outputs": [
    {
     "ename": "NameError",
     "evalue": "name 'fs_image' is not defined",
     "output_type": "error",
     "traceback": [
      "\u001b[0;31m---------------------------------------------------------------------------\u001b[0m",
      "\u001b[0;31mNameError\u001b[0m                                 Traceback (most recent call last)",
      "\u001b[0;32m<ipython-input-6-2803cd0969cc>\u001b[0m in \u001b[0;36m<module>\u001b[0;34m()\u001b[0m\n\u001b[1;32m      1\u001b[0m \u001b[0;31m# VALIDATION CELL\u001b[0m\u001b[0;34m\u001b[0m\u001b[0;34m\u001b[0m\u001b[0m\n\u001b[0;32m----> 2\u001b[0;31m \u001b[0mfs_image_array\u001b[0m \u001b[0;34m=\u001b[0m \u001b[0mfs_image\u001b[0m\u001b[0;34m.\u001b[0m\u001b[0mas_array\u001b[0m\u001b[0;34m(\u001b[0m\u001b[0;34m)\u001b[0m\u001b[0;34m\u001b[0m\u001b[0m\n\u001b[0m\u001b[1;32m      3\u001b[0m \u001b[0mfs_image_array\u001b[0m \u001b[0;34m=\u001b[0m \u001b[0mnorm_array\u001b[0m\u001b[0;34m(\u001b[0m\u001b[0mfs_image_array\u001b[0m\u001b[0;34m)\u001b[0m\u001b[0;34m\u001b[0m\u001b[0m\n\u001b[1;32m      4\u001b[0m \u001b[0;34m\u001b[0m\u001b[0m\n\u001b[1;32m      5\u001b[0m \u001b[0mplt\u001b[0m\u001b[0;34m.\u001b[0m\u001b[0mclose\u001b[0m\u001b[0;34m(\u001b[0m\u001b[0;34m)\u001b[0m\u001b[0;34m\u001b[0m\u001b[0m\n",
      "\u001b[0;31mNameError\u001b[0m: name 'fs_image' is not defined"
     ]
    }
   ],
   "source": [
    "# VALIDATION CELL\n",
    "fs_image_array = fs_image.as_array()\n",
    "fs_image_array = norm_array(fs_image_array)\n",
    "\n",
    "plt.close()\n",
    "fig = plt.figure()\n",
    "plt.set_cmap('gray')\n",
    "ax = fig.add_subplot(1,1,1)\n",
    "ax.imshow( abs(fs_image_array[0,:,:]), vmin=0, vmax=1)\n",
    "ax.set_title('Fully sampled reconstruction')\n",
    "ax.axis('off')"
   ]
  },
  {
   "cell_type": "code",
   "execution_count": 7,
   "metadata": {},
   "outputs": [],
   "source": [
    "# Solution Cell. Don't look if you didn't try!\n",
    "\n",
    "\n",
    "\n",
    "\n",
    "\n",
    "\n",
    "\n",
    "\n",
    "\n",
    "\n",
    "\n",
    "\n",
    "\n",
    "\n",
    "\n",
    "\n",
    "\n",
    "\n",
    "\n",
    "\n",
    "\n",
    "\n",
    "\n",
    "\n",
    "\n",
    "\n",
    "\n",
    "\n",
    "\n",
    "filename_full_file = 'ptb_resolutionphantom_fully_ismrmrd.h5'\n",
    "\n",
    "full_acq_data = pMR.AcquisitionData(filename_full_file)\n",
    "prep_full_data = pMR.preprocess_acquisition_data( full_acq_data )\n",
    "\n",
    "recon = pMR.FullySampledReconstructor()\n",
    "recon.set_input( prep_full_data )\n",
    "recon.process()\n",
    "fs_image = recon.get_output()"
   ]
  },
  {
   "cell_type": "code",
   "execution_count": 8,
   "metadata": {},
   "outputs": [
    {
     "data": {
      "text/plain": [
       "(-0.5, 255.5, 255.5, -0.5)"
      ]
     },
     "execution_count": 8,
     "metadata": {},
     "output_type": "execute_result"
    },
    {
     "data": {
      "image/png": "[encoded data removed]",
      "text/plain": [
       "<matplotlib.figure.Figure at 0x7f9d46981ed0>"
      ]
     },
     "metadata": {},
     "output_type": "display_data"
    }
   ],
   "source": [
    "# VALIDATION CELL\n",
    "fs_image_array = fs_image.as_array()\n",
    "fs_image_array = norm_array(fs_image_array)\n",
    "\n",
    "plt.close()\n",
    "fig = plt.figure()\n",
    "plt.set_cmap('gray')\n",
    "ax = fig.add_subplot(1,1,1)\n",
    "ax.imshow( abs(fs_image_array[0,:,:]), vmin=0, vmax=1)\n",
    "ax.set_title('Fully sampled reconstruction')\n",
    "ax.axis('off')"
   ]
  },
  {
   "cell_type": "code",
   "execution_count": 9,
   "metadata": {},
   "outputs": [],
   "source": [
    "def our_fft( k_array ):\n",
    "    image_array = numpy.zeros(k_array.shape, numpy.complex128)\n",
    "    for c in range(num_channels):\n",
    "        image_array[:,c,:] = numpy.fft.fftshift( numpy.fft.ifft2( numpy.fft.ifftshift(k_array[:,c,:])))\n",
    "#     image_array = image_array/image_array.max()    \n",
    "    image_array = numpy.sqrt(numpy.sum(numpy.square(numpy.abs(image_array)),1))\n",
    "     \n",
    "    return image_array"
   ]
  },
  {
   "cell_type": "code",
   "execution_count": 10,
   "metadata": {},
   "outputs": [],
   "source": [
    "# LOADING AND PREPROCESSING DATA FOR THIS SET\n",
    "filename_grappa_file = 'ptb_resolutionphantom_GRAPPA4_ismrmrd.h5'\n",
    "acq_data = pMR.AcquisitionData(filename_grappa_file)\n",
    "preprocessed_data = pMR.preprocess_acquisition_data(acq_data)\n",
    "preprocessed_data.sort()\n"
   ]
  },
  {
   "cell_type": "code",
   "execution_count": 11,
   "metadata": {},
   "outputs": [
    {
     "name": "stdout",
     "output_type": "stream",
     "text": [
      "Is the data we loaded undersampled? 1\n"
     ]
    }
   ],
   "source": [
    "print('Is the data we loaded undersampled? %s' % preprocessed_data.is_undersampled())"
   ]
  },
  {
   "cell_type": "code",
   "execution_count": 12,
   "metadata": {},
   "outputs": [
    {
     "name": "stdout",
     "output_type": "stream",
     "text": [
      "Size of k-space 112x4x256\n"
     ]
    }
   ],
   "source": [
    "#%% RETRIEVE K-SPACE DATA\n",
    "k_array = preprocessed_data.as_array()\n",
    "print('Size of k-space %dx%dx%d' % k_array.shape)"
   ]
  },
  {
   "cell_type": "code",
   "execution_count": 14,
   "metadata": {},
   "outputs": [
    {
     "name": "stdout",
     "output_type": "stream",
     "text": [
      "Size of k-space 112x4x256\n",
      "4\n"
     ]
    },
    {
     "data": {
      "image/png": "[encoded data removed]",
      "text/plain": [
       "<matplotlib.figure.Figure at 0x7f9d45f02a10>"
      ]
     },
     "metadata": {},
     "output_type": "display_data"
    }
   ],
   "source": [
    "#%% SELECT VIEW DATA FROM DIFFERENT COILS\n",
    "print('Size of k-space %dx%dx%d' % k_array.shape)\n",
    "\n",
    "num_channels = k_array.shape[1]\n",
    "print(num_channels)\n",
    "k_array = norm_array(k_array)\n",
    "\n",
    "plt.close()\n",
    "fig = plt.figure(1)\n",
    "plt.set_cmap('gray')\n",
    "for c in range(num_channels):\n",
    "    ax = fig.add_subplot(2,num_channels/2,c+1)\n",
    "    ax.imshow(abs(k_array[:,c,:]), vmin=0, vmax=0.05)\n",
    "    ax.set_title('Coil '+str(c+1))\n",
    "    ax.axis('off')\n"
   ]
  },
  {
   "cell_type": "markdown",
   "metadata": {},
   "source": [
    "This looks pretty similar to what we had before, so we should be good."
   ]
  },
  {
   "cell_type": "code",
   "execution_count": 15,
   "metadata": {},
   "outputs": [
    {
     "data": {
      "text/plain": [
       "(-0.5, 255.5, 255.5, -0.5)"
      ]
     },
     "execution_count": 15,
     "metadata": {},
     "output_type": "execute_result"
    },
    {
     "data": {
      "image/png": "[encoded data removed]",
      "text/plain": [
       "<matplotlib.figure.Figure at 0x7f9d45edb810>"
      ]
     },
     "metadata": {},
     "output_type": "display_data"
    }
   ],
   "source": [
    "# now we make a FFT of the data we looked at and compare it to our fully sampled image\n",
    "image_array_sos = our_fft( k_array )\n",
    "image_array_sos = norm_array(image_array_sos)\n",
    "\n",
    "\n",
    "plt.close()\n",
    "fig = plt.figure()\n",
    "ax = fig.add_subplot(1,2,1)\n",
    "ax.imshow(abs(image_array_sos), vmin=0, vmax=1)\n",
    "ax.set_title('Undersampled')\n",
    "ax.axis('off')\n",
    "\n",
    "ax = fig.add_subplot(1,2,2)\n",
    "ax.imshow(abs(fs_image_array[0,:,:]), vmin=0, vmax=1)\n",
    "ax.set_title('Fully sampled')\n",
    "ax.axis('off')\n"
   ]
  },
  {
   "cell_type": "markdown",
   "metadata": {},
   "source": [
    "### Question: \n",
    "Please answer the following question for yourself:\n",
    "- What differences appear between the two reconstructions?\n",
    " - What artifacts appear in the undersampled reconstruction?\n",
    " - Why is the undersampled reconstruction squeezed, but covers the whole FOV?\n",
    "- What parts of k-space do you expect to be missing in the undersampled dataset?"
   ]
  },
  {
   "cell_type": "code",
   "execution_count": 16,
   "metadata": {},
   "outputs": [
    {
     "name": "stdout",
     "output_type": "stream",
     "text": [
      "[0 4 8 12 16 20 24 28 32 36 40 44 48 52 56 60 64 68 72 76 80 84 88 92 96 97\n",
      " 98 99 100 101 102 103 104 105 106 107 108 109 110 111 112 113 114 115 116\n",
      " 117 118 119 120 121 122 123 124 125 126 127 128 129 130 131 132 133 134\n",
      " 135 136 137 138 139 140 141 142 143 144 145 146 147 148 149 150 151 152\n",
      " 153 154 155 156 157 158 159 160 164 168 172 176 180 184 188 192 196 200\n",
      " 204 208 212 216 220 224 228 232 236 240 244 248 252]\n"
     ]
    }
   ],
   "source": [
    "# NOW LET'S LOOK WHICH PARTS ARE SAMPLED AND WHICH ARE LEFT OUT\n",
    "# kspace_encode_step_1 gives the phase encoding steps which were performed\n",
    "which_pe = preprocessed_data.get_info('kspace_encode_step_1')\n",
    "\n",
    "\n",
    "print( which_pe )"
   ]
  },
  {
   "cell_type": "markdown",
   "metadata": {},
   "source": [
    "#### Observation: nearly every 4th phase encoding steps is missing."
   ]
  },
  {
   "cell_type": "code",
   "execution_count": 17,
   "metadata": {},
   "outputs": [
    {
     "data": {
      "text/plain": [
       "<matplotlib.text.Text at 0x7f9d45ff1b10>"
      ]
     },
     "execution_count": 17,
     "metadata": {},
     "output_type": "execute_result"
    },
    {
     "data": {
      "image/png": "[encoded data removed]",
      "text/plain": [
       "<matplotlib.figure.Figure at 0x7f9d45eea490>"
      ]
     },
     "metadata": {},
     "output_type": "display_data"
    }
   ],
   "source": [
    "# Fill an array with 1 only if a datapoint was acquired\n",
    "sampling_mask = numpy.zeros([256,256])\n",
    "\n",
    "for pe in which_pe:\n",
    "    sampling_mask[pe,:] = 1\n",
    "\n",
    "    \n",
    "\n",
    "# PLOT THE SAMPLING MASK    \n",
    "plt.close()\n",
    "fig = plt.figure(1)\n",
    "plt.set_cmap('gray')\n",
    "ax = fig.add_subplot(1,1,1)\n",
    "ax.imshow( sampling_mask, vmin=0, vmax=1)\n",
    "ax.set_title('Sampling pattern of a GRAPPA acquisition')\n",
    "plt.xlabel('Frequency encoding')\n",
    "plt.ylabel('Phase encoding')\n",
    "#ax.axis('off')"
   ]
  },
  {
   "cell_type": "markdown",
   "metadata": {},
   "source": [
    "We notice that $112 = \\frac{256}{4} + 48$.\n",
    "This means the around the center of k-space is densely sampled containing 48 readout lines.\n",
    "The outside of k-space is undersampled by a factor of 4."
   ]
  },
  {
   "cell_type": "markdown",
   "metadata": {},
   "source": [
    "### Workaround: 'zero-fill' the k-space data\n",
    "Since the artifacts seem to be related to the shape of the data, let's just change that shape into the one we want.\n",
    "\n",
    "But can we just add datapoints? This will corrupt the data!\n",
    "\n",
    "Actually, a Fourier transform is just a sum weighted by a phase:\n",
    "\n",
    "$$\n",
    "f(x) = \\sum_k e^{j k x} \\cdot F(k)\n",
    "$$\n",
    "\n",
    "So it does not mind if we add a data point $F(k) = 0$ at a position we didn't sample!\n",
    "\n",
    "This means we make a larger array, __add our data in the correct spots__, and the gaps we fill with zeros. The correct spots are given by our sampling mask!"
   ]
  },
  {
   "cell_type": "code",
   "execution_count": 18,
   "metadata": {},
   "outputs": [
    {
     "data": {
      "image/png": "[encoded data removed]",
      "text/plain": [
       "<matplotlib.figure.Figure at 0x7f9d4604b450>"
      ]
     },
     "metadata": {},
     "output_type": "display_data"
    }
   ],
   "source": [
    "k_shape = [sampling_mask.shape[0], num_channels, sampling_mask.shape[1]]\n",
    "zf_k_array = numpy.zeros(k_shape, numpy.complex128)\n",
    "\n",
    "for i in range(k_array.shape[0]):\n",
    "    zf_k_array[which_pe[i],:,:] = k_array[i,:,:]\n",
    "\n",
    "\n",
    "fig = plt.figure()\n",
    "plt.set_cmap('gray')\n",
    "for c in range(num_channels):\n",
    "    ax = fig.add_subplot(2,num_channels/2,c+1)\n",
    "    ax.imshow(abs(zf_k_array[:,c,:]), vmin=0, vmax=0.05)\n",
    "    ax.set_title('Coil '+str(c+1))\n",
    "    ax.axis('off')\n",
    "    \n",
    "    \n",
    "    "
   ]
  },
  {
   "cell_type": "code",
   "execution_count": 21,
   "metadata": {},
   "outputs": [
    {
     "data": {
      "text/plain": [
       "(-0.5, 255.5, 255.5, -0.5)"
      ]
     },
     "execution_count": 21,
     "metadata": {},
     "output_type": "execute_result"
    }
   ],
   "source": [
    "# Reconstruct the zero-filled data and take a look\n",
    "zf_recon = our_fft( zf_k_array)\n",
    "zf_recon = norm_array(zf_recon)\n",
    "\n",
    "\n",
    "fig = plt.figure()\n",
    "ax = fig.add_subplot(1,2,1)\n",
    "ax.imshow(abs(zf_recon), vmin=0, vmax=1)\n",
    "ax.set_title('Zero-filled Undersampled ')\n",
    "ax.axis('off')\n",
    "\n",
    "\n",
    "ax = fig.add_subplot(1,2,2)\n",
    "ax.imshow(abs(fs_image_array[0,:,:]), vmin=0, vmax=1)\n",
    "ax.set_title('Fully Sampled ')\n",
    "ax.axis('off')\n"
   ]
  },
  {
   "cell_type": "markdown",
   "metadata": {},
   "source": [
    "### Observation: \n",
    "Bummer. Now the shape is correct, however the artifacts are still present. To get rid of these we will need some parallel imaging techniques.\n"
   ]
  },
  {
   "cell_type": "markdown",
   "metadata": {},
   "source": [
    "### Coilsensitivity computation\n",
    "On the topic of parallel imaging, this has something to do with exploiting the spatially varying coil sensitivities.  \n",
    "\n",
    "\n",
    "\n",
    "__Note: __\n",
    "\n"
   ]
  },
  {
   "cell_type": "code",
   "execution_count": 22,
   "metadata": {},
   "outputs": [],
   "source": [
    "# WHICH COILMAPS DO WE GET FROM THIS DATASET?\n",
    "csm = pMR.CoilSensitivityData()\n",
    "csm.smoothness = 40\n",
    "csm.calculate(preprocessed_data)\n",
    "csm_array = numpy.squeeze(csm.as_array(0))\n",
    "\n",
    "csm_array = csm_array.transpose([1,0,2])\n",
    "\n",
    "fig = plt.figure()\n",
    "plt.set_cmap('jet')\n",
    "for c in range(csm_array.shape[1]):\n",
    "    ax = fig.add_subplot(2,num_channels/2,c+1)\n",
    "    ax.imshow(abs(csm_array[:,c,:]))\n",
    "    ax.set_title('Coil '+str(c+1))\n",
    "    ax.axis('off')\n",
    "plt.set_cmap('gray')"
   ]
  },
  {
   "cell_type": "markdown",
   "metadata": {},
   "source": [
    "### Question: \n",
    "Please answer the following questions:\n",
    "In practice we would want to use a weighted sum (WS) coil combination technique so any artifact.\n",
    "Artifacts in the coilmap would directly translate into the combined image.\n",
    "\n",
    "- Why are there are artifacts in the reconstruction but they not in the coilmaps? \n",
    "- Why can the coilmaps be estimated despite having only fully sampled  k-space information in the k-space center?\n"
   ]
  },
  {
   "cell_type": "markdown",
   "metadata": {},
   "source": [
    "We learned before, that parallel imaging is easily able to get rid of undersampling factor R=4.\n",
    "But to have enough information to estimate coilmaps the center must be fully sampled.\n",
    "\n",
    "This looked very bad. So to compute good coil sensitivity maps it is very important to have information from the k-space center available. So a perfect acceleration by R=4 is not possible, one needs to spends some time to sample the center densely, to obtain coil sensitivities. Still, $\\frac{112}{256} = 0.44$, we acquired 56% faster.\n",
    "\n",
    "### GRAPPA Reconstruction\n",
    "GRAPPA is a parallel imaging technique which promises to get rid of undersampling artifacts.  \n",
    "So let's use one of our SIRF classes and see what it can do!"
   ]
  },
  {
   "cell_type": "code",
   "execution_count": 23,
   "metadata": {},
   "outputs": [
    {
     "name": "stdout",
     "output_type": "stream",
     "text": [
      "---\n",
      " reconstructing...\n"
     ]
    }
   ],
   "source": [
    "# WE DO A GRAPPA RECONSTRUCTION USING SIRF\n",
    "\n",
    "recon = pMR.CartesianGRAPPAReconstructor()\n",
    "recon.set_input(preprocessed_data)\n",
    "recon.compute_gfactors(False)\n",
    "print('---\\n reconstructing...')\n",
    "\n",
    "recon.process()\n",
    "# for undersampled acquisition data GRAPPA computes Gfactor images\n",
    "# in addition to reconstructed ones\n",
    "grappa_images = recon.get_output()\n",
    "grappa_images_array = grappa_images.as_array()\n",
    "grappa_images_array = norm_array(grappa_images_array)"
   ]
  },
  {
   "cell_type": "code",
   "execution_count": 24,
   "metadata": {},
   "outputs": [
    {
     "data": {
      "text/plain": [
       "(-0.5, 255.5, 255.5, -0.5)"
      ]
     },
     "execution_count": 24,
     "metadata": {},
     "output_type": "execute_result"
    }
   ],
   "source": [
    "# PLOT THE RESULTS\n",
    "plt.close()\n",
    "fig = plt.figure()\n",
    "\n",
    "ax = fig.add_subplot(1,3,1)\n",
    "ax.imshow(abs(zf_recon), vmin=0, vmax=1)\n",
    "ax.set_title('Zero-filled Undersampled ')\n",
    "ax.axis('off')\n",
    "\n",
    "ax = fig.add_subplot(1,3,2)\n",
    "ax.imshow(abs(grappa_images_array[0,:,:]), vmin=0, vmax=1)\n",
    "ax.set_title('GRAPPA')\n",
    "ax.axis('off')\n",
    "\n",
    "ax = fig.add_subplot(1,3,3)\n",
    "ax.imshow(abs(fs_image_array[0,:,:]), vmin=0, vmax=1)\n",
    "ax.set_title('Fully Sampled')\n",
    "ax.axis('off')"
   ]
  },
  {
   "cell_type": "markdown",
   "metadata": {},
   "source": [
    "### Question:\n",
    "Well, that was very little code to perform a difficult task! That is because we sent our data off to The Gadgetron and they did all the work.\n",
    "\n",
    "In what respect did a GRAPPA reconstruction:\n",
    "\n",
    " * improve the resulting image?\n",
    " * deterioate the resulting image?\n"
   ]
  },
  {
   "cell_type": "markdown",
   "metadata": {},
   "source": [
    "# GREAT! Now we want to develop our own algorithm and be better than the GRAPPA reconstruction!\n",
    "## Urgh, let's rather not because we are so annoyed at how much code we have to write all the time!\n",
    "### Enter: AcquisitionModel\n",
    "\n",
    "We want to capture our entire imaging and reconstruction process in one single object and don't care about data structure. Also we don't want to have to sum over coil channels all the time and take care of zero filling, this is just too much work!  \n",
    "\n",
    "In SIRF there exists something called AcquisitionModel, in the literature also referenced as and Encoding operator $E$, E for encoding.\n",
    "\n",
    "From an image $x$, we want to be able to go __forward__ into k-space\n",
    "$$ E: x \\rightarrow y $$\n",
    "implicitly performing multiplication of the image with the coil sensitivities $C_c$ for each channel $c$ and performing an FFT:\n",
    "\n",
    "$$\n",
    "E x = y_c = \\mathcal{F}( C_c \\cdot x) \n",
    "$$\n",
    "\n",
    "From k-space data, we want to __backward__ into image space, doing the zero-filling, inverse FFT, and coil combination as one single operation:\n",
    "$$ E^H: y \\rightarrow x $$\n",
    ", implicitly performing everything:  \n",
    "$$\n",
    "E^H y = x =  \\frac{\\sum_c C_c^*\\mathcal{F}^{-1}(y) }{\\sum_c C_c^*C_c}\n",
    "$$\n",
    "\n",
    "$E^H$ in this case is the hermitian conjugate of the complex valued operator $E$. It is the combination of transposing and complex conjugation of a matrix: $ E^H = (E^T)^*. For real matrices this reduces to just transposition.\n",
    "\n"
   ]
  },
  {
   "cell_type": "code",
   "execution_count": 25,
   "metadata": {},
   "outputs": [],
   "source": [
    "# NOW WE GENERATE THE E OPERATOR FROM ABOVE AND ASSIGN OUR COIL SENSITIVITIES\n",
    "E = pMR.AcquisitionModel(preprocessed_data, grappa_images)\n",
    "E.set_coil_sensitivity_maps(csm)\n",
    "\n",
    "# Now we can hop back from k-space to image space in just one line:\n",
    "aq_model_image = E.backward( preprocessed_data )\n",
    "aq_model_image_array = aq_model_image.as_array()\n",
    "\n"
   ]
  },
  {
   "cell_type": "markdown",
   "metadata": {},
   "source": [
    "Well this is not much code any more. Suddenly implementing our own iterative algorithm seems feasible!\n",
    "### QUESTION\n",
    "BEFORE YOU RUN THE NEXT CELL AND LOOK AT THE PLOT:\n",
    "In the next plot the image stored in `aq_model_image_array` will be shown, i.e. $x = E^H y$.  \n",
    "Based on the discussion what the AcquisitionModel E does, what do you expect the reconstruction to look like?\n",
    "- Is it squeezed or is it the correct size?\n",
    "- Does it contain artifacts? If so, which ones?"
   ]
  },
  {
   "cell_type": "code",
   "execution_count": 26,
   "metadata": {
    "scrolled": true
   },
   "outputs": [
    {
     "data": {
      "text/plain": [
       "(-0.5, 255.5, 255.5, -0.5)"
      ]
     },
     "execution_count": 26,
     "metadata": {},
     "output_type": "execute_result"
    }
   ],
   "source": [
    "fig = plt.figure()\n",
    "plt.set_cmap('gray')\n",
    "ax = fig.add_subplot(1,1,1)\n",
    "ax.imshow(abs(aq_model_image_array[0,:,:]))\n",
    "ax.set_title('Result Backward Method of E ')\n",
    "ax.axis('off')"
   ]
  },
  {
   "cell_type": "markdown",
   "metadata": {},
   "source": [
    "__Well, bummer again, the artifacts are still there!__ Of course, the acquisition model is just a compact version of our above code. We need something smarter to kill them off. But it got a bit more homogeneous, due to the weighted coil combination. "
   ]
  },
  {
   "cell_type": "markdown",
   "metadata": {},
   "source": [
    "# Conjugate Gradient SENSE\n",
    "## Iterative Parallel Imaging Reconstruction\n",
    "\n",
    "In order to employ parallel imagaing, we should look at image reconstruction as an inverse problem.\n",
    "By \"image reconstruction\" we actually mean to achieve the following equality:\n",
    "$$ E x = y $$, or equivalently\n",
    "$$ E^H E x = E^H y$$ \n",
    "where $E$ is the encoding operator $x$ is the true image object and $y$ is the MR raw data we acquired. \n",
    "The task of image reconstruction boils down to optimizing the following function:\n",
    "$$ \\mathcal{C}(x) = \\frac{1}{2} \\bigl{|} \\bigl{|}  E x - y \\bigr{|} \\bigr{|}_2  \\\\\n",
    "\\tilde{x} = \\min_x \\mathcal{C}(x)\n",
    "$$\n"
   ]
  },
  {
   "cell_type": "markdown",
   "metadata": {},
   "source": [
    "## How to implement Conjugate Gradient Descent SENSE\n",
    "Is that going to be better than a GRAPPA reconstruction? \n",
    "For that we need to write a bit of code:\n",
    "- We already have this encoding operator `E` defined.\n",
    "- Now we need to use it to iteratively optimize our cost function with a conjugate gradient descent optimization.\n",
    "\n",
    "To this end we can study the corresponding [Wikipedia Article](https://en.wikipedia.org/wiki/Conjugate_gradient_method#Description_of_the_problem_addressed_by_conjugate_gradients).\n",
    "\n",
    "This looks like our thang! We don't care too much about maths, but we want the [algorithm](https://en.wikipedia.org/wiki/Conjugate_gradient_method#The_resulting_algorithm).\n",
    "\n",
    "\n",
    "They want to compute x in $Ax = b$, we want to compute x in $E^H E x = E^H y$.  \n",
    "This means we need to translate what it says on Wikipedia:\n",
    "- $A$ = $E^HE$\n",
    "- $b$ = $E y$\n",
    "\n",
    "__Note:__ We see that the the matrix $(E^H E)^H = E^H E$ is invariant under hermitian conjugation. This is a requirement (symmetry) for the conjugate gradient method to work. That is why we use the seemingly unnecessarily complicated version of $A$ instead of setting $A=E$."
   ]
  },
  {
   "cell_type": "markdown",
   "metadata": {},
   "source": [
    "### Programming task\n",
    "Please write code executing the following task:\n",
    "- define a fuction named `A_operator`\n",
    "- it should have one single argument `image`\n",
    "- it should return $E^H( E (image))$  \n",
    "\n",
    "__Hint 1:__ We defined `E` already. Use it methods `forward` and `backward`. `forward` goes from image space to k-space and `backward` the other way round.  \n",
    "__Hint 2:__ Short reminder on the syntax. The function should look like: \n",
    "```\n",
    "def function_name( arugment_name):\n",
    "    variable = code_that_does_something_with ( argument_name )\n",
    "    return variable\n",
    "```"
   ]
  },
  {
   "cell_type": "code",
   "execution_count": 27,
   "metadata": {},
   "outputs": [],
   "source": [
    "# Write your code here (this is as much space as you need!)\n",
    "# make sure the name of your function is A_operator\n",
    "\n",
    "\n",
    "\n"
   ]
  },
  {
   "cell_type": "code",
   "execution_count": 28,
   "metadata": {},
   "outputs": [],
   "source": [
    "# Don't look at the solution before you tried! \n",
    "\n",
    "\n",
    "\n",
    "\n",
    "\n",
    "\n",
    "\n",
    "\n",
    "\n",
    "\n",
    "\n",
    "\n",
    "\n",
    "\n",
    "\n",
    "\n",
    "\n",
    "\n",
    "\n",
    "\n",
    "\n",
    "\n",
    "\n",
    "\n",
    "\n",
    "\n",
    "\n",
    "\n",
    "\n",
    "\n",
    "\n",
    "\n",
    "\n",
    "\n",
    "\n",
    "\n",
    "\n",
    "\n",
    "\n",
    "\n",
    "\n",
    "\n",
    "\n",
    "\n",
    "\n",
    "\n",
    "\n",
    "\n",
    "\n",
    "\n",
    "# We define a function to save some work\n",
    "def A_operator( image ):\n",
    "    return E.backward( E.forward(image) )"
   ]
  },
  {
   "cell_type": "markdown",
   "metadata": {},
   "source": [
    "#### Back to Wikipedia!\n",
    "Now we have all the tools we need. Now let's write the code to optimize our cost function iteratively.\n"
   ]
  },
  {
   "cell_type": "code",
   "execution_count": 29,
   "metadata": {},
   "outputs": [],
   "source": [
    "# our images should be the same shape as the GRAPPA outout\n",
    "recon_img =  grappa_images \n",
    "\n",
    "# but we want to start from zero\n",
    "zero_array = recon_img.as_array()\n",
    "zero_array.fill(0)\n",
    "recon_img.fill(zero_array)\n",
    "\n",
    "# now name the variables the same as in the Wikipedia article:\n",
    "x = recon_img\n",
    "y = preprocessed_data\n"
   ]
  },
  {
   "cell_type": "markdown",
   "metadata": {},
   "source": [
    "### Programming task: Initialize Iterative Reconstruction\n",
    "Please write code executing the following task:\n",
    "- Initialize a variable `r` with `r` = $b - Ax$ (`r` stands for residual). Remember: $b=Ey$.\n",
    "- Print the type of `r` using Pythons built-in `type()` and `print` function. What type of r do you expect? Is it an image, or is it acquisition data?\n",
    "- After you wrote these two lines run your cell pressing `Ctrl+Enter`, to get the output of the print statement.\n",
    "- Afterwards, initialize a variable named `rr` with `rr` = $r^\\dagger r$. (`rr` stands for r times r).  This is the value of the cost function by the way.\n",
    "__Hint 1:__ No need to access any numpy arrays! Objects of type `sirf.Gadgetron.ImageData` have the method called ` norm()` giving you the square root of the quanitity we are looking for.  \n",
    "__Hint 2:__ Python-Power: $c=a^b$ $\\equiv$ `c= a**b`.  \n",
    "- Initialize a variable `rr0` with the value of `rr` to store the starting norm of the residuals.\n",
    "- Initialize a variable `p` with the value of `r`."
   ]
  },
  {
   "cell_type": "code",
   "execution_count": 30,
   "metadata": {},
   "outputs": [],
   "source": [
    "## WRITE YOUR CODE IN THIS CELL\n",
    "## Please make sure to name the variables correctly\n",
    "\n",
    "\n"
   ]
  },
  {
   "cell_type": "code",
   "execution_count": 31,
   "metadata": {},
   "outputs": [
    {
     "name": "stdout",
     "output_type": "stream",
     "text": [
      "The type of r is: <class 'sirf.Gadgetron.ImageData'>\n"
     ]
    }
   ],
   "source": [
    "##### Don't look at the solution before you tried! #############################\n",
    "\n",
    "\n",
    "\n",
    "\n",
    "\n",
    "\n",
    "\n",
    "\n",
    "\n",
    "\n",
    "\n",
    "\n",
    "\n",
    "\n",
    "\n",
    "\n",
    "\n",
    "\n",
    "\n",
    "\n",
    "\n",
    "\n",
    "\n",
    "\n",
    "\n",
    "\n",
    "\n",
    "\n",
    "\n",
    "\n",
    "\n",
    "\n",
    "\n",
    "\n",
    "\n",
    "\n",
    "\n",
    "\n",
    "\n",
    "\n",
    "\n",
    "\n",
    "\n",
    "\n",
    "\n",
    "\n",
    "\n",
    "\n",
    "\n",
    "############################################################################\n",
    "# this is our first residual\n",
    "r = E.backward( y ) - A_operator(x)\n",
    "\n",
    "# print the type\n",
    "print('The type of r is: ' + str( type(r) ) ) \n",
    "\n",
    "# this is our cost function at the start\n",
    "rr = r.norm() ** 2\n",
    "rr0 = rr\n",
    "\n",
    "# intialize p\n",
    "p = r\n"
   ]
  },
  {
   "cell_type": "code",
   "execution_count": 32,
   "metadata": {},
   "outputs": [],
   "source": [
    "# now we write down the algorithm\n",
    "\n",
    "# how many iterative steps do we want\n",
    "# how low should the cost be\n",
    "num_iter = 15\n",
    "sufficiently_small = 1e-3"
   ]
  },
  {
   "cell_type": "code",
   "execution_count": 33,
   "metadata": {},
   "outputs": [],
   "source": [
    "plot_iterations = True\n",
    "if plot_iterations is True:\n",
    "    fig = plt.figure()\n",
    "    plt.set_cmap('gray')\n",
    "    \n",
    "    "
   ]
  },
  {
   "cell_type": "code",
   "execution_count": 34,
   "metadata": {},
   "outputs": [
    {
     "name": "stdout",
     "output_type": "stream",
     "text": [
      "Cost for k = 0: 1.0\n",
      "Cost for k = 1: 0.020607007219\n"
     ]
    },
    {
     "name": "stderr",
     "output_type": "stream",
     "text": [
      "/usr/lib/python2.7/dist-packages/matplotlib/backend_bases.py:2437: MatplotlibDeprecationWarning: Using default event loop until function specific to this GUI is implemented\n",
      "  warnings.warn(str, mplDeprecation)\n"
     ]
    },
    {
     "name": "stdout",
     "output_type": "stream",
     "text": [
      "Cost for k = 2: 0.0108297222831\n",
      "Cost for k = 3: 0.00599179667357\n",
      "Cost for k = 4: 0.00533341777051\n",
      "Cost for k = 5: 0.00418717616356\n",
      "Cost for k = 6: 0.00337405038037\n",
      "Cost for k = 7: 0.00304747937397\n",
      "Cost for k = 8: 0.00269397774071\n",
      "Cost for k = 9: 0.00241138422327\n",
      "Cost for k = 10: 0.00228007663133\n",
      "Cost for k = 11: 0.00209601244588\n",
      "Cost for k = 12: 0.00191495039244\n",
      "Cost for k = 13: 0.00172858549888\n",
      "Cost for k = 14: 0.00157848384451\n",
      "Cost for k = 15: 0.00141378018371\n"
     ]
    }
   ],
   "source": [
    "# HERE WE RUN THE LOOP.\n",
    "\n",
    "print('Cost for k = 0: '  + str( rr/ rr0) )\n",
    "\n",
    "for k in range(num_iter):\n",
    "    \n",
    "    Ap = A_operator( p )\n",
    "       \n",
    "    alpha = rr / numpy.sum( (numpy.conj(p.as_array())) * Ap.as_array() ) \n",
    "    \n",
    "    x = x + alpha * p\n",
    "    \n",
    "    r = r - alpha * Ap\n",
    "   \n",
    "    beta  = r.norm()**2 / rr\n",
    "    rr = r.norm()**2\n",
    "    \n",
    "    p = r + beta * p\n",
    "    \n",
    "    cost_function = numpy.sqrt(rr/rr0)\n",
    "    print('Cost for k = ' +str(k+1) + ': ' + str(cost_function) )\n",
    "    if( cost_function  < sufficiently_small ):\n",
    "        print( 'We achieved our desired accuracy. Stopping iterative reconstruction' )\n",
    "        break\n",
    "    \n",
    "    \n",
    "    if plot_iterations is True:\n",
    "        recon_arr = abs( norm_array( x.as_array()) )\n",
    "\n",
    "        if k is 0:\n",
    "            ay = plt.imshow(recon_arr[0,:,:])\n",
    "        else:\n",
    "            ay.set_data(recon_arr[0,:,:])\n",
    "        \n",
    "#         ay.set_title('SENSE RECONSTRUCTION ITERATION: ' + str(k))\n",
    "#         ay.axis('off')\n",
    "        \n",
    "        plt.pause(0.5)\n",
    "        plt.draw()\n",
    "        \n",
    "if k is num_iter-1:    \n",
    "    print('Reached maximum number of iterations. Stopping reconstruciton.')"
   ]
  },
  {
   "cell_type": "code",
   "execution_count": 35,
   "metadata": {},
   "outputs": [
    {
     "name": "stdout",
     "output_type": "stream",
     "text": [
      "Reached maximum number of iterations. Stopping reconstruciton.\n"
     ]
    }
   ],
   "source": []
  },
  {
   "cell_type": "code",
   "execution_count": 36,
   "metadata": {},
   "outputs": [
    {
     "data": {
      "text/plain": [
       "(-0.5, 255.5, 255.5, -0.5)"
      ]
     },
     "execution_count": 36,
     "metadata": {},
     "output_type": "execute_result"
    }
   ],
   "source": [
    "\n",
    "recon_arr = norm_array( x.as_array())\n",
    "\n",
    "plt.set_cmap('gray')\n",
    "fig = plt.figure(5)\n",
    "ax = fig.add_subplot(1,1,1)\n",
    "ax.imshow(abs(recon_arr[0,:,:]))\n",
    "ax.set_title('SENSE RECONSTRUCTION')\n",
    "ax.axis('off')"
   ]
  },
  {
   "cell_type": "code",
   "execution_count": 37,
   "metadata": {},
   "outputs": [
    {
     "data": {
      "text/plain": [
       "(-0.5, 255.5, 255.5, -0.5)"
      ]
     },
     "execution_count": 37,
     "metadata": {},
     "output_type": "execute_result"
    }
   ],
   "source": [
    "# Let's Plot\n",
    "recon_arr = x.as_array()\n",
    "\n",
    "plt.close()\n",
    "fig = plt.figure()\n",
    "\n",
    "ax = fig.add_subplot(2,2,1)\n",
    "ax.imshow(abs(aq_model_image_array[0,:,:]))\n",
    "ax.set_title('UNDERSAMPLED RECONSTRUCTION')\n",
    "ax.axis('off')\n",
    "\n",
    "ax = fig.add_subplot(2,2,2)\n",
    "ax.imshow(abs(grappa_images_array[0,:,:]))\n",
    "ax.set_title('GRAPPA RECONSTRUCTION')\n",
    "ax.axis('off')\n",
    "\n",
    "ax = fig.add_subplot(2,2,3)\n",
    "ax.imshow(abs(recon_arr[0,:,:]))\n",
    "ax.set_title('SENSE RECONSTRUCTION')\n",
    "ax.axis('off')\n",
    "\n",
    "ax = fig.add_subplot(2,2,4)\n",
    "ax.imshow(abs(fs_image_array[0,:,:]))\n",
    "ax.set_title('FULLY SAMPLED RECONSTRUCTION')\n",
    "ax.axis('off')\n",
    "\n"
   ]
  },
  {
   "cell_type": "markdown",
   "metadata": {},
   "source": [
    "### Question: Evaluation SENSE Reconstruction\n",
    "Well the image quality is not ideal, but most of the artifacts are gone.\n",
    "Please answer the following questions:\n",
    "- Where is the noise coming from? \n",
    "- What could be the reason that not every artifact has vanished?"
   ]
  },
  {
   "cell_type": "markdown",
   "metadata": {},
   "source": [
    "And if you had typed the above code into your computer in 2001 and written a [paper](https://scholar.google.de/scholar?hl=de&as_sdt=0%2C5&q=Advances+in+sensitivity+encoding+with+arbitrary+k%E2%80%90space+trajectories&btnG=) on it, then 18 years later you had 1000 citations (plus 5992 citations from the [previous one](https://scholar.google.de/scholar?hl=de&as_sdt=0%2C5&q=SENSE%3A+sensitivity+encoding+for+fast+MRI&btnG=)).\n",
    "\n"
   ]
  },
  {
   "cell_type": "markdown",
   "metadata": {},
   "source": [
    "### Undersampled Reconstruction\n",
    "#### Recap:\n",
    "\n",
    "In this notebook you\n",
    "- wrote your own fully sampled recon using SIRF.\n",
    "- saw the undersampling structure of GRAPPA files\n",
    "- discovered high-freuency undersampling artifacts.\n",
    "- saw why it is important to fully sample the center in parallel imaging.\n",
    "- implemented our own version of SENSE and beat GRAPPA.\n"
   ]
  },
  {
   "cell_type": "markdown",
   "metadata": {},
   "source": [
    "### Fin\n",
    "\n",
    "This was the last exercise. We hoped you learned some new things about MRI and had a pleasant experience with SIRF and Python.  \n",
    "See you soon!\n"
   ]
  },
  {
   "cell_type": "code",
   "execution_count": null,
   "metadata": {},
   "outputs": [],
   "source": []
  }
 ],
 "metadata": {
  "kernelspec": {
   "display_name": "Python 2",
   "language": "python",
   "name": "python2"
  },
  "language_info": {
   "codemirror_mode": {
    "name": "ipython",
    "version": 2
   },
   "file_extension": ".py",
   "mimetype": "text/x-python",
   "name": "python",
   "nbconvert_exporter": "python",
   "pygments_lexer": "ipython2",
   "version": "2.7.12"
  }
 },
 "nbformat": 4,
 "nbformat_minor": 2
}

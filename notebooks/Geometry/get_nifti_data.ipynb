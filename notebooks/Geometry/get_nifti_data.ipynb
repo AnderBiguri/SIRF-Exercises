{
 "cells": [
  {
   "cell_type": "markdown",
   "id": "414efabd",
   "metadata": {},
   "source": [
    "## Data for the Geometry notebooks\n",
    "[![DOI](https://zenodo.org/badge/DOI/10.5281/zenodo.4940072.svg)](https://doi.org/10.5281/zenodo.4940072)\n",
    "\n",
    "The data is available on Zenodo in a file called `nifti.zip`. Here this is downloaded and unzipped. Unzipping should automatically create the folder `nifti`. Running the cell below should do this for you, though the download folder name may need editing first. You only need to run this once."
   ]
  },
  {
   "cell_type": "code",
   "execution_count": null,
   "id": "adb7182c",
   "metadata": {},
   "outputs": [],
   "source": [
    "# Change to folder for download location, get data, unzip and change directory back\n",
    "# curl will only download into the current directory\n",
    "\n",
    "import os\n",
    "cwd = os.getcwd()   # save current folder\n",
    "os.chdir(\"/devel\")  # Change to download folder. For Docker, this is /devel\n",
    "\n",
    "!curl -O https://zenodo.org/record/4940072/files/nifti.zip\n",
    "!unzip nifti.zip\n",
    "\n",
    "os.chdir(cwd)       # change back to original folder"
   ]
  },
  {
   "cell_type": "markdown",
   "id": "71e3887f",
   "metadata": {},
   "source": [
    "Note: The zip file was created in a Mac terminal using the command:  `zip -r nifti.zip nifti/* -x \"__MACOSX\" -x \".DS_Store\"`."
   ]
  }
 ],
 "metadata": {
  "kernelspec": {
   "display_name": "Python 3",
   "language": "python",
   "name": "python3"
  },
  "language_info": {
   "codemirror_mode": {
    "name": "ipython",
    "version": 3
   },
   "file_extension": ".py",
   "mimetype": "text/x-python",
   "name": "python",
   "nbconvert_exporter": "python",
   "pygments_lexer": "ipython3",
   "version": "3.8.10"
  }
 },
 "nbformat": 4,
 "nbformat_minor": 5
}

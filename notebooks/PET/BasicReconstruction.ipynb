{
  "nbformat": 3, 
  "worksheets": [
    {
      "cells": [
        {
          "cell_type": "code", 
          "language": "python", 
          "input": [
            "# -*- coding: utf-8 -*-\n", 
            "###\n", 
            "# Demonstration of basic PET capabilities with SIRF: \n", 
            "# basic OSEM reconstruction, projection with a (slightly) more sophisticated acquisition model\n", 
            "##\n", 
            "# This demo is a 'script', i.e. intended to be run step by step in a \n", 
            "# Python IDE such as spyder. It is organised in 'cells'. spyder displays these\n", 
            "# cells nicely and allows you to run each cell on its own.\n", 
            "#\n", 
            "# WARNING: This script assumes you have run the display_and_projection.py demo first!\n", 
            "#\n", 
            "# Author: Kris Thielemans\n", 
            "# Author: Evgueni Ovtchinnikov\n", 
            "#\n", 
            "## CCP PETMR Synergistic Image Reconstruction Framework (SIRF)\n", 
            "## Copyright 2015 - 2017 Rutherford Appleton Laboratory STFC\n", 
            "## Copyright 2015 - 2017 University College London.\n", 
            "##\n", 
            "## This is software developed for the Collaborative Computational\n", 
            "## Project in Positron Emission Tomography and Magnetic Resonance imaging\n", 
            "## (http://www.ccppetmr.ac.uk/).\n", 
            "##\n", 
            "## Licensed under the Apache License, Version 2.0 (the \"License\");\n", 
            "##   you may not use this file except in compliance with the License.\n", 
            "##   You may obtain a copy of the License at\n", 
            "##       http://www.apache.org/licenses/LICENSE-2.0\n", 
            "##   Unless required by applicable law or agreed to in writing, software\n", 
            "##   distributed under the License is distributed on an \"AS IS\" BASIS,\n", 
            "##   WITHOUT WARRANTIES OR CONDITIONS OF ANY KIND, either express or implied.\n", 
            "##   See the License for the specific language governing permissions and\n", 
            "##   limitations under the License.\n", 
            "\n"
          ], 
          "outputs": [], 
          "collapsed": false, 
          "metadata": {}
        }, 
        {
          "cell_type": "code", 
          "language": "python", 
          "input": [
            "#%% just check if you ran the previous demo\n", 
            "if 'image' in globals():\n", 
            "    print('Ok, we can proceed')\n", 
            "else:\n", 
            "    print('This script assumes you have run the display_and_projection.py demo first!')\n", 
            "\n"
          ], 
          "outputs": [], 
          "collapsed": false, 
          "metadata": {}
        }, 
        {
          "cell_type": "code", 
          "language": "python", 
          "input": [
            "#%% Import some extra functions\n", 
            "from pUtilities import show_2D_array, show_3D_array\n", 
            "\n"
          ], 
          "outputs": [], 
          "collapsed": false, 
          "metadata": {}
        }, 
        {
          "cell_type": "code", 
          "language": "python", 
          "input": [
            "#%% Do a forward projection of our image\n", 
            "am = pet.AcquisitionModelUsingRayTracingMatrix()\n", 
            "am.set_up(templ,image); \n", 
            "acquired_data=am.forward(image)\n"
          ], 
          "outputs": [], 
          "collapsed": false, 
          "metadata": {}
        }, 
        {
          "cell_type": "code", 
          "language": "python", 
          "input": [
            "#%% create objective function\n", 
            "obj_fun = pet.make_Poisson_loglikelihood(acquired_data)\n", 
            "obj_fun.set_acquisition_model(am)\n", 
            "\n"
          ], 
          "outputs": [], 
          "collapsed": false, 
          "metadata": {}
        }, 
        {
          "cell_type": "code", 
          "language": "python", 
          "input": [
            "#%% create OSMAPOSL reconstructor\n", 
            "# This implements the Ordered Subsets Maximum A-Posteriori One Step Late\n", 
            "# Since we are not using a penalty, or prior in this example, it\n", 
            "# defaults to using MLEM, but we will modify it to OSEM\n", 
            "recon = pet.OSMAPOSLReconstructor()\n", 
            "recon.set_objective_function(obj_fun)\n", 
            "recon.set_num_subsets(4)\n", 
            "recon.set_num_subiterations(5)\n", 
            "\n"
          ], 
          "outputs": [], 
          "collapsed": false, 
          "metadata": {}
        }, 
        {
          "cell_type": "code", 
          "language": "python", 
          "input": [
            "#%% reconstruct the image \n", 
            "# First create a new image to use for the reconstruction\n", 
            "# We will just use the original as a 'template' to have the same voxel sizes etc\n", 
            "reconstructed_image=image.clone()\n", 
            "# Set its values to 1 to create a uniform image\n", 
            "reconstructed_image.fill(1)\n", 
            "# set up the reconstructor\n", 
            "recon.set_up(reconstructed_image)\n", 
            "# do actual recon\n", 
            "recon.reconstruct(reconstructed_image)\n", 
            "\n"
          ], 
          "outputs": [], 
          "collapsed": false, 
          "metadata": {}
        }, 
        {
          "cell_type": "code", 
          "language": "python", 
          "input": [
            "#%% display of image\n", 
            "reconstructed_array=reconstructed_image.as_array()\n", 
            "slice=reconstructed_array.shape[0]/3;\n", 
            "show_2D_array('reconstructed image after 5 iterations',reconstructed_array[slice,:,:,]);\n", 
            "\n"
          ], 
          "outputs": [], 
          "collapsed": false, 
          "metadata": {}
        }, 
        {
          "cell_type": "code", 
          "language": "python", 
          "input": [
            "#%% do a another set of iterations\n", 
            "recon.reconstruct(reconstructed_image)\n", 
            "reconstructed_array=reconstructed_image.as_array()\n", 
            "show_2D_array('reconstructed image after 10 iterations',reconstructed_array[slice,:,:,]);\n", 
            "\n"
          ], 
          "outputs": [], 
          "collapsed": false, 
          "metadata": {}
        }, 
        {
          "cell_type": "code", 
          "language": "python", 
          "input": [
            "#%% We now add a multiplicative term to the acquisition model\n", 
            "# In PET, detector-pairs have different efficiencies. We want to include\n", 
            "# this in our 'forward' model such that the reconstruction can\n", 
            "# take this into account.\n", 
            "#\n", 
            "# The way to do this in SIRF is to include 'bin efficiencies' in the model,\n", 
            "# i.e. one multiplicative factor for each bin in the data.\n", 
            "#\n", 
            "# You would normally derive these efficiencies from a \"normalisation\" scan.\n", 
            "# Here we will simply set the efficiencies for some 'views' to zero.\n", 
            "# This is actually physically impossible for PET (although ok for SPECT),\n", 
            "# but this is only a demo!\n", 
            "\n", 
            "# first create a copy of the data such that we have an object of the appropriate size\n", 
            "bin_efficiencies = acquired_data.clone()\n", 
            "# set all values to 1\n", 
            "bin_efficiencies.fill(1.)\n", 
            "# set a portion of bin efficiencies to zero;\n", 
            "bin_efficiencies_array = bin_efficiencies.as_array()\n", 
            "bin_efficiencies_array[:,5:20,:] = 0\n", 
            "bin_efficiencies.fill(bin_efficiencies_array)\n"
          ], 
          "outputs": [], 
          "collapsed": false, 
          "metadata": {}
        }, 
        {
          "cell_type": "code", 
          "language": "python", 
          "input": [
            "#%% Create a new acquisition model\n", 
            "am2 = pet.AcquisitionModelUsingRayTracingMatrix()\n", 
            "am2.set_num_tangential_LORs(5);\n", 
            "am2.set_up(templ,image); \n", 
            "# now include the bin efficiencies in our acquisition model\n", 
            "#am2.set_bin_efficiency(bin_efficiencies)\n", 
            "asm = pet.AcquisitionSensitivityModel(bin_efficiencies)\n", 
            "am2.set_acquisition_sensitivity(asm)\n"
          ], 
          "outputs": [], 
          "collapsed": false, 
          "metadata": {}
        }, 
        {
          "cell_type": "code", 
          "language": "python", 
          "input": [
            "#%% forward project the image again with this acquisition model and display\n", 
            "acquired_data = am2.forward(image)\n", 
            "acquisition_array = acquired_data.as_array()\n", 
            "show_3D_array(acquisition_array);\n", 
            "\n"
          ], 
          "outputs": [], 
          "collapsed": false, 
          "metadata": {}
        }, 
        {
          "cell_type": "code", 
          "language": "python", 
          "input": [
            "#%% Let us reconstruct this data with the original acquisition model (without bin efficiencies)\n", 
            "obj_fun.set_acquisition_data(acquired_data)\n", 
            "obj_fun.set_acquisition_model(am)\n", 
            "reconstructed_image.fill(1)\n", 
            "recon.set_up(reconstructed_image)\n", 
            "recon.set_num_subiterations(10)\n", 
            "recon.reconstruct(reconstructed_image)\n"
          ], 
          "outputs": [], 
          "collapsed": false, 
          "metadata": {}
        }, 
        {
          "cell_type": "code", 
          "language": "python", 
          "input": [
            "#%% display\n", 
            "# we fix the max for the colour scale related to the true max\n", 
            "cmax = image.as_array().max()*1.2;\n", 
            "reconstructed_array=reconstructed_image.as_array()\n", 
            "plt.figure()\n", 
            "imshow(reconstructed_array[slice,:,:,], [0,cmax],'reconstructed image with original acquisition model');\n"
          ], 
          "outputs": [], 
          "collapsed": false, 
          "metadata": {}
        }, 
        {
          "cell_type": "code", 
          "language": "python", 
          "input": [
            "#%% Now we use the correct acquisition model\n", 
            "obj_fun.set_acquisition_model(am2)\n", 
            "reconstructed_image.fill(1)\n", 
            "recon.set_up(reconstructed_image)\n", 
            "recon.reconstruct(reconstructed_image)\n"
          ], 
          "outputs": [], 
          "collapsed": false, 
          "metadata": {}
        }, 
        {
          "cell_type": "code", 
          "language": "python", 
          "input": [
            "#%% display\n", 
            "reconstructed_array=reconstructed_image.as_array()\n", 
            "plt.figure()\n", 
            "imshow(reconstructed_array[slice,:,:,], [0,cmax],'reconstructed image with correct acquisition model');\n"
          ], 
          "outputs": [], 
          "collapsed": false, 
          "metadata": {}
        }
      ], 
      "metadata": {}
    }
  ], 
  "metadata": {
    "name": "", 
    "signature": "sha256:6ce8b1ffba5f8366971603b6079fcd9cde7af7a5754b5f219d38846a6a25a2a9"
  }, 
  "nbformat_minor": 0
}
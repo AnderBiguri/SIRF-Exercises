{
 "cells": [
  {
   "cell_type": "code",
   "execution_count": 1,
   "metadata": {},
   "outputs": [
    {
     "name": "stdout",
     "output_type": "stream",
     "text": [
      "Using matplotlib backend: Qt5Agg\n"
     ]
    }
   ],
   "source": [
    "# -*- coding: utf-8 -*-\n",
    "###\n",
    "# Demonstration of MR reconstruction with CCP PET-MR Software\n",
    "#\n",
    "# This demonstration shows how to reconstruct MR images and how to apply filters \n",
    "# in k-space.\n",
    "#\n",
    "# This demo is a 'script', i.e. intended to be run step by step in a\n",
    "# Python IDE such as spyder. It is organised in 'cells'. spyder displays these\n",
    "# cells nicely and allows you to run each cell on its own.\n",
    "#\n",
    "# First version: 27th of May 2017\n",
    "# Updated: 1st of April 2019\n",
    "# Author: Christoph Kolbitsch, Johannes Mayer\n",
    "#\n",
    "\n",
    "## CCP PETMR Synergistic Image Reconstruction Framework (SIRF).\n",
    "## Copyright 2015 - 2017 Rutherford Appleton Laboratory STFC.\n",
    "## Copyright 2015 - 2017 University College London.\n",
    "## Copyright 2015 - 2017 Physikalisch-Technische Bundesanstalt.\n",
    "##\n",
    "## This is software developed for the Collaborative Computational\n",
    "## Project in Positron Emission Tomography and Magnetic Resonance imaging\n",
    "## (http://www.ccppetmr.ac.uk/).\n",
    "##\n",
    "## Licensed under the Apache License, Version 2.0 (the \"License\");\n",
    "##   you may not use this file except in compliance with the License.\n",
    "##   You may obtain a copy of the License at\n",
    "##       http://www.apache.org/licenses/LICENSE-2.0\n",
    "##   Unless required by applicable law or agreed to in writing, software\n",
    "##   distributed under the License is distributed on an \"AS IS\" BASIS,\n",
    "##   WITHOUT WARRANTIES OR CONDITIONS OF ANY KIND, either express or implied.\n",
    "##   See the License for the specific language governing permissions and\n",
    "##   limitations under the License.\n",
    "\n",
    "__version__ = '0.1.0'\n",
    "\n",
    "# import engine module\n",
    "import sirf.Gadgetron as pMR\n",
    "from sirf.Utilities import examples_data_path\n",
    "\n",
    "# import further modules\n",
    "import os, numpy\n",
    "%matplotlib\n",
    "import matplotlib.pyplot as plt\n",
    "\n",
    "#%% GO TO MR FOLDER\n",
    "os.chdir( examples_data_path('MR'))\n",
    "\n",
    "\n"
   ]
  },
  {
   "cell_type": "markdown",
   "metadata": {},
   "source": [
    "### K-space Filtering\n",
    "#### Goals of this notebook:\n",
    "- Definition of our own function in Python.\n",
    "- Write first lines of code.\n",
    "- Extraction of the k-space data stored in the AcquisitionData objects.\n",
    "- Application of a filter to the k-space data.\n",
    "- Obtain a better understanding of the relationship between k-space and image space."
   ]
  },
  {
   "cell_type": "markdown",
   "metadata": {},
   "source": [
    "### Programming task\n",
    "Now it's time to apply some of our Python knowledge in a minimal programming exercise.\n",
    "Please write code which completes the following task:\n",
    "- create a variable named `acq_data` of the class `AcquisitionData` of the `pMR` package.\n",
    "- the file we want to load is called `ptb_resolutionphantom_fully_ismrmrd.h5`. Pass this as the argument to the constructor of `AcquisitionData`.\n",
    "- create a variable named `kdim` and assign it the return value of the method  `dimensions` of `AcquisitionData`. `dimensions` does not take arguments.\n",
    "\n",
    "__Please make sure the variable names are as indicated.__"
   ]
  },
  {
   "cell_type": "code",
   "execution_count": 2,
   "metadata": {},
   "outputs": [],
   "source": [
    "# YOUR CODE GOES HERE\n",
    "\n",
    "\n",
    "\n"
   ]
  },
  {
   "cell_type": "code",
   "execution_count": 3,
   "metadata": {},
   "outputs": [
    {
     "ename": "NameError",
     "evalue": "name 'kdim' is not defined",
     "output_type": "error",
     "traceback": [
      "\u001b[0;31m---------------------------------------------------------------------------\u001b[0m",
      "\u001b[0;31mNameError\u001b[0m                                 Traceback (most recent call last)",
      "\u001b[0;32m<ipython-input-3-0c766c672800>\u001b[0m in \u001b[0;36m<module>\u001b[0;34m\u001b[0m\n\u001b[1;32m      1\u001b[0m \u001b[0;31m# AS A TEST RUN THIS CELL:\u001b[0m\u001b[0;34m\u001b[0m\u001b[0;34m\u001b[0m\u001b[0;34m\u001b[0m\u001b[0m\n\u001b[0;32m----> 2\u001b[0;31m \u001b[0mprint\u001b[0m\u001b[0;34m(\u001b[0m\u001b[0;34m'Size of k-space %dx%dx%d'\u001b[0m \u001b[0;34m%\u001b[0m \u001b[0mkdim\u001b[0m\u001b[0;34m)\u001b[0m\u001b[0;34m\u001b[0m\u001b[0;34m\u001b[0m\u001b[0m\n\u001b[0m",
      "\u001b[0;31mNameError\u001b[0m: name 'kdim' is not defined"
     ]
    }
   ],
   "source": [
    "# AS A TEST RUN THIS CELL:\n",
    "print('Size of k-space %dx%dx%d' % kdim)\n"
   ]
  },
  {
   "cell_type": "code",
   "execution_count": 4,
   "metadata": {},
   "outputs": [
    {
     "name": "stdout",
     "output_type": "stream",
     "text": [
      "Size of k-space 256x4x512\n"
     ]
    }
   ],
   "source": [
    "# SOLUTION CELL.\n",
    "# DON'T RUN UNLESS YOU TRIED TO WRITE YOUR OWN CODE FIRST.\n",
    "\n",
    "\n",
    "\n",
    "\n",
    "\n",
    "\n",
    "\n",
    "\n",
    "\n",
    "\n",
    "\n",
    "\n",
    "\n",
    "\n",
    "\n",
    "\n",
    "\n",
    "\n",
    "\n",
    "\n",
    "\n",
    "\n",
    "\n",
    "\n",
    "\n",
    "\n",
    "\n",
    "\n",
    "\n",
    "\n",
    "\n",
    "\n",
    "acq_data = pMR.AcquisitionData('ptb_resolutionphantom_fully_ismrmrd.h5')\n",
    "\n",
    "kdim = acq_data.dimensions()\n",
    "print('Size of k-space %dx%dx%d' % kdim)\n",
    "\n",
    "\n"
   ]
  },
  {
   "cell_type": "markdown",
   "metadata": {},
   "source": [
    "### Question Data Dimensions:\n",
    "- Have a quick guess what the different dimensions of the data represent."
   ]
  },
  {
   "cell_type": "code",
   "execution_count": 5,
   "metadata": {},
   "outputs": [
    {
     "name": "stdout",
     "output_type": "stream",
     "text": [
      "Size of k-space 256x4x256\n"
     ]
    }
   ],
   "source": [
    "#%% PREPROCESS DATA \n",
    "# Remember, this will correct for asymmetric echoes, noise correlation and removal of readout oversampling.\n",
    "preprocessed_data = pMR.preprocess_acquisition_data(acq_data)\n",
    "\n",
    "# Get size of k-space data after removal of oversampling\n",
    "kdim = preprocessed_data.dimensions()\n",
    "print('Size of k-space %dx%dx%d' % kdim)\n",
    "\n",
    "\n"
   ]
  },
  {
   "cell_type": "markdown",
   "metadata": {},
   "source": [
    "### Question Data Dimensions:\n",
    "- Have an _educated_ guess what the different dimensions of the data represent."
   ]
  },
  {
   "cell_type": "markdown",
   "metadata": {},
   "source": [
    "### Image Filter\n",
    "To filter our image we can use the [convolution theorem](https://en.wikipedia.org/wiki/Convolution_theorem).  \n",
    "It states that for two functions $f, g$ and their Fourier transforms $F = \\mathcal{F}(f), G = \\mathcal{F}(g)$ the following relation holds:  \n",
    "\n",
    "$$ \n",
    "\\mathcal{F}(f * g) = F \\cdot G\n",
    "$$\n",
    "\n",
    "\"Filtering an image\" means to perform a convolution of the image with a filter function. This will weight each image pixel with it's neighbouring pixels by weight of the filter.  \n",
    "\n",
    "Using the convolution theorem we don't need to actually convolve our image, we can simply multiply our k-space data with the Fourier transform of the filter and achieve the same effect."
   ]
  },
  {
   "cell_type": "markdown",
   "metadata": {},
   "source": [
    "### A note on Python programming\n",
    "To define our own function, Python requires the following syntax:\n",
    "``` \n",
    "def function_name( argument1, argument2, ... , argumentN):\n",
    "    something = code_that_does_something_with_arguments\n",
    "    \n",
    "    return something\n",
    "``` \n",
    "__Indentation is important in Python!__  "
   ]
  },
  {
   "cell_type": "code",
   "execution_count": 6,
   "metadata": {},
   "outputs": [],
   "source": [
    "#%% a definition of a Gaussian function\n",
    "# the numpy package is a powerful algebra package allowing for fast computations of multidimensional arrays\n",
    "def gaussian(x, mu, sigma):\n",
    "    return numpy.exp(-numpy.power(x - mu, 2.) / (2 * numpy.power(sigma, 2.)))\n",
    "\n",
    "\n",
    "\n"
   ]
  },
  {
   "cell_type": "code",
   "execution_count": 7,
   "metadata": {},
   "outputs": [],
   "source": [
    "#%% CREATE K-SPACE FILTER\n",
    "# Set width of Gaussian weighting function\n",
    "sigma = 5.0\n",
    "\n",
    "kx_axis = numpy.array([numpy.linspace(-kdim[2]/2, kdim[2]/2, kdim[2])])\n",
    "\n",
    "\n",
    "# We call our gaussian function\n",
    "gauss_1d = gaussian(kx_axis ,  0,sigma)\n",
    "\n",
    "# Extend 1D weighting function to 2D by repeating it along the phase encoding \n",
    "# dimension\n",
    "gauss_weight = numpy.tile(gauss_1d, (kdim[0], 1))"
   ]
  },
  {
   "cell_type": "code",
   "execution_count": 8,
   "metadata": {},
   "outputs": [],
   "source": [
    "#%% APPLY K-SPACE FILTER\n",
    "# Retrieve k-space data\n",
    "preprocessed_data = pMR.preprocess_acquisition_data(acq_data)\n",
    "preprocessed_array = preprocessed_data.as_array()\n",
    "\n",
    "\n",
    "\n",
    "# Apply 2D weighting function to each coil\n",
    "for c in range(kdim[1]):\n",
    "    preprocessed_array[:,c,:] = numpy.multiply(preprocessed_array[:,c,:], gauss_weight)\n",
    "    \n",
    "# Update modified k-space data    \n",
    "preprocessed_data.fill(preprocessed_array)"
   ]
  },
  {
   "cell_type": "code",
   "execution_count": 9,
   "metadata": {},
   "outputs": [],
   "source": [
    "#%% RECONSTRUCT IMAGES\n",
    "recon = pMR.FullySampledReconstructor()\n",
    "recon.set_input(preprocessed_data)\n",
    "recon.process()\n",
    "\n",
    "\n"
   ]
  },
  {
   "cell_type": "code",
   "execution_count": 10,
   "metadata": {},
   "outputs": [
    {
     "data": {
      "text/plain": [
       "[0, 255, 0, 1]"
      ]
     },
     "execution_count": 10,
     "metadata": {},
     "output_type": "execute_result"
    },
    {
     "data": {
      "image/png": "[encoded data removed]",
      "text/plain": [
       "<Figure size 648x216 with 3 Axes>"
      ]
     },
     "metadata": {
      "needs_background": "light"
     },
     "output_type": "display_data"
    }
   ],
   "source": [
    "#%% RETRIEVE AND VIEW IMAGE\n",
    "image_data = recon.get_output()\n",
    "image_array = abs(image_data.as_array())\n",
    "image_array = image_array/image_array.max()\n",
    "\n",
    "fig = plt.figure(figsize=[9, 3])\n",
    "plt.set_cmap('gray')\n",
    "ax = fig.add_subplot(1,3,1)\n",
    "ax.imshow(image_array[0,:,:], vmin=0, vmax=0.7)\n",
    "ax.set_title('Filtered image, sigma= ' + str(sigma))\n",
    "ax.axis('off')\n",
    "\n",
    "ax = fig.add_subplot(1,3,2)\n",
    "ax.plot(image_array[0,50,:], linewidth=2.0)\n",
    "ax.set_title('Lineplot')\n",
    "plt.axis([50, 200, 0, 1])\n",
    "\n",
    "ax = fig.add_subplot(1,3,3)\n",
    "ax.plot(gauss_1d[0,:], linewidth=2.0)\n",
    "ax.set_title('K-space weight')\n",
    "plt.axis([0, 255, 0, 1])\n"
   ]
  },
  {
   "cell_type": "markdown",
   "metadata": {},
   "source": [
    "### Question:\n",
    "What happened compared to the dataset we looked at earlier?\n",
    "What are your expectations if you increase the width of the k-space weights?  \n",
    "For a __larger__ width, will the smoothing effect become:\n",
    "- stronger\n",
    "- or weaker?\n"
   ]
  },
  {
   "cell_type": "markdown",
   "metadata": {},
   "source": [
    "### Programming task\n",
    "Go back to the cell in which the filter width `sigma` is defined.\n",
    "- Vary `sigma` and run the all the next cells to get an update of the plot.\n",
    "- view the resulting reconstructions \n",
    "- repeat this for different widths between 1 and 100.\n"
   ]
  },
  {
   "cell_type": "markdown",
   "metadata": {},
   "source": [
    "### Question:\n",
    "What happens for:\n",
    "- larger filter widths?\n",
    "- smaller filter widths?\n",
    "\n",
    "Did this match your expectations?"
   ]
  },
  {
   "cell_type": "code",
   "execution_count": null,
   "metadata": {},
   "outputs": [],
   "source": [
    "plt.close('all')"
   ]
  },
  {
   "cell_type": "markdown",
   "metadata": {},
   "source": [
    "### Recap\n",
    "#### We just learned\n",
    "- to access data stored in AcquisitionData objects.\n",
    "- which data dimensions correspond to which encoding steps.\n",
    "- how to define a Python function.\n",
    "- about the convolution theorem.\n",
    "- to filter an image by weighting its k-space.\n",
    "- about the reciprocal nature of lengths in k-space and image space.\n"
   ]
  }
 ],
 "metadata": {
  "kernelspec": {
   "display_name": "Python 3",
   "language": "python",
   "name": "python3"
  },
  "language_info": {
   "codemirror_mode": {
    "name": "ipython",
    "version": 3
   },
   "file_extension": ".py",
   "mimetype": "text/x-python",
   "name": "python",
   "nbconvert_exporter": "python",
   "pygments_lexer": "ipython3",
   "version": "3.7.1"
  }
 },
 "nbformat": 4,
 "nbformat_minor": 1
}

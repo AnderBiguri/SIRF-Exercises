{
 "cells": [
  {
   "cell_type": "markdown",
   "id": "3e05188a",
   "metadata": {},
   "source": [
    "# Resampler Demo"
   ]
  },
  {
   "cell_type": "code",
   "execution_count": null,
   "id": "a4c22001",
   "metadata": {},
   "outputs": [],
   "source": [
    "# Set data folder location\n",
    "# See notebook get_nifti_data  to download data\n",
    "data_path = '/devel'"
   ]
  },
  {
   "cell_type": "code",
   "execution_count": null,
   "id": "a2a16ddf",
   "metadata": {},
   "outputs": [],
   "source": [
    "# Import required packages\n",
    "import nibabel \n",
    "import matplotlib.pyplot as plt\n",
    "import numpy as np\n",
    "import os\n",
    "\n",
    "import sirf.Reg as Reg"
   ]
  },
  {
   "cell_type": "markdown",
   "id": "5e582ca2",
   "metadata": {},
   "source": [
    "This demo uses the resampler in SIRF to regrid one scan into the geometry of another. A phantom was scanned with slices in the coronal orientation and again with slices in an oblique orientation, without moving the phantom. \n",
    "In this Notebook, we read and display the NIfTI images using `nibabel`, then read using SIRF and demonstrate a resampling of one into the geometry of the other."
   ]
  },
  {
   "cell_type": "code",
   "execution_count": null,
   "id": "3380640d",
   "metadata": {},
   "outputs": [],
   "source": [
    "# Set the full file names for the data files\n",
    "fpath  = os.path.join(data_path , 'nifti')\n",
    "fn_cor = \"OBJECT_phantom_T2W_TSE_Cor_14_1.nii\" # Coronal volume, 30 slices\n",
    "fn_obl = \"OBJECT_phantom_T2W_TSE_OBL_19_1.nii\"\n",
    "\n",
    "ffn_cor = os.path.join(fpath, fn_cor)  # full file name\n",
    "print(\"Full file name: \", ffn_cor)\n",
    "\n",
    "ffn_obl = os.path.join(fpath, fn_obl)  # full file name\n",
    "print(\"Full file name: \", ffn_obl)"
   ]
  },
  {
   "cell_type": "code",
   "execution_count": null,
   "id": "66a4fb16",
   "metadata": {},
   "outputs": [],
   "source": [
    "# Read in NIfTIs using nibabel and get the image data\n",
    "n_cor = nibabel.load(ffn_cor)\n",
    "n_obl = nibabel.load(ffn_obl)\n",
    "\n",
    "nad_cor = n_cor.get_fdata()  # NIfTI image array data\n",
    "nad_obl = n_obl.get_fdata()  # NIfTI image array data"
   ]
  },
  {
   "cell_type": "code",
   "execution_count": null,
   "id": "c45dc642",
   "metadata": {},
   "outputs": [],
   "source": [
    "# Display a slice from each dataset\n",
    "slc = 15 ;\n",
    "\n",
    "slc_obl = nad_obl[:,:,slc]\n",
    "plt.subplot(1,2,1, title='Oblique')\n",
    "plt.imshow(slc_obl)\n",
    "\n",
    "slc_cor = nad_cor[:,:,slc]\n",
    "plt.subplot(1,2,2, title='Coronal')\n",
    "plt.imshow(slc_cor)\n"
   ]
  },
  {
   "cell_type": "markdown",
   "id": "96b874cc",
   "metadata": {},
   "source": [
    "Note distortion is visible in the Oblique scan."
   ]
  },
  {
   "cell_type": "code",
   "execution_count": null,
   "id": "c802301c",
   "metadata": {},
   "outputs": [],
   "source": [
    "# Now read in using SIRF\n",
    "R_obl = Reg.ImageData(ffn_obl)\n",
    "R_cor = Reg.ImageData(ffn_cor)"
   ]
  },
  {
   "cell_type": "code",
   "execution_count": null,
   "id": "24bbba72",
   "metadata": {},
   "outputs": [],
   "source": [
    "# Construct an identity transformation object\n",
    "# We need an identity because we are using the resampler only to resample\n",
    "# and not to apply any additional transformation. \n",
    "\n",
    "tm_identity = np.array([[1,0,0,0],\n",
    "                        [0,1,0,0],\n",
    "                        [0,0,1,0],\n",
    "                        [0,0,0,1]])\n",
    "\n",
    "TM = Reg.AffineTransformation(tm_identity)"
   ]
  },
  {
   "cell_type": "code",
   "execution_count": null,
   "id": "70de3de0",
   "metadata": {},
   "outputs": [],
   "source": [
    "# Adapted from Richard Brown's notebook: sirf_registration\n",
    "\n",
    "# Create a resampler and set the reference image to the Coronal object\n",
    "resampler = Reg.NiftyResample()\n",
    "resampler.set_reference_image(R_cor)\n",
    "\n",
    "# Set the floating image to be resampled to the Oblique\n",
    "resampler.set_floating_image(R_obl)\n",
    "\n",
    "# Add the desired transformation (here identity)\n",
    "resampler.add_transformation(TM)\n",
    "resampler.set_padding_value(0)\n",
    "# Use linear interpolation\n",
    "resampler.set_interpolation_type_to_linear()\n",
    "# Go!\n",
    "resampler.process()\n",
    "\n",
    "plt.figure()\n",
    "plt.subplot(1,2,1, title='Oblique resampled to Coronal')\n",
    "plt.imshow(resampler.get_output().as_array()[:,:,slc])\n",
    "plt.subplot(1,2,2, title='Original Coronal')\n",
    "plt.imshow(slc_cor)\n"
   ]
  },
  {
   "cell_type": "markdown",
   "id": "c0cc85a1",
   "metadata": {},
   "source": [
    "The images are not identical - so is this correct? The regions where there are missing sections are OK because that part of the data was never in the oblique scan. The rectangular region in the circular phantom is a little different. It is hard to tell if this is a small error or because the distortions were different in the scans. (Distortions can be seen in the previous images).\n",
    "The stripes in the resampled image could be an interpolation issue.\n"
   ]
  }
 ],
 "metadata": {
  "kernelspec": {
   "display_name": "Python 3",
   "language": "python",
   "name": "python3"
  },
  "language_info": {
   "codemirror_mode": {
    "name": "ipython",
    "version": 3
   },
   "file_extension": ".py",
   "mimetype": "text/x-python",
   "name": "python",
   "nbconvert_exporter": "python",
   "pygments_lexer": "ipython3",
   "version": "3.8.10"
  }
 },
 "nbformat": 4,
 "nbformat_minor": 5
}

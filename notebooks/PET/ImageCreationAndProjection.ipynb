{
 "metadata": {
  "name": "",
  "signature": "sha256:7eca83edea4e08be4a36c88f32d1fa5d12a1df234a65aa2698b06b21bafc7fcf"
 },
 "nbformat": 3,
 "nbformat_minor": 0,
 "worksheets": [
  {
   "cells": [
    {
     "cell_type": "code",
     "collapsed": false,
     "input": [
      "# -*- coding: utf-8 -*-\n",
      "###\n",
      "# Demonstration of basic PET capabilities with SIRF: \n",
      "# creating images using shapes and project them\n",
      "#\n",
      "# This demo is a 'script', i.e. intended to be run step by step in a \n",
      "# Python IDE such as spyder. It is organised in 'cells'. spyder displays these\n",
      "# cells nicely and allows you to run each cell on its own.\n",
      "#\n",
      "# WARNING: This script assumes you have run the display_and_projection.py demo first!\n",
      "#\n",
      "# Author: Kris Thielemans\n",
      "# Author: Evgueni Ovtchinnikov\n",
      "#\n",
      "## CCP PETMR Synergistic Image Reconstruction Framework (SIRF)\n",
      "## Copyright 2015 - 2017 Rutherford Appleton Laboratory STFC\n",
      "## Copyright 2015 - 2017 University College London.\n",
      "##\n",
      "## This is software developed for the Collaborative Computational\n",
      "## Project in Positron Emission Tomography and Magnetic Resonance imaging\n",
      "## (http://www.ccppetmr.ac.uk/).\n",
      "##\n",
      "## Licensed under the Apache License, Version 2.0 (the \"License\");\n",
      "##   you may not use this file except in compliance with the License.\n",
      "##   You may obtain a copy of the License at\n",
      "##       http://www.apache.org/licenses/LICENSE-2.0\n",
      "##   Unless required by applicable law or agreed to in writing, software\n",
      "##   distributed under the License is distributed on an \"AS IS\" BASIS,\n",
      "##   WITHOUT WARRANTIES OR CONDITIONS OF ANY KIND, either express or implied.\n",
      "##   See the License for the specific language governing permissions and\n",
      "##   limitations under the License.\n",
      "\n"
     ],
     "language": "python",
     "metadata": {},
     "outputs": [
      {
       "output_type": "stream",
       "stream": "stdout",
       "text": [
        "Using matplotlib backend: TkAgg\n"
       ]
      }
     ],
     "prompt_number": 1
    },
    {
     "cell_type": "code",
     "collapsed": false,
     "input": [
      "#%% just check if you ran the previous demo\n",
      "if 'image' in globals():\n",
      "    print('Ok, we can proceed')\n",
      "else:\n",
      "    print('This script assumes you have run the display_and_projection.py demo first!')\n",
      "\n"
     ],
     "language": "python",
     "metadata": {},
     "outputs": [
      {
       "output_type": "stream",
       "stream": "stdout",
       "text": [
        "Ok, we can proceed\n"
       ]
      }
     ],
     "prompt_number": 2
    },
    {
     "cell_type": "code",
     "collapsed": false,
     "input": [
      "#%% Import some extra functions\n",
      "from pUtilities import show_2D_array, show_3D_array\n"
     ],
     "language": "python",
     "metadata": {},
     "outputs": [],
     "prompt_number": 3
    },
    {
     "cell_type": "code",
     "collapsed": false,
     "input": [
      "#%% create a shape\n",
      "shape = pet.EllipticCylinder()\n",
      "# define its size (in mm)\n",
      "shape.set_length(50)\n",
      "shape.set_radii((30, 40))\n",
      "# centre of shape in (x,y,z) coordinates where (0,0,0) is centre of first plane\n",
      "shape.set_origin((60, -30, 20))\n",
      "\n"
     ],
     "language": "python",
     "metadata": {},
     "outputs": [],
     "prompt_number": 4
    },
    {
     "cell_type": "code",
     "collapsed": false,
     "input": [
      "#%% add the shape to the image\n",
      "# first set the image values to 0\n",
      "image.fill(0)\n",
      "image.add_shape(shape, scale = 1)\n",
      "\n"
     ],
     "language": "python",
     "metadata": {},
     "outputs": [],
     "prompt_number": 5
    },
    {
     "cell_type": "code",
     "collapsed": false,
     "input": [
      "#%% add same shape at different location and with different intensity\n",
      "shape.set_origin((-60, -30, 40))\n",
      "image.add_shape(shape, scale = 0.75)\n",
      "\n"
     ],
     "language": "python",
     "metadata": {},
     "outputs": [],
     "prompt_number": 6
    },
    {
     "cell_type": "code",
     "collapsed": false,
     "input": [
      "#%% show the phantom image as a sequence of transverse images\n",
      "show_3D_array(image.as_array())\n",
      "\n"
     ],
     "language": "python",
     "metadata": {},
     "outputs": [
      {
       "output_type": "stream",
       "stream": "stdout",
       "text": [
        "Close Figure 1 window to continue...\n"
       ]
      },
      {
       "metadata": {},
       "output_type": "pyout",
       "prompt_number": 7,
       "text": [
        "0"
       ]
      }
     ],
     "prompt_number": 7
    },
    {
     "cell_type": "code",
     "collapsed": false,
     "input": [
      "#%% forward project this image and display all sinograms\n",
      "acquired_data = am.forward(image)\n",
      "acquisition_array = acquired_data.as_array();\n",
      "show_3D_array(acquisition_array);\n"
     ],
     "language": "python",
     "metadata": {},
     "outputs": [
      {
       "ename": "NameError",
       "evalue": "name 'am' is not defined",
       "output_type": "pyerr",
       "traceback": [
        "\u001b[0;31m---------------------------------------------------------------------------\u001b[0m\n\u001b[0;31mNameError\u001b[0m                                 Traceback (most recent call last)",
        "\u001b[0;32m<ipython-input-8-94ddf051dc2f>\u001b[0m in \u001b[0;36m<module>\u001b[0;34m()\u001b[0m\n\u001b[1;32m      1\u001b[0m \u001b[0;31m#%% forward project this image and display all sinograms\u001b[0m\u001b[0;34m\u001b[0m\u001b[0;34m\u001b[0m\u001b[0m\n\u001b[0;32m----> 2\u001b[0;31m \u001b[0macquired_data\u001b[0m \u001b[0;34m=\u001b[0m \u001b[0mam\u001b[0m\u001b[0;34m.\u001b[0m\u001b[0mforward\u001b[0m\u001b[0;34m(\u001b[0m\u001b[0mimage\u001b[0m\u001b[0;34m)\u001b[0m\u001b[0;34m\u001b[0m\u001b[0m\n\u001b[0m\u001b[1;32m      3\u001b[0m \u001b[0macquisition_array\u001b[0m \u001b[0;34m=\u001b[0m \u001b[0macquired_data\u001b[0m\u001b[0;34m.\u001b[0m\u001b[0mas_array\u001b[0m\u001b[0;34m(\u001b[0m\u001b[0;34m)\u001b[0m\u001b[0;34m;\u001b[0m\u001b[0;34m\u001b[0m\u001b[0m\n\u001b[1;32m      4\u001b[0m \u001b[0mshow_3D_array\u001b[0m\u001b[0;34m(\u001b[0m\u001b[0macquisition_array\u001b[0m\u001b[0;34m)\u001b[0m\u001b[0;34m;\u001b[0m\u001b[0;34m\u001b[0m\u001b[0m\n",
        "\u001b[0;31mNameError\u001b[0m: name 'am' is not defined"
       ]
      }
     ],
     "prompt_number": 8
    },
    {
     "cell_type": "code",
     "collapsed": false,
     "input": [
      "#%% Show every 8th view \n",
      "# Doing this here with a complicated one-liner...\n",
      "show_3D_array(acquisition_array[:,range(0,acquisition_array.shape[1],8),:].transpose(1,0,2))\n",
      "# You could now of course try the animation of the previous demo...\n"
     ],
     "language": "python",
     "metadata": {},
     "outputs": []
    }
   ],
   "metadata": {}
  }
 ]
}
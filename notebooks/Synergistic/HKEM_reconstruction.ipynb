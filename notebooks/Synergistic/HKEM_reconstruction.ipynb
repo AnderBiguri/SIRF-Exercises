{
 "cells": [
  {
   "cell_type": "markdown",
   "metadata": {},
   "source": [
    "\n",
    "# Demonstration of the Hybrid Kernelised Expaction Maximisation (HKEM) reconstruction with SIRF\n",
    "This demonstration shows how to use HKEM and investigate the role of each kernel parameter in edge preservation and noise suppression.\n"
   ]
  },
  {
   "cell_type": "markdown",
   "metadata": {},
   "source": [
    "Authors: Daniel Deidda, Kris Thielemans and Evgueni Ovtchinnikov  \n",
    "First version: 30th of September 2019  \n",
    "Second Version: 30th of September 2019\n",
    "\n",
    "CCP PETMR Synergistic Image Reconstruction Framework (SIRF)  \n",
    "Copyright 2019  National Physical Laboratory\n",
    "Copyright 2019  Rutherford Appleton Laboratory STFC  \n",
    "Copyright 2019  University College London.\n",
    "\n",
    "This is software developed for the Collaborative Computational\n",
    "Project in Positron Emission Tomography and Magnetic Resonance imaging\n",
    "(http://www.ccppetmr.ac.uk/).\n",
    "\n",
    "Licensed under the Apache License, Version 2.0 (the \"License\");\n",
    "you may not use this file except in compliance with the License.\n",
    "You may obtain a copy of the License at\n",
    "    http://www.apache.org/licenses/LICENSE-2.0\n",
    "Unless required by applicable law or agreed to in writing, software\n",
    "distributed under the License is distributed on an \"AS IS\" BASIS,\n",
    "WITHOUT WARRANTIES OR CONDITIONS OF ANY KIND, either express or implied.\n",
    "See the License for the specific language governing permissions and\n",
    "limitations under the License."
   ]
  },
  {
   "cell_type": "markdown",
   "metadata": {},
   "source": [
    "# Initial set-up"
   ]
  },
  {
   "cell_type": "code",
   "execution_count": null,
   "metadata": {},
   "outputs": [],
   "source": [
    "#%% make sure figures appears inline and animations works\n",
    "%matplotlib notebook"
   ]
  },
  {
   "cell_type": "code",
   "execution_count": null,
   "metadata": {},
   "outputs": [],
   "source": [
    "#%% Initial imports etc\n",
    "import numpy\n",
    "from numpy.linalg import norm\n",
    "import matplotlib.pyplot as plt\n",
    "import matplotlib.animation as animation\n",
    "import os\n",
    "import sys\n",
    "import shutil\n",
    "import string\n",
    "#import scipy\n",
    "#from scipy import optimize\n",
    "import sirf.STIR as pet\n",
    "from sirf.Utilities import examples_data_path\n",
    "#os.getcwd()"
   ]
  },
  {
   "cell_type": "code",
   "execution_count": null,
   "metadata": {},
   "outputs": [],
   "source": [
    "#%% some handy function definitions\n",
    "def imshow(image, limits, title=''):\n",
    "    \"\"\"Usage: imshow(image, [min,max], title)\"\"\"\n",
    "    plt.title(title)\n",
    "    bitmap = plt.imshow(image)\n",
    "    if len(limits)==0:\n",
    "        limits = [image.min(), image.max()]\n",
    "                \n",
    "    plt.clim(limits[0], limits[1])\n",
    "    plt.colorbar(shrink=.6)\n",
    "    plt.axis('off')\n",
    "    return bitmap\n",
    "\n",
    "def make_positive(image_array):\n",
    "    \"\"\"truncate any negatives to zero\"\"\"\n",
    "    image_array[image_array<0] = 0\n",
    "    return image_array\n",
    "\n",
    "def make_cylindrical_FOV(image):\n",
    "    \"\"\"truncate to cylindrical FOV\"\"\"\n",
    "    filter = pet.TruncateToCylinderProcessor()\n",
    "    filter.apply(image)"
   ]
  },
  {
   "cell_type": "code",
   "execution_count": null,
   "metadata": {},
   "outputs": [],
   "source": [
    "#%% go to directory with input files\n",
    "# adapt this path to your situation (or start everything in the relevant directory)\n",
    "os.chdir(examples_data_path('PET'))"
   ]
  },
  {
   "cell_type": "code",
   "execution_count": null,
   "metadata": {},
   "outputs": [],
   "source": [
    "#%% copy files to working folder and change directory to where the output files are\n",
    "shutil.rmtree('working_folder/thorax_single_slice',True)\n",
    "shutil.copytree('thorax_single_slice','working_folder/thorax_single_slice')\n",
    "os.chdir('working_folder/thorax_single_slice')"
   ]
  },
  {
   "cell_type": "markdown",
   "metadata": {},
   "source": [
    "## We will first create some simulated data from ground-truth images\n",
    "\n"
   ]
  },
  {
   "cell_type": "code",
   "execution_count": null,
   "metadata": {},
   "outputs": [],
   "source": [
    "#%% Read in images\n",
    "image = pet.ImageData('emission.hv')\n",
    "image_array = image.as_array()*.05\n",
    "image.fill(image_array)\n",
    "mu_map = pet.ImageData('attenuation.hv')\n",
    "mu_map_array = mu_map.as_array()"
   ]
  },
  {
   "cell_type": "code",
   "execution_count": null,
   "metadata": {},
   "outputs": [],
   "source": [
    "#%% bitmap display of images\n",
    "im_slice = image_array.shape[0]//2\n",
    "plt.figure()\n",
    "plt.subplot(1,2,1)\n",
    "imshow(image_array[im_slice,:,:,], [], 'emission image');\n",
    "plt.subplot(1,2,2)\n",
    "imshow(mu_map_array[im_slice,:,:,], [], 'attenuation image');"
   ]
  },
  {
   "cell_type": "code",
   "execution_count": null,
   "metadata": {},
   "outputs": [],
   "source": [
    "#%% save max for future displays\n",
    "cmax = image_array.max()*.6"
   ]
  },
  {
   "cell_type": "code",
   "execution_count": null,
   "metadata": {},
   "outputs": [],
   "source": [
    "#%% create acquisition model\n",
    "am = pet.AcquisitionModelUsingRayTracingMatrix()\n",
    "# we will increate the number of rays used for every Line-of-Response (LOR) as an example\n",
    "# (it is not required for the exercise of course)\n",
    "am.set_num_tangential_LORs(5)\n",
    "templ = pet.AcquisitionData('template_sinogram.hs')\n",
    "am.set_up(templ,image);"
   ]
  },
  {
   "cell_type": "code",
   "execution_count": null,
   "metadata": {},
   "outputs": [],
   "source": [
    "#%% simulate some data using forward projection\n",
    "acquired_data=am.forward(image)\n",
    "acquisition_array = acquired_data.as_array()"
   ]
  },
  {
   "cell_type": "code",
   "execution_count": null,
   "metadata": {},
   "outputs": [],
   "source": [
    "#%% Generate a noisy realisation of the data\n",
    "noisy_array=numpy.random.poisson(acquisition_array).astype('float64')\n",
    "print(' Maximum counts in the data: %d' % noisy_array.max())\n",
    "# stuff into a new AcquisitionData object\n",
    "noisy_data = acquired_data.clone()\n",
    "noisy_data.fill(noisy_array);"
   ]
  },
  {
   "cell_type": "code",
   "execution_count": null,
   "metadata": {},
   "outputs": [],
   "source": [
    "#%% Display bitmaps of the middle sinogram\n",
    "plt.figure()\n",
    "plt.subplot(1,2,1)\n",
    "imshow(acquisition_array[0,im_slice,:,:,], [0,acquisition_array.max()], 'original')\n",
    "plt.subplot(1,2,2)\n",
    "imshow(noisy_array[0,im_slice,:,:,], [0,acquisition_array.max()], 'noisy');"
   ]
  },
  {
   "cell_type": "markdown",
   "metadata": {},
   "source": [
    "# Reconstruction via a SIRF reconstruction class\n",
    "While you can write your own reconstruction algorithm by using `AcquisitionModel` etc, we also\n",
    "provide a few reconstruction clases. We will show how to use these here."
   ]
  },
  {
   "cell_type": "markdown",
   "metadata": {},
   "source": [
    "## create the objective function\n",
    "\n",
    "In PET, the iterative algorithms in SIRF rely on an objective function (i.e. the function to maximise).\n",
    "In this case, this is the Poisson log-likelihood (without any priors)"
   ]
  },
  {
   "cell_type": "code",
   "execution_count": null,
   "metadata": {},
   "outputs": [],
   "source": [
    "#%% create objective function\n",
    "obj_fun = pet.make_Poisson_loglikelihood(noisy_data)\n",
    "# We could set acquisition model but the default (ray-tracing) is in this case ok\n",
    "# obj_fun.set_acquisition_model(am)\n",
    "# we could also add a prior, but we will not do that here (although the rest of the exercise would still work)\n",
    "#obj_fun.set_prior(prior)"
   ]
  },
  {
   "cell_type": "markdown",
   "metadata": {},
   "source": [
    "##  create KOSMAPOSL reconstructor\n",
    "This implements the Ordered Subsets HKEM\n",
    "In this section we define all parameter"
   ]
  },
  {
   "cell_type": "code",
   "execution_count": null,
   "metadata": {},
   "outputs": [],
   "source": [
    "recon = pet.KOSMAPOSLReconstructor()\n",
    "recon.set_objective_function(obj_fun)\n",
    "\n",
    "recon.set_input(noisy_data)\n",
    "\n",
    "# set up anatomical image\n",
    "anatomical_image = mu_map.clone()\n",
    "anatomical_image_array = anatomical_image.as_array()\n",
    "anatomical_image_array[anatomical_image_array < 0] = 0\n",
    "anatomical_image.fill(image_array)\n",
    "\n",
    "recon.set_anatomical_prior(anatomical_image)\n",
    "recon.set_only_2D(True)\n",
    "recon.set_num_non_zero_features(1)\n",
    "\n",
    "recon.set_num_subsets(4)\n",
    "num_iters=40\n",
    "recon.set_num_subiterations(num_iters)"
   ]
  },
  {
   "cell_type": "markdown",
   "metadata": {},
   "source": [
    "## Use this reconstructor!"
   ]
  },
  {
   "cell_type": "markdown",
   "metadata": {},
   "source": [
    "## Study parameter \"neighbourhood size\", n"
   ]
  },
  {
   "cell_type": "code",
   "execution_count": null,
   "metadata": {},
   "outputs": [],
   "source": [
    "#%%  create initial image\n",
    "# we could just use a uniform image but here we will create a disk with a different\n",
    "# initial value (this will help the display later on)\n",
    "init_image=image.clone()\n",
    "init_image.fill(cmax / 4)\n",
    "make_cylindrical_FOV(init_image)\n",
    "# display\n",
    "idata = init_image.as_array()\n",
    "im_slice = idata.shape[0] // 2\n",
    "#plt.figure()\n",
    "#imshow(idata[im_slice,:,:],[0,cmax], 'initial image');"
   ]
  },
  {
   "cell_type": "code",
   "execution_count": null,
   "metadata": {},
   "outputs": [],
   "source": [
    "#%% reconstruct the image \n",
    "H1n_reconstructed_image = [] \n",
    "H0n_reconstructed_image = []\n",
    "\n",
    "#fix other parameters\n",
    "recon.set_sigma_m(0.5)\n",
    "recon.set_sigma_p(0.5)\n",
    "recon.set_sigma_dm(3.0)\n",
    "recon.set_sigma_dp(3.0)\n",
    "\n",
    "n={3, 5, 7, 9}\n",
    "ii=0\n",
    "for i in n:\n",
    "    \n",
    "    H1n_reconstructed_image.append(init_image.clone())\n",
    "    H0n_reconstructed_image.append(init_image.clone())\n",
    "    \n",
    "    recon.set_num_neighbours(i)\n",
    "    j=\"{}\".format(i)\n",
    "    jj=j.replace(\".\", \"_\")\n",
    "    \n",
    "#   reconstruct using side information from MR and PET (H0 is KEM H1 is HKEM)\n",
    "    output_prefix = \"H1_N{}\".format(jj)\n",
    "#   set up the reconstructor\n",
    "    recon.set_output_filename_prefix(output_prefix)\n",
    "    recon.set_hybrid(True)\n",
    "    recon.set_up(H1n_reconstructed_image[ii])\n",
    "    recon.reconstruct(H1n_reconstructed_image[ii])\n",
    "\n",
    "#   reconstruct using only side information from MR (H0 is KEM H1 is HKEM)\n",
    "    output_prefix = \"H0_N{}\".format(jj)\n",
    "#   set up the reconstructor\n",
    "    recon.set_output_filename_prefix(output_prefix)\n",
    "    recon.set_hybrid(False)\n",
    "    recon.set_up(H0n_reconstructed_image[ii])\n",
    "    recon.reconstruct(H0n_reconstructed_image[ii])\n",
    "    ii=ii+1;"
   ]
  },
  {
   "cell_type": "code",
   "execution_count": null,
   "metadata": {},
   "outputs": [],
   "source": [
    "#%% bitmap display of images\n",
    "# define lists\n",
    "\n",
    "H1n_reconstructed_array = []\n",
    "H0n_reconstructed_array = []\n",
    "diffn_image_array = []\n",
    "H1n_error_array = []\n",
    "H0n_error_array = []\n",
    "ii=0\n",
    "\n",
    "for i in n:\n",
    "    \n",
    "    j=\"{}\".format(i)\n",
    "    jj=j.replace(\".\", \"_\")\n",
    "    #H0n_reconstructed_image[ii]=pet.ImageData('H0_N'+jj+'_12.hv')\n",
    "    H1n_reconstructed_array.append(H1n_reconstructed_image[ii].as_array())\n",
    "    H0n_reconstructed_array.append(H0n_reconstructed_image[ii].as_array())\n",
    "    \n",
    "#   anatomical_image_array = anatomical_image.as_array()\n",
    "    diffn_image_array.append(H1n_reconstructed_array[ii] - H0n_reconstructed_array[ii])\n",
    "    H1n_error_array.append(image_array - H1n_reconstructed_array[ii])\n",
    "    H0n_error_array.append(image_array - H0n_reconstructed_array[ii])\n",
    "\n",
    "    plt.figure()\n",
    "    plt.subplot(3,3,1)\n",
    "    imshow(image_array[im_slice,:,:,], [0,cmax*1.5],'True image')\n",
    "    plt.subplot(3,3,2)\n",
    "    imshow(H1n_reconstructed_array[ii][im_slice,:,:,], [0,cmax*1.5], 'HKEM, n ='+j)\n",
    "    plt.subplot(3,3,3)\n",
    "    imshow(H0n_reconstructed_array[ii][im_slice,:,:,], [0,cmax*1.5], 'KEM, n ='+j)\n",
    "    plt.subplot(3,3,4)\n",
    "    imshow(diffn_image_array[ii][im_slice,:,:,], [-cmax*0.1,cmax*0.1], 'HKEM - KEM');\n",
    "    plt.subplot(3,3,5)\n",
    "    imshow(H1n_error_array[ii][im_slice,:,:,], [-cmax*1,cmax*1], 'HKEM error')\n",
    "    plt.subplot(3,3,6)\n",
    "    imshow(H0n_error_array[ii][im_slice,:,:,], [-cmax*1,cmax*.1], 'KEM error')\n",
    "\n",
    "    ii=ii+1;"
   ]
  },
  {
   "cell_type": "markdown",
   "metadata": {},
   "source": [
    "## Study parameter sigma_m (MR edge preservation)"
   ]
  },
  {
   "cell_type": "code",
   "execution_count": null,
   "metadata": {},
   "outputs": [],
   "source": [
    "#%% reconstruct the image \n",
    "H1m_reconstructed_image = [] \n",
    "H0m_reconstructed_image = []\n",
    "\n",
    "#fix other parameters\n",
    "recon.set_num_neighbours(5)\n",
    "recon.set_sigma_p(0.5)\n",
    "recon.set_sigma_dm(3.0)\n",
    "recon.set_sigma_dp(3.0)\n",
    "\n",
    "sigma_m={0.05, 0.1, 0.5, 1, 3, 5, 8, 10}\n",
    "ii=0\n",
    "for i in sigma_m:\n",
    "    \n",
    "    H1m_reconstructed_image.append(init_image.clone())\n",
    "    H0m_reconstructed_image.append(init_image.clone())\n",
    "    \n",
    "    recon.set_sigma_m(i)\n",
    "    j=\"{}\".format(i)\n",
    "    jj=j.replace(\".\", \"_\")\n",
    "    \n",
    "#   reconstruct using side information from MR and PET (H0 is KEM H1 is HKEM)\n",
    "    output_prefix = \"H1_N5_M{}\".format(jj)\n",
    "#   set up the reconstructor\n",
    "    recon.set_output_filename_prefix(output_prefix)\n",
    "    recon.set_hybrid(True)\n",
    "    recon.set_up(H1m_reconstructed_image[ii])\n",
    "    recon.reconstruct(H1m_reconstructed_image[ii])\n",
    "\n",
    "#   reconstruct using only side information from MR (H0 is KEM H1 is HKEM)\n",
    "    output_prefix = \"H0_N5_M{}\".format(jj)\n",
    "#   set up the reconstructor\n",
    "    recon.set_output_filename_prefix(output_prefix)\n",
    "    recon.set_hybrid(False)\n",
    "    recon.set_up(H0m_reconstructed_image[ii])\n",
    "    recon.reconstruct(H0m_reconstructed_image[ii])\n",
    "    ii=ii+1;"
   ]
  },
  {
   "cell_type": "code",
   "execution_count": null,
   "metadata": {},
   "outputs": [],
   "source": [
    "#%% bitmap display of images\n",
    "# define lists\n",
    "H1m_reconstructed_array = []\n",
    "H0m_reconstructed_array = []\n",
    "diffm_image_array = []\n",
    "H1m_error_array = []\n",
    "H0m_error_array = []\n",
    "ii=0\n",
    "sigma_m={0.05, 0.1, 0.5, 1, 3, 5, 8, 10}\n",
    "for i in sigma_m:\n",
    "    \n",
    "    j=\"{}\".format(i)\n",
    "    jj=j.replace(\".\", \"_\")\n",
    "    \n",
    "    H1m_reconstructed_array.append(H1m_reconstructed_image[ii].as_array())\n",
    "    H0m_reconstructed_array.append(H0m_reconstructed_image[ii].as_array())\n",
    "    \n",
    "#   anatomical_image_array = anatomical_image.as_array()\n",
    "    diffm_image_array.append(H1m_reconstructed_array[ii] - H0m_reconstructed_array[ii])\n",
    "    H1m_error_array.append(image_array - H1m_reconstructed_array[ii])\n",
    "    H0m_error_array.append(image_array - H0m_reconstructed_array[ii])\n",
    "\n",
    "    plt.figure()\n",
    "    plt.subplot(3,3,1)\n",
    "    imshow(image_array[im_slice,:,:,], [0,cmax*1.5],'True image')\n",
    "    plt.subplot(3,3,2)\n",
    "    imshow(H1m_reconstructed_array[ii][im_slice,:,:,], [0,cmax*1.5], 'HKEM, sigma_m='+j)\n",
    "    plt.subplot(3,3,3)\n",
    "    imshow(H0m_reconstructed_array[ii][im_slice,:,:,], [0,cmax*1.5], 'KEM, sigma_m='+j)\n",
    "    plt.subplot(3,3,4)\n",
    "    imshow(diffm_image_array[ii][im_slice,:,:,], [-cmax*0.1,cmax*0.1], 'HKEM - KEM');\n",
    "    plt.subplot(3,3,5)\n",
    "    imshow(H1m_error_array[ii][im_slice,:,:,], [-cmax*1,cmax*1], 'HKEM error')\n",
    "    plt.subplot(3,3,6)\n",
    "    imshow(H0m_error_array[ii][im_slice,:,:,], [-cmax*1,cmax*1], 'KEM error')\n",
    "\n",
    "    ii=ii+1;"
   ]
  },
  {
   "cell_type": "markdown",
   "metadata": {},
   "source": [
    "## Study parameter sigma_p (PET edge preservation)\n"
   ]
  },
  {
   "cell_type": "code",
   "execution_count": null,
   "metadata": {},
   "outputs": [],
   "source": [
    "#%% reconstruct the image \n",
    "H1p_reconstructed_image = [] \n",
    "H0p_reconstructed_image = []\n",
    "\n",
    "#fix other parameters\n",
    "recon.set_num_neighbours(5)\n",
    "recon.set_sigma_m(0.5)\n",
    "recon.set_sigma_dm(3.0)\n",
    "recon.set_sigma_dp(3.0)\n",
    "\n",
    "sigma_p={0.05, 0.1, 0.5, 1, 3, 5, 8, 10}\n",
    "ii=0\n",
    "for i in sigma_p:\n",
    "    \n",
    "    H1p_reconstructed_image.append(init_image.clone())\n",
    "    H0p_reconstructed_image.append(init_image.clone())\n",
    "    \n",
    "    recon.set_sigma_p(i)\n",
    "    j=\"{}\".format(i)\n",
    "    jj=j.replace(\".\", \"_\")\n",
    "    \n",
    "#   reconstruct using side information from MR and PET (H0 is KEM H1 is HKEM)\n",
    "    output_prefix = \"H1_N5_P{}\".format(jj)\n",
    "#   set up the reconstructor\n",
    "    recon.set_output_filename_prefix(output_prefix)\n",
    "    recon.set_hybrid(True)\n",
    "    recon.set_up(H1p_reconstructed_image[ii])\n",
    "    recon.reconstruct(H1p_reconstructed_image[ii])\n",
    "\n",
    "#   reconstruct using only side information from MR (H0 is KEM H1 is HKEM)\n",
    "    output_prefix = \"H0_N5_P{}\".format(jj)\n",
    "#   set up the reconstructor\n",
    "    recon.set_output_filename_prefix(output_prefix)\n",
    "    recon.set_hybrid(False)\n",
    "    recon.set_up(H0p_reconstructed_image[ii])\n",
    "    recon.reconstruct(H0p_reconstructed_image[ii])\n",
    "    ii=ii+1;"
   ]
  },
  {
   "cell_type": "code",
   "execution_count": null,
   "metadata": {},
   "outputs": [],
   "source": [
    "#%% bitmap display of images\n",
    "# define lists\n",
    "H1p_reconstructed_array = []\n",
    "H0p_reconstructed_array = []\n",
    "diffp_image_array = []\n",
    "H1p_error_array = []\n",
    "H0p_error_array = []\n",
    "ii=0\n",
    "\n",
    "for i in sigma_p:\n",
    "    \n",
    "    j=\"{}\".format(i)\n",
    "    jj=j.replace(\".\", \"_\")\n",
    "    \n",
    "    H1p_reconstructed_array.append(H1p_reconstructed_image[ii].as_array())\n",
    "    H0p_reconstructed_array.append(H0p_reconstructed_image[ii].as_array())\n",
    "    \n",
    "#   anatomical_image_array = anatomical_image.as_array()\n",
    "    diffp_image_array.append(H1p_reconstructed_array[ii] - H0p_reconstructed_array[ii])\n",
    "    H1p_error_array.append(image_array - H1p_reconstructed_array[ii])\n",
    "    H0p_error_array.append(image_array - H0p_reconstructed_array[ii])\n",
    "\n",
    "    plt.figure()\n",
    "    plt.subplot(3,3,1)\n",
    "    imshow(image_array[im_slice,:,:,], [0,cmax*1.5],'True image')\n",
    "    plt.subplot(3,3,2)\n",
    "    imshow(H1p_reconstructed_array[ii][im_slice,:,:,], [0,cmax*1.5], 'HKEM, sigma_p='+j)\n",
    "    plt.subplot(3,3,3)\n",
    "    imshow(H0p_reconstructed_array[ii][im_slice,:,:,], [0,cmax*1.5], 'KEM, sigma_p='+j)\n",
    "    plt.subplot(3,3,4)\n",
    "    imshow(diffp_image_array[ii][im_slice,:,:,], [-cmax*0.1,cmax*0.1], 'HKEM - KEM');\n",
    "    plt.subplot(3,3,5)\n",
    "    imshow(H1p_error_array[ii][im_slice,:,:,], [-cmax*1.,cmax*1.], 'HKEM error')\n",
    "    plt.subplot(3,3,6)\n",
    "    imshow(H0p_error_array[ii][im_slice,:,:,], [-cmax*1.,cmax*1.], 'KEM error')\n",
    "\n",
    "    ii=ii+1;"
   ]
  },
  {
   "cell_type": "markdown",
   "metadata": {},
   "source": [
    "## Study parameter sigma_d (smoothing)\n"
   ]
  },
  {
   "cell_type": "code",
   "execution_count": null,
   "metadata": {},
   "outputs": [],
   "source": [
    "#%% reconstruct the image \n",
    "H1d_reconstructed_image = [] \n",
    "H0d_reconstructed_image = []\n",
    "\n",
    "#fix other parameters\n",
    "recon.set_num_neighbours(5)\n",
    "recon.set_sigma_m(0.5)\n",
    "recon.set_sigma_p(0.5)\n",
    "\n",
    "sigma_dm={0.05, 0.1, 0.5, 1, 3, 5, 8, 10}\n",
    "ii=0\n",
    "for i in sigma_dm:\n",
    "    \n",
    "    H1d_reconstructed_image.append(init_image.clone())\n",
    "    H0d_reconstructed_image.append(init_image.clone())\n",
    "    \n",
    "    recon.set_sigma_dp(i)\n",
    "    recon.set_sigma_dm(i)\n",
    "    \n",
    "    j=\"{}\".format(i)\n",
    "    jj=j.replace(\".\", \"_\")\n",
    "    \n",
    "#   reconstruct using side information from MR and PET (H0 is KEM H1 is HKEM)\n",
    "    output_prefix = \"H1_N5_D{}\".format(jj)\n",
    "#   set up the reconstructor\n",
    "    recon.set_output_filename_prefix(output_prefix)\n",
    "    recon.set_hybrid(True)\n",
    "    recon.set_up(H1d_reconstructed_image[ii])\n",
    "    recon.reconstruct(H1d_reconstructed_image[ii])\n",
    "\n",
    "#   reconstruct using only side information from MR (H0 is KEM H1 is HKEM)\n",
    "    output_prefix = \"H0_N5_D{}\".format(jj)\n",
    "#   set up the reconstructor\n",
    "    recon.set_output_filename_prefix(output_prefix)\n",
    "    recon.set_hybrid(False)\n",
    "    recon.set_up(H0d_reconstructed_image[ii])\n",
    "    recon.reconstruct(H0d_reconstructed_image[ii])\n",
    "    ii=ii+1;"
   ]
  },
  {
   "cell_type": "code",
   "execution_count": null,
   "metadata": {},
   "outputs": [],
   "source": [
    "#%% bitmap display of images\n",
    "# define lists\n",
    "H1d_reconstructed_array = []\n",
    "H0d_reconstructed_array = []\n",
    "diffd_image_array = []\n",
    "H1d_error_array = []\n",
    "H0d_error_array = []\n",
    "ii=0\n",
    "\n",
    "for i in sigma_dm:\n",
    "    \n",
    "    j=\"{}\".format(i)\n",
    "    jj=j.replace(\".\", \"_\")\n",
    "    \n",
    "    H1d_reconstructed_array.append(H1d_reconstructed_image[ii].as_array())\n",
    "    H0d_reconstructed_array.append(H0d_reconstructed_image[ii].as_array())\n",
    "    \n",
    "#   anatomical_image_array = anatomical_image.as_array()\n",
    "    diffd_image_array.append(H1d_reconstructed_array[ii] - H0d_reconstructed_array[ii])\n",
    "    H1d_error_array.append(image_array - H1d_reconstructed_array[ii])\n",
    "    H0d_error_array.append(image_array - H0d_reconstructed_array[ii])\n",
    "\n",
    "    plt.figure()\n",
    "    plt.subplot(3,3,1)\n",
    "    imshow(image_array[im_slice,:,:,], [0,cmax*1.5],'True image')\n",
    "    plt.subplot(3,3,2)\n",
    "    imshow(H1d_reconstructed_array[ii][im_slice,:,:,], [0,cmax*1.5], 'HKEM, sigma_d='+j)\n",
    "    plt.subplot(3,3,3)\n",
    "    imshow(H0d_reconstructed_array[ii][im_slice,:,:,], [0,cmax*1.5], 'KEM, sigma_d='+j)\n",
    "    plt.subplot(3,3,4)\n",
    "    imshow(diffd_image_array[ii][im_slice,:,:,], [-cmax*0.1,cmax*0.1], 'HKEM - KEM');\n",
    "    plt.subplot(3,3,5)\n",
    "    imshow(H1d_error_array[ii][im_slice,:,:,], [-cmax*1.,cmax*1.], 'HKEM error')\n",
    "    plt.subplot(3,3,6)\n",
    "    imshow(H0d_error_array[ii][im_slice,:,:,], [-cmax*1.,cmax*1.], 'KEM error')\n",
    "    \n",
    "    ii=ii+1;\n",
    "    "
   ]
  }
 ],
 "metadata": {
  "kernelspec": {
   "display_name": "Python 3",
   "language": "python",
   "name": "python3"
  },
  "language_info": {
   "codemirror_mode": {
    "name": "ipython",
    "version": 3
   },
   "file_extension": ".py",
   "mimetype": "text/x-python",
   "name": "python",
   "nbconvert_exporter": "python",
   "pygments_lexer": "ipython3",
   "version": "3.7.3"
  }
 },
 "nbformat": 4,
 "nbformat_minor": 2
}

{
 "cells": [
  {
   "cell_type": "markdown",
   "metadata": {},
   "source": [
    "# Demonstration of basic image manipulation with SIRF\n",
    "This demonstration shows how to read images and data, display them.\n",
    "\n",
    "This demo is a jupyter notebook, i.e. intended to be run step by step.\n",
    "You could export it as a Python file and run it one go, but that might\n",
    "make little sense as the figures are not labelled.\n",
    "\n",
    "This notebook constitutes the first half of the PET [display_and_projection](../PET/display_and_projection.ipynb) notebook."
   ]
  },
  {
   "cell_type": "markdown",
   "metadata": {},
   "source": [
    "Author: Kris Thielemans, Richard Brown\n",
    "First version: 8th of September 2016  \n",
    "Second Version: 17th of May 2018\n",
    "Third Version: 23rd of October 2019\n",
    "\n",
    "CCP PETMR Synergistic Image Reconstruction Framework (SIRF).  \n",
    "Copyright 2015 - 2017 Rutherford Appleton Laboratory STFC.  \n",
    "Copyright 2015 - 2019 University College London.\n",
    "\n",
    "This is software developed for the Collaborative Computational\n",
    "Project in Positron Emission Tomography and Magnetic Resonance imaging\n",
    "(http://www.ccppetmr.ac.uk/).\n",
    "\n",
    "Licensed under the Apache License, Version 2.0 (the \"License\");\n",
    "you may not use this file except in compliance with the License.\n",
    "You may obtain a copy of the License at\n",
    "    http://www.apache.org/licenses/LICENSE-2.0\n",
    "Unless required by applicable law or agreed to in writing, software\n",
    "distributed under the License is distributed on an \"AS IS\" BASIS,\n",
    "WITHOUT WARRANTIES OR CONDITIONS OF ANY KIND, either express or implied.\n",
    "See the License for the specific language governing permissions and\n",
    "limitations under the License."
   ]
  },
  {
   "cell_type": "markdown",
   "metadata": {},
   "source": [
    "# Initial set-up"
   ]
  },
  {
   "cell_type": "code",
   "execution_count": null,
   "metadata": {},
   "outputs": [],
   "source": [
    "#%% make sure figures appears inline and animations works\n",
    "%matplotlib notebook"
   ]
  },
  {
   "cell_type": "code",
   "execution_count": null,
   "metadata": {},
   "outputs": [],
   "source": [
    "#%% Initial imports etc\n",
    "import numpy\n",
    "from numpy.linalg import norm\n",
    "import matplotlib.pyplot as plt\n",
    "import matplotlib.animation as animation\n",
    "import os\n",
    "import sys\n",
    "import shutil"
   ]
  },
  {
   "cell_type": "code",
   "execution_count": null,
   "metadata": {},
   "outputs": [],
   "source": [
    "#%% Use the 'pet' prefix for all STIR-based SIRF functions.\n",
    "# This is done here to explicitly differentiate between SIRF pet functions and \n",
    "# anything else.\n",
    "import sirf.STIR as pet\n",
    "from sirf.Utilities import examples_data_path"
   ]
  },
  {
   "cell_type": "code",
   "execution_count": null,
   "metadata": {},
   "outputs": [],
   "source": [
    "#%% First define some handy function definitions\n",
    "# To make subsequent code cleaner, we have a few functions here. You can ignore\n",
    "# ignore them when you first see this demo.\n",
    "# They have (minimal) documentation using Python docstrings such that you \n",
    "# can do for instance \"help(imshow)\"\n",
    "#\n",
    "# First a function to display an image\n",
    "def imshow(image, limits, title=''):\n",
    "    \"\"\"Display an image with a colourbar, returning the plot handle. \n",
    "\n",
    "    Arguments:\n",
    "    image -- a 2D array of numbers\n",
    "    limits -- colourscale limits as [min,max]. An empty [] uses the full range\n",
    "    title -- a string for the title of the plot (default \"\")\n",
    "    \"\"\"\n",
    "    plt.title(title)\n",
    "    bitmap=plt.imshow(image)\n",
    "    if len(limits)==0:\n",
    "        limits=[image.min(),image.max()]\n",
    "\n",
    "    plt.clim(limits[0], limits[1])\n",
    "    plt.colorbar(shrink=.6)\n",
    "    plt.axis('off')\n",
    "    return bitmap\n",
    "\n",
    "def make_positive(image_array):\n",
    "    \"\"\"Truncate any negatives in an ndarray to zero.\"\"\"\n",
    "    image_array[image_array<0] = 0\n",
    "    return image_array\n",
    "\n",
    "def make_cylindrical_FOV(image):\n",
    "    \"\"\"Truncate a pet image to a cylindrical FOV.\"\"\"\n",
    "    filter = pet.TruncateToCylinderProcessor()\n",
    "    filter.apply(image)"
   ]
  },
  {
   "cell_type": "code",
   "execution_count": null,
   "metadata": {},
   "outputs": [],
   "source": [
    "#%% Go to directory with input files\n",
    "# Adapt this path to your situation (or start everything in the relevant directory)\n",
    "os.chdir(examples_data_path('PET'))"
   ]
  },
  {
   "cell_type": "code",
   "execution_count": null,
   "metadata": {},
   "outputs": [],
   "source": [
    "#%% Copy files to a working folder and change directory to where these files are.\n",
    "# We do this to avoid cluttering your SIRF files. This way, you can delete \n",
    "# working_folder and start from scratch.\n",
    "shutil.rmtree('working_folder/brain',True)\n",
    "shutil.copytree('brain','working_folder/brain')\n",
    "os.chdir('working_folder/brain')"
   ]
  },
  {
   "cell_type": "markdown",
   "metadata": {},
   "source": [
    "OK. finally done with initial set-up..."
   ]
  },
  {
   "cell_type": "markdown",
   "metadata": {},
   "source": [
    "# Basic image manipulations\n",
    "Images (like most other things in SIRF) are represented as *objects*, in this case of type `ImageData`.\n",
    "In practice, this means that you can only manipulate its data via *methods*.\n",
    "\n",
    "Image objects contain the actual voxel values, but also information on the number of voxels,\n",
    "voxel size, etc. There are methods to get this information.\n",
    "\n",
    "There are additional methods for other manipulations, such as basic image arithmetic (e.g.,\n",
    "you can add image objects)."
   ]
  },
  {
   "cell_type": "code",
   "execution_count": null,
   "metadata": {},
   "outputs": [],
   "source": [
    "#%% Read in images\n",
    "# Here we will read some images provided with the demo using the ImageData class.\n",
    "# These are in Interfile format. (A text header pointing to a .v file with the binary data).\n",
    "image = pet.ImageData('emission.hv')\n",
    "mu_map = pet.ImageData('attenuation.hv')"
   ]
  },
  {
   "cell_type": "code",
   "execution_count": null,
   "metadata": {},
   "outputs": [],
   "source": [
    "#%% What is an ImageData?\n",
    "# Images are represented by objects with several methods. The most important method \n",
    "# is as_array() which we'll use below.\n",
    "# Let's see what all the methods are.\n",
    "help(pet.ImageData)"
   ]
  },
  {
   "cell_type": "code",
   "execution_count": null,
   "metadata": {},
   "outputs": [],
   "source": [
    "#%% Use as_array to extract an array of voxel values\n",
    "# The resulting array as a `numpy` array, as standard in Python.\n",
    "image_array=image.as_array()\n",
    "# We can use the standard `numpy` methods on this array, such as getting its `shape` (i.e. dimensions).\n",
    "print(image_array.shape)\n",
    "# Whenever we want to do something with the image-values, we have to do it via this array.\n",
    "# Let's print a voxel-value.\n",
    "print(image_array[10,40,60])"
   ]
  },
  {
   "cell_type": "code",
   "execution_count": null,
   "metadata": {},
   "outputs": [],
   "source": [
    "#%% Manipulate the image data for illustration\n",
    "# Multiply the data with a factor\n",
    "image_array *= 0.01\n",
    "# Stick this new data into the original image object.\n",
    "# (This will not modify the file content, only the variable in memory.)\n",
    "image.fill(image_array)\n",
    "print(image_array[10,40,60])"
   ]
  },
  {
   "cell_type": "code",
   "execution_count": null,
   "metadata": {},
   "outputs": [],
   "source": [
    "#%% You can do basic math manipulations with ImageData objects \n",
    "# So the above lines can be done directly on the `image` object\n",
    "image *= 0.01\n",
    "# Let's check\n",
    "image_array=image.as_array()\n",
    "print(image_array[10,40,60])"
   ]
  },
  {
   "cell_type": "code",
   "execution_count": null,
   "metadata": {},
   "outputs": [],
   "source": [
    "#%% Display the middle slice of the image (which is really a 3D volume)\n",
    "# We will use our own imshow function (which was defined above) for brevity.\n",
    "\n",
    "# Get the middle slice number\n",
    "slice_num = image_array.shape[0]//2\n",
    "# Create a new figure\n",
    "plt.figure()\n",
    "# Display the slice\n",
    "imshow(image_array[slice_num,:,:,], [], 'emission image');"
   ]
  },
  {
   "cell_type": "code",
   "execution_count": null,
   "metadata": {},
   "outputs": [],
   "source": [
    "#%% Some other things to do with ImageData objects\n",
    "print(image.voxel_sizes())\n",
    "another_image=image.clone()\n",
    "an_image_with_fixed_values = image.get_uniform_copy(5)"
   ]
  }
 ],
 "metadata": {
  "kernelspec": {
   "display_name": "Python 3",
   "language": "python",
   "name": "python3"
  },
  "language_info": {
   "codemirror_mode": {
    "name": "ipython"
   },
   "file_extension": ".py",
   "mimetype": "text/x-python",
   "name": "python",
   "nbconvert_exporter": "python"
  }
 },
 "nbformat": 4,
 "nbformat_minor": 2
}

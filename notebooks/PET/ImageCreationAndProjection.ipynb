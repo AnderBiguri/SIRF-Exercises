{
  "nbformat": 3, 
  "worksheets": [
    {
      "cells": [
        {
          "cell_type": "code", 
          "language": "python", 
          "input": [
            "# -*- coding: utf-8 -*-\n", 
            "###\n", 
            "# Demonstration of basic PET capabilities with SIRF: \n", 
            "# creating images using shapes and project them\n", 
            "#\n", 
            "# This demo is a 'script', i.e. intended to be run step by step in a \n", 
            "# Python IDE such as spyder. It is organised in 'cells'. spyder displays these\n", 
            "# cells nicely and allows you to run each cell on its own.\n", 
            "#\n", 
            "# WARNING: This script assumes you have run the display_and_projection.py demo first!\n", 
            "#\n", 
            "# Author: Kris Thielemans\n", 
            "# Author: Evgueni Ovtchinnikov\n", 
            "#\n", 
            "## CCP PETMR Synergistic Image Reconstruction Framework (SIRF)\n", 
            "## Copyright 2015 - 2017 Rutherford Appleton Laboratory STFC\n", 
            "## Copyright 2015 - 2017 University College London.\n", 
            "##\n", 
            "## This is software developed for the Collaborative Computational\n", 
            "## Project in Positron Emission Tomography and Magnetic Resonance imaging\n", 
            "## (http://www.ccppetmr.ac.uk/).\n", 
            "##\n", 
            "## Licensed under the Apache License, Version 2.0 (the \"License\");\n", 
            "##   you may not use this file except in compliance with the License.\n", 
            "##   You may obtain a copy of the License at\n", 
            "##       http://www.apache.org/licenses/LICENSE-2.0\n", 
            "##   Unless required by applicable law or agreed to in writing, software\n", 
            "##   distributed under the License is distributed on an \"AS IS\" BASIS,\n", 
            "##   WITHOUT WARRANTIES OR CONDITIONS OF ANY KIND, either express or implied.\n", 
            "##   See the License for the specific language governing permissions and\n", 
            "##   limitations under the License.\n", 
            "\n"
          ], 
          "outputs": [], 
          "collapsed": false, 
          "metadata": {}
        }, 
        {
          "cell_type": "code", 
          "language": "python", 
          "input": [
            "#%% just check if you ran the previous demo\n", 
            "if 'image' in globals():\n", 
            "    print('Ok, we can proceed')\n", 
            "else:\n", 
            "    print('This script assumes you have run the display_and_projection.py demo first!')\n", 
            "\n"
          ], 
          "outputs": [], 
          "collapsed": false, 
          "metadata": {}
        }, 
        {
          "cell_type": "code", 
          "language": "python", 
          "input": [
            "#%% Import some extra functions\n", 
            "from pUtilities import show_2D_array, show_3D_array\n"
          ], 
          "outputs": [], 
          "collapsed": false, 
          "metadata": {}
        }, 
        {
          "cell_type": "code", 
          "language": "python", 
          "input": [
            "#%% create a shape\n", 
            "shape = pet.EllipticCylinder()\n", 
            "# define its size (in mm)\n", 
            "shape.set_length(50)\n", 
            "shape.set_radii((30, 40))\n", 
            "# centre of shape in (x,y,z) coordinates where (0,0,0) is centre of first plane\n", 
            "shape.set_origin((60, -30, 20))\n", 
            "\n"
          ], 
          "outputs": [], 
          "collapsed": false, 
          "metadata": {}
        }, 
        {
          "cell_type": "code", 
          "language": "python", 
          "input": [
            "#%% add the shape to the image\n", 
            "# first set the image values to 0\n", 
            "image.fill(0)\n", 
            "image.add_shape(shape, scale = 1)\n", 
            "\n"
          ], 
          "outputs": [], 
          "collapsed": false, 
          "metadata": {}
        }, 
        {
          "cell_type": "code", 
          "language": "python", 
          "input": [
            "#%% add same shape at different location and with different intensity\n", 
            "shape.set_origin((-60, -30, 40))\n", 
            "image.add_shape(shape, scale = 0.75)\n", 
            "\n"
          ], 
          "outputs": [], 
          "collapsed": false, 
          "metadata": {}
        }, 
        {
          "cell_type": "code", 
          "language": "python", 
          "input": [
            "#%% show the phantom image as a sequence of transverse images\n", 
            "show_3D_array(image.as_array())\n", 
            "\n"
          ], 
          "outputs": [], 
          "collapsed": false, 
          "metadata": {}
        }, 
        {
          "cell_type": "code", 
          "language": "python", 
          "input": [
            "#%% forward project this image and display all sinograms\n", 
            "acquired_data = am.forward(image)\n", 
            "acquisition_array = acquired_data.as_array();\n", 
            "show_3D_array(acquisition_array);\n"
          ], 
          "outputs": [], 
          "collapsed": false, 
          "metadata": {}
        }, 
        {
          "cell_type": "code", 
          "language": "python", 
          "input": [
            "#%% Show every 8th view \n", 
            "# Doing this here with a complicated one-liner...\n", 
            "show_3D_array(acquisition_array[:,range(0,acquisition_array.shape[1],8),:].transpose(1,0,2))\n", 
            "# You could now of course try the animation of the previous demo...\n"
          ], 
          "outputs": [], 
          "collapsed": false, 
          "metadata": {}
        }
      ], 
      "metadata": {}
    }
  ], 
  "metadata": {
    "name": "", 
    "signature": "sha256:6ce8b1ffba5f8366971603b6079fcd9cde7af7a5754b5f219d38846a6a25a2a9"
  }, 
  "nbformat_minor": 0
}
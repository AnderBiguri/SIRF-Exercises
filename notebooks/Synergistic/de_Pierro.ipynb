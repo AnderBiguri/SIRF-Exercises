{
 "cells": [
  {
   "cell_type": "markdown",
   "metadata": {},
   "source": [
    "# MAPEM de Pierro algorithm"
   ]
  },
  {
   "cell_type": "code",
   "execution_count": null,
   "metadata": {},
   "outputs": [],
   "source": [
    "#%% make sure figures appears inline and animations works\n",
    "%matplotlib notebook"
   ]
  },
  {
   "cell_type": "code",
   "execution_count": null,
   "metadata": {},
   "outputs": [],
   "source": [
    "import sirf.STIR as pet\n",
    "import matplotlib.pyplot as plt\n",
    "import os\n",
    "import numpy as np\n",
    "from numpy.linalg import norm\n",
    "import sirf.contrib.kcl.Prior as pr\n",
    "\n",
    "# Get to correct directory\n",
    "os.chdir(\"/data/SRS_data_exhale/\")\n",
    "\n",
    "# We'll need a template sinogram\n",
    "templ_sino = pet.AcquisitionData('mMR_template_span11.hs')"
   ]
  },
  {
   "cell_type": "code",
   "execution_count": null,
   "metadata": {},
   "outputs": [],
   "source": [
    "num_subiters=50\n",
    "\n",
    "#%% some handy function definitions\n",
    "def imshow(image, limits=None, title=''):\n",
    "    \"\"\"Usage: imshow(image, [min,max], title)\"\"\"\n",
    "    plt.title(title)\n",
    "    bitmap = plt.imshow(image)\n",
    "    if limits is None:\n",
    "        limits = [image.min(), image.max()]\n",
    "                \n",
    "    plt.clim(limits[0], limits[1])\n",
    "    plt.colorbar(shrink=.6)\n",
    "    plt.axis('off')\n",
    "    return bitmap\n",
    "\n",
    "def make_cylindrical_FOV(image):\n",
    "    \"\"\"truncate to cylindrical FOV\"\"\"\n",
    "    filter = pet.TruncateToCylinderProcessor()\n",
    "    filter.apply(image)"
   ]
  },
  {
   "cell_type": "markdown",
   "metadata": {},
   "source": [
    "## PET ground truth"
   ]
  },
  {
   "cell_type": "code",
   "execution_count": null,
   "metadata": {},
   "outputs": [],
   "source": [
    "gt_act = pet.ImageData('PET_activity.nii')\n",
    "gt_atten = pet.ImageData('PET_attenuation.nii')\n",
    "\n",
    "fig, axs = plt.subplots(2,3);\n",
    "fig.suptitle('Ground truth PET');\n",
    "\n",
    "# PET Activity\n",
    "axs[0,0].set_ylabel('Activity', rotation=90, size='large');\n",
    "axs[0,0].imshow(gt_act.as_array()[:,:,60]);\n",
    "axs[0,1].imshow(gt_act.as_array()[:,60,:]);\n",
    "axs[0,2].imshow(gt_act.as_array()[60,:,:]);\n",
    "\n",
    "# PET attenuation\n",
    "axs[1,0].set_ylabel('Attenuation', rotation=90, size='large');\n",
    "axs[1,0].imshow(gt_atten.as_array()[:,:,60]);\n",
    "axs[1,1].imshow(gt_atten.as_array()[:,60,:]);\n",
    "axs[1,2].imshow(gt_atten.as_array()[60,:,:]);"
   ]
  },
  {
   "cell_type": "markdown",
   "metadata": {},
   "source": [
    "## MR ground truth"
   ]
  },
  {
   "cell_type": "code",
   "execution_count": null,
   "metadata": {},
   "outputs": [],
   "source": [
    "gt_T1 = pet.ImageData('MR_T1.nii')\n",
    "gt_T2 = pet.ImageData('MR_T2.nii')\n",
    "gt_PD = pet.ImageData('MR_PD.nii')\n",
    "\n",
    "fig, axs = plt.subplots(3,3);\n",
    "fig.suptitle('Ground truth MR');\n",
    "\n",
    "# MR T1\n",
    "axs[0,0].set_ylabel('T1', rotation=90, size='large');\n",
    "axs[0,0].imshow(gt_T1.as_array()[:,:,60]);\n",
    "axs[0,1].imshow(gt_T1.as_array()[:,60,:]);\n",
    "axs[0,2].imshow(gt_T1.as_array()[60,:,:]);\n",
    "\n",
    "# MR T1\n",
    "axs[1,0].set_ylabel('T2', rotation=90, size='large');\n",
    "axs[1,0].imshow(gt_T2.as_array()[:,:,60]);\n",
    "axs[1,1].imshow(gt_T2.as_array()[:,60,:]);\n",
    "axs[1,2].imshow(gt_T2.as_array()[60,:,:]);\n",
    "\n",
    "# MR PD\n",
    "axs[2,0].set_ylabel('PD', rotation=90, size='large');\n",
    "axs[2,0].imshow(gt_PD.as_array()[:,:,60]);\n",
    "axs[2,1].imshow(gt_PD.as_array()[:,60,:]);\n",
    "axs[2,2].imshow(gt_PD.as_array()[60,:,:]);"
   ]
  },
  {
   "cell_type": "markdown",
   "metadata": {},
   "source": [
    "## Create noise"
   ]
  },
  {
   "cell_type": "code",
   "execution_count": null,
   "metadata": {},
   "outputs": [],
   "source": [
    "#%% create acquisition model\n",
    "am = pet.AcquisitionModelUsingRayTracingMatrix()\n",
    "am.set_num_tangential_LORs(5)\n",
    "\n",
    "# Set up sensitivity due to attenuation\n",
    "asm_attn = pet.AcquisitionSensitivityModel(gt_atten, am)\n",
    "asm_attn.set_up(templ_sino)\n",
    "bin_eff = pet.AcquisitionData(templ_sino)\n",
    "bin_eff.fill(1.0)\n",
    "print('applying attenuation (please wait, may take a while)...')\n",
    "asm_attn.unnormalise(bin_eff)\n",
    "asm_attn = pet.AcquisitionSensitivityModel(bin_eff)\n",
    "\n",
    "am.set_acquisition_sensitivity(asm_attn)\n",
    "\n",
    "am.set_up(templ_sino,gt_act);"
   ]
  },
  {
   "cell_type": "code",
   "execution_count": null,
   "metadata": {},
   "outputs": [],
   "source": [
    "#%% simulate some data using forward projection\n",
    "gt_sino = am.forward(gt_act)"
   ]
  },
  {
   "cell_type": "code",
   "execution_count": null,
   "metadata": {},
   "outputs": [],
   "source": [
    "gt_sino_array = np.abs(gt_sino.as_array());\n",
    "noisy_array = np.random.poisson(gt_sino_array).astype('float64');\n",
    "noisy_sino = gt_sino.clone();\n",
    "noisy_sino.fill(noisy_array);"
   ]
  },
  {
   "cell_type": "code",
   "execution_count": null,
   "metadata": {},
   "outputs": [],
   "source": [
    "sino_max = gt_sino_array[0,400,:,:].max()\n",
    "\n",
    "plt.figure()\n",
    "plt.subplot(1,2,1);\n",
    "imshow(gt_sino_array[0,400,:,:], [0,sino_max], 'Original');\n",
    "plt.subplot(1,2,2);\n",
    "imshow(noisy_array[0,400,:,:], [0,sino_max], 'Noisy');"
   ]
  },
  {
   "cell_type": "markdown",
   "metadata": {},
   "source": [
    "## OSEM reconstruction of noisy data"
   ]
  },
  {
   "cell_type": "code",
   "execution_count": null,
   "metadata": {},
   "outputs": [],
   "source": [
    "#%% create objective function\n",
    "obj_fun = pet.make_Poisson_loglikelihood(noisy_sino)\n",
    "obj_fun.set_acquisition_model(am)\n",
    "#%% create OSEM reconstructor\n",
    "OSEM_reconstructor = pet.OSMAPOSLReconstructor()\n",
    "OSEM_reconstructor.set_objective_function(obj_fun)\n",
    "OSEM_reconstructor.set_num_subsets(21)\n",
    "OSEM_reconstructor.set_num_subiterations(num_subiters)\n",
    "#%%  create initial image\n",
    "init_image=gt_act.get_uniform_copy(gt_act.as_array().max()*.1)\n",
    "make_cylindrical_FOV(init_image)\n",
    "\n",
    "reconstructed_image = init_image.clone()\n",
    "OSEM_reconstructor.set_up(reconstructed_image)\n",
    "OSEM_reconstructor.reconstruct(reconstructed_image)"
   ]
  },
  {
   "cell_type": "code",
   "execution_count": null,
   "metadata": {},
   "outputs": [],
   "source": [
    "plt.figure()\n",
    "\n",
    "max_in_recon = reconstructed_image.as_array()[:,:,60].max()\n",
    "\n",
    "plt.subplot(1,3,1);\n",
    "imshow(reconstructed_image.as_array()[:,:,60],[0, max_in_recon]);\n",
    "plt.subplot(1,3,2);\n",
    "imshow(reconstructed_image.as_array()[:,60,:],[0, max_in_recon]);\n",
    "plt.subplot(1,3,3);\n",
    "imshow(reconstructed_image.as_array()[60,:,:],[0, max_in_recon]);"
   ]
  },
  {
   "cell_type": "markdown",
   "metadata": {},
   "source": [
    "## Now use dePierro MAPEM"
   ]
  },
  {
   "cell_type": "code",
   "execution_count": null,
   "metadata": {},
   "outputs": [],
   "source": [
    "def dePierroUpdate(imageEM, imageReg, beta, sensImg):\n",
    "    \n",
    "    delta = 1e-6*abs(sensImg).max()\n",
    "    sensImg[sensImg < delta] = delta # avoid division by zero\n",
    "    beta_j = beta/sensImg\n",
    "    \n",
    "    b_j = 1 - beta_j*imageReg\n",
    "    \n",
    "    numer = (2*imageEM)\n",
    "    denom = ((b_j**2 + 4*beta_j*imageEM)**0.5 + b_j)\n",
    "    \n",
    "    delta = 1e-6*abs(denom).max()\n",
    "    denom[denom < delta] = delta # avoid division by zero\n",
    "    \n",
    "    imageUpdated = numer/denom\n",
    "    \n",
    "    return imageUpdated\n",
    "\n",
    "\n",
    "def dePierroReg(image,weights):\n",
    "    \n",
    "    # get size and vectorise image for indexing \n",
    "    imSize = image.shape\n",
    "    imageVec = image.reshape(-1,1,order='F').flatten('F')\n",
    "    \n",
    "    # get the neigbourhoods of each voxel\n",
    "    weightsSize = weights.shape\n",
    "    w = int(round(weightsSize[1]**(1.0/3))) # side length of neighbourhood\n",
    "    nhoodInd    = neighbourExtract(imSize,w)\n",
    "    nhoodIndVec = nhoodInd.reshape(-1,1,order='F').flatten('F')\n",
    "    \n",
    "    # retrieve voxel intensities for neighbourhoods \n",
    "    resultVec = np.float32(imageVec[nhoodIndVec])\n",
    "    result = resultVec.reshape(nhoodInd.shape,order='F')\n",
    "    \n",
    "    # compute xreg\n",
    "    try:\n",
    "        imageReg = 0.5*np.sum(weights*(result + np.float32(image).reshape(-1,1,order='F')),axis=1)\n",
    "    except:\n",
    "        tmpVar = 1;    \n",
    "    imageReg = imageReg.reshape(imSize,order='F')\n",
    "    \n",
    "    return imageReg\n",
    "\n",
    "\n",
    "def neighbourExtract(imageSize,w):\n",
    "    # Adapted from Prior class        \n",
    "    n = imageSize[0]\n",
    "    m = imageSize[1]\n",
    "    h = imageSize[2]\n",
    "    wlen = 2*np.floor(w/2)\n",
    "    widx = xidx = yidx = np.arange(-wlen/2,wlen/2+1)\n",
    "\n",
    "    if h==1:\n",
    "        zidx = [0]\n",
    "        nN = w*w\n",
    "    else:\n",
    "        zidx = widx\n",
    "        nN = w*w*w\n",
    "        \n",
    "    Y,X,Z = np.meshgrid(np.arange(0,m), np.arange(0,n), np.arange(0,h))                \n",
    "    N = np.zeros([n*m*h, nN],dtype='int32')\n",
    "    l = 0\n",
    "    for x in xidx:\n",
    "        Xnew = setBoundary(X + x,n)\n",
    "        for y in yidx:\n",
    "            Ynew = setBoundary(Y + y,m)\n",
    "            for z in zidx:\n",
    "                Znew = setBoundary(Z + z,h)\n",
    "                N[:,l] = ((Xnew + (Ynew)*n + (Znew)*n*m)).reshape(-1,1).flatten('F')\n",
    "                l += 1\n",
    "    return N\n",
    "\n",
    "\n",
    "def setBoundary(X,n):\n",
    "    # Boundary conditions for neighbourExtract\n",
    "    # Adapted from Prior class\n",
    "    idx = X<0\n",
    "    X[idx] = X[idx] + n\n",
    "    idx = X>n-1\n",
    "    X[idx] = X[idx] - n\n",
    "    return X.flatten('F')"
   ]
  },
  {
   "cell_type": "code",
   "execution_count": null,
   "metadata": {},
   "outputs": [],
   "source": [
    "sensitivity_image = obj_fun.get_subset_sensitivity(0)\n",
    "\n",
    "MR_image_for_guidance = gt_T1.as_array()\n",
    "# Can't have <= 0 for weights\n",
    "MR_image_for_guidance[MR_image_for_guidance<=0] = 0.001\n",
    "\n",
    "# create a Prior for computing Bowsher weights\n",
    "myPrior = pr.Prior(gt_T1.as_array().shape)\n",
    "weights = myPrior.BowshserWeights(MR_image_for_guidance,7)\n",
    "weights = np.float32(weights/7.0)\n",
    "if (np.abs(np.sum(weights,axis=1)-1)>1.0e-6).any():\n",
    "    raise ValueError(\"Weights should sum to 1 for each voxel\")\n",
    "\n",
    "de_pierro_reconstructed_image = init_image.clone()\n",
    "\n",
    "# Create OSEM reconstructor\n",
    "print('Setting up reconstruction object')\n",
    "OSEM_reconstructor = pet.OSMAPOSLReconstructor()\n",
    "OSEM_reconstructor.set_objective_function(obj_fun)                             \n",
    "OSEM_reconstructor.set_num_subsets(21)\n",
    "OSEM_reconstructor.set_num_subiterations(num_subiters)\n",
    "OSEM_reconstructor.set_up(de_pierro_reconstructed_image)"
   ]
  },
  {
   "cell_type": "code",
   "execution_count": null,
   "metadata": {},
   "outputs": [],
   "source": [
    "for iter in range(1,num_subiters + 1):\n",
    "    print('\\n------------- Subiteration %d' % iter) \n",
    "    \n",
    "    # Calculate imageReg and return as an array\n",
    "    imageReg_array = dePierroReg(de_pierro_reconstructed_image.as_array(),weights)\n",
    "    \n",
    "    # OSEM image update\n",
    "    OSEM_reconstructor.update(de_pierro_reconstructed_image)\n",
    "    imageEM_array = de_pierro_reconstructed_image.as_array()\n",
    "\n",
    "    # Final image update\n",
    "    imageUpdated_array = dePierroUpdate \\\n",
    "        (imageEM_array, imageReg_array, 50000, sensitivity_image.as_array())\n",
    "\n",
    "    # Fill image and truncate to cylindrical field of view        \n",
    "    de_pierro_reconstructed_image.fill(imageUpdated_array)\n",
    "    make_cylindrical_FOV(de_pierro_reconstructed_image)"
   ]
  },
  {
   "cell_type": "code",
   "execution_count": null,
   "metadata": {},
   "outputs": [],
   "source": [
    "plt.figure()\n",
    "\n",
    "max_in_recon = max(max_in_recon, reconstructed_image.as_array()[:,:,60].max())\n",
    "\n",
    "plt.subplot(2,3,1);\n",
    "imshow(reconstructed_image.as_array()[:,:,60],[0, max_in_recon]);\n",
    "plt.subplot(2,3,2);\n",
    "imshow(reconstructed_image.as_array()[:,60,:],[0, max_in_recon]);\n",
    "plt.subplot(2,3,3);\n",
    "imshow(reconstructed_image.as_array()[60,:,:],[0, max_in_recon]);\n",
    "plt.subplot(2,3,4);\n",
    "imshow(de_pierro_reconstructed_image.as_array()[:,:,60],[0, max_in_recon]);\n",
    "plt.subplot(2,3,5);\n",
    "imshow(de_pierro_reconstructed_image.as_array()[:,60,:],[0, max_in_recon]);\n",
    "plt.subplot(2,3,6);\n",
    "imshow(de_pierro_reconstructed_image.as_array()[60,:,:],[0, max_in_recon]);"
   ]
  },
  {
   "cell_type": "code",
   "execution_count": null,
   "metadata": {},
   "outputs": [],
   "source": []
  }
 ],
 "metadata": {
  "kernelspec": {
   "display_name": "Python 2",
   "language": "python",
   "name": "python2"
  },
  "language_info": {
   "codemirror_mode": {
    "name": "ipython"
   },
   "file_extension": ".py",
   "mimetype": "text/x-python",
   "name": "python",
   "nbconvert_exporter": "python"
  }
 },
 "nbformat": 4,
 "nbformat_minor": 2
}

{
 "metadata": {
  "name": "",
  "signature": "sha256:47adce1430ad06d164177e48db904dc46fb34adc13d5a30221c5e20f7967e0b2"
 },
 "nbformat": 3,
 "nbformat_minor": 0,
 "worksheets": [
  {
   "cells": [
    {
     "cell_type": "code",
     "collapsed": false,
     "input": [
      "# -*- coding: utf-8 -*-\n",
      "###\n",
      "# Demonstration of MR reconstruction with CCP PET-MR Software\n",
      "#\n",
      "# This demonstration shows how to reconstruct MR images on a coil-by-coil basis\n",
      "# and how to combine the image information from the different receiver coils\n",
      "#\n",
      "# This demo is a 'script', i.e. intended to be run step by step in a\n",
      "# Python IDE such as spyder. It is organised in 'cells'. spyder displays these\n",
      "# cells nicely and allows you to run each cell on its own.\n",
      "#\n",
      "# First version: 27th of May 2017\n",
      "# Author: Christoph Kolbitsch\n",
      "#\n",
      "\n",
      "## CCP PETMR Synergistic Image Reconstruction Framework (SIRF).\n",
      "## Copyright 2015 - 2017 Rutherford Appleton Laboratory STFC.\n",
      "## Copyright 2015 - 2017 University College London.\n",
      "## Copyright 2015 - 2017 Physikalisch-Technische Bundesanstalt.\n",
      "##\n",
      "## This is software developed for the Collaborative Computational\n",
      "## Project in Positron Emission Tomography and Magnetic Resonance imaging\n",
      "## (http://www.ccppetmr.ac.uk/).\n",
      "##\n",
      "## Licensed under the Apache License, Version 2.0 (the \"License\");\n",
      "##   you may not use this file except in compliance with the License.\n",
      "##   You may obtain a copy of the License at\n",
      "##       http://www.apache.org/licenses/LICENSE-2.0\n",
      "##   Unless required by applicable law or agreed to in writing, software\n",
      "##   distributed under the License is distributed on an \"AS IS\" BASIS,\n",
      "##   WITHOUT WARRANTIES OR CONDITIONS OF ANY KIND, either express or implied.\n",
      "##   See the License for the specific language governing permissions and\n",
      "##   limitations under the License.\n",
      "\n",
      "__version__ = '0.1.0'\n",
      "\n",
      "# import engine module\n",
      "import pGadgetron as pMR\n",
      "\n",
      "# import further modules\n",
      "import os, numpy\n",
      "%matplotlib\n",
      "import matplotlib.pyplot as plt\n",
      "\n"
     ],
     "language": "python",
     "metadata": {},
     "outputs": [
      {
       "output_type": "stream",
       "stream": "stdout",
       "text": [
        "Using matplotlib backend: TkAgg\n"
       ]
      }
     ],
     "prompt_number": 1
    },
    {
     "cell_type": "code",
     "collapsed": false,
     "input": [
      "#%% GO TO MR FOLDER\n",
      "os.chdir(pMR.petmr_data_path('mr'))\n",
      "\n"
     ],
     "language": "python",
     "metadata": {},
     "outputs": [],
     "prompt_number": 2
    },
    {
     "cell_type": "code",
     "collapsed": false,
     "input": [
      "#%% LOAD AND PREPROCESS RAW MR DATA\n",
      "acq_data = pMR.AcquisitionData('simulated_MR_2D_cartesian.h5')\n",
      "preprocessed_data = pMR.preprocess_acquisition_data(acq_data)\n",
      "\n",
      "\n"
     ],
     "language": "python",
     "metadata": {},
     "outputs": [],
     "prompt_number": 3
    },
    {
     "cell_type": "code",
     "collapsed": false,
     "input": [
      "#%% CHECK IF K-SPACE DATA IS SORTED\n",
      "print('Is k-space data sorted? %s' % preprocessed_data.is_sorted())\n",
      "\n",
      "\n"
     ],
     "language": "python",
     "metadata": {},
     "outputs": [
      {
       "output_type": "stream",
       "stream": "stdout",
       "text": [
        "Is k-space data sorted? False\n"
       ]
      }
     ],
     "prompt_number": 4
    },
    {
     "cell_type": "code",
     "collapsed": false,
     "input": [
      "#%% SORT K-SPACE DATA\n",
      "preprocessed_data.sort()\n",
      "print('Is k-space data sorted? %s' % preprocessed_data.is_sorted())\n",
      "\n",
      "\n"
     ],
     "language": "python",
     "metadata": {},
     "outputs": [
      {
       "output_type": "stream",
       "stream": "stdout",
       "text": [
        "Is k-space data sorted? True\n"
       ]
      }
     ],
     "prompt_number": 5
    },
    {
     "cell_type": "code",
     "collapsed": false,
     "input": [
      "#%% RETRIEVE K-SPACE DATA\n",
      "k_array = preprocessed_data.as_array()\n",
      "print('Size of k-space %dx%dx%d' % k_array.shape)\n",
      "\n",
      "\n"
     ],
     "language": "python",
     "metadata": {},
     "outputs": [
      {
       "output_type": "stream",
       "stream": "stdout",
       "text": [
        "Size of k-space 512x8x256\n"
       ]
      }
     ],
     "prompt_number": 6
    },
    {
     "cell_type": "code",
     "collapsed": false,
     "input": [
      "#%% SELECT FIRST REPETITION AND VIEW DATA\n",
      "k_array = k_array[0:256,:,:]\n",
      "print('Size of k-space %dx%dx%d' % k_array.shape)\n",
      "\n",
      "plt.close()\n",
      "fig = plt.figure(1)\n",
      "plt.set_cmap('jet')\n",
      "for c in range(k_array.shape[1]):\n",
      "    ax = fig.add_subplot(2,4,c+1)\n",
      "    ax.imshow(abs(k_array[:,c,:]), vmin=0, vmax=1)\n",
      "    ax.set_title('Coil '+str(c+1))\n",
      "    ax.axis('off')\n",
      "\n",
      "\n"
     ],
     "language": "python",
     "metadata": {},
     "outputs": [
      {
       "output_type": "stream",
       "stream": "stdout",
       "text": [
        "Size of k-space 256x8x256\n"
       ]
      }
     ],
     "prompt_number": 7
    },
    {
     "cell_type": "code",
     "collapsed": false,
     "input": [
      "#%% APPLY INVERSE FFT TO EACH COIL AND VIEW IMAGES\n",
      "image_array = numpy.zeros(k_array.shape, numpy.complex128)\n",
      "for c in range(k_array.shape[1]):\n",
      "    image_array[:,c,:] = numpy.fft.fftshift(numpy.fft.ifft2(numpy.fft.ifftshift(k_array[:,c,:])))\n",
      "image_array = image_array/image_array.max()\n",
      "   \n",
      "fig = plt.figure(2)   \n",
      "plt.set_cmap('gray')\n",
      "for c in range(image_array.shape[1]):\n",
      "    ax = fig.add_subplot(2,4,c+1)\n",
      "    ax.imshow(abs(image_array[:,c,:]), vmin=0, vmax=0.4)\n",
      "    ax.set_title('Coil '+str(c+1))\n",
      "    ax.axis('off')\n",
      "    \n",
      "    \n"
     ],
     "language": "python",
     "metadata": {},
     "outputs": [],
     "prompt_number": 8
    },
    {
     "cell_type": "code",
     "collapsed": false,
     "input": [
      "#%% COMBINE COIL IMAGES USING SOS\n",
      "image_array_sos = abs(numpy.sqrt(numpy.sum(numpy.square(image_array),1)))    \n",
      "image_array_sos = image_array_sos/image_array_sos.max()\n",
      "\n",
      "fig = plt.figure(3)\n",
      "plt.set_cmap('gray')\n",
      "plt.imshow(image_array_sos, vmin=0, vmax=0.7)\n",
      "plt.title('Combined image using sum-of-squares') \n",
      "\n",
      "\n"
     ],
     "language": "python",
     "metadata": {},
     "outputs": [
      {
       "metadata": {},
       "output_type": "pyout",
       "prompt_number": 9,
       "text": [
        "<matplotlib.text.Text at 0x7fedc4d54910>"
       ]
      }
     ],
     "prompt_number": 9
    },
    {
     "cell_type": "code",
     "collapsed": false,
     "input": [
      "#%% CALCULATE COIL SENSITIVITIES\n",
      "csm = pMR.CoilSensitivityData()\n",
      "csm.smoothness = 4\n",
      "csm.calculate(preprocessed_data)\n",
      "csm_array = numpy.squeeze(csm.as_array(0))\n",
      "\n",
      "# csm_array has orientation [coil, im_x, im_y]\n",
      "csm_array = csm_array.transpose([1,0,2])\n",
      "\n",
      "fig = plt.figure(4)\n",
      "plt.set_cmap('jet')\n",
      "for c in range(csm_array.shape[1]):\n",
      "    ax = fig.add_subplot(2,4,c+1)\n",
      "    ax.imshow(abs(csm_array[:,c,:]))\n",
      "    ax.set_title('Coil '+str(c+1))\n",
      "    ax.axis('off')\n",
      "\n",
      "\n"
     ],
     "language": "python",
     "metadata": {},
     "outputs": [],
     "prompt_number": 10
    },
    {
     "cell_type": "code",
     "collapsed": false,
     "input": [
      "#%% COMBINE COIL IMAGES USING WEIGHTED SUM\n",
      "image_array_ws = numpy.sum(numpy.multiply(image_array, numpy.conj(csm_array)),1)\n",
      "image_array_ws = abs(numpy.divide(image_array_ws, numpy.sum(numpy.multiply(csm_array, numpy.conj(csm_array)),1)))\n",
      "image_array_ws = image_array_ws/image_array_ws.max()\n",
      "\n",
      "fig = plt.figure(5, figsize=[12, 4])\n",
      "plt.set_cmap('gray')\n",
      "\n",
      "ax = fig.add_subplot(1,3,1)\n",
      "ax.imshow(image_array_sos, vmin=0, vmax=0.7)\n",
      "ax.set_title('Sum-of-squares (SOS)')\n",
      "ax.axis('off')\n",
      "\n",
      "ax = fig.add_subplot(1,3,2)\n",
      "ax.imshow(image_array_ws, vmin=0, vmax=0.7)\n",
      "ax.set_title('Weighted sum (WS)')\n",
      "ax.axis('off')\n",
      "\n",
      "ax = fig.add_subplot(1,3,3)\n",
      "ax.imshow(abs(image_array_sos-image_array_ws), vmin=-0, vmax=0.1)\n",
      "ax.set_title('SOS - WS')\n",
      "ax.axis('off')\n",
      "\n",
      "\n",
      "\n"
     ],
     "language": "python",
     "metadata": {},
     "outputs": [
      {
       "metadata": {},
       "output_type": "pyout",
       "prompt_number": 11,
       "text": [
        "(-0.5, 255.5, 255.5, -0.5)"
       ]
      }
     ],
     "prompt_number": 11
    },
    {
     "cell_type": "code",
     "collapsed": false,
     "input": [
      "plt.close('all')"
     ],
     "language": "python",
     "metadata": {},
     "outputs": [],
     "prompt_number": 12
    },
    {
     "cell_type": "code",
     "collapsed": false,
     "input": [],
     "language": "python",
     "metadata": {},
     "outputs": []
    }
   ],
   "metadata": {}
  }
 ]
}
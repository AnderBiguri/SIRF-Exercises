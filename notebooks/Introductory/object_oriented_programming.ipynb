{
 "cells": [
  {
   "cell_type": "markdown",
   "metadata": {
    "slideshow": {
     "slide_type": "slide"
    }
   },
   "source": [
    "# Introduction to object oriented programming (OOP)\n",
    "\n",
    "## Person\n",
    "\n",
    "```python\n",
    "class Person:\n",
    "   \n",
    "    # constructor\n",
    "    def __init__(self,firstname,surname,age,job,gender):\n",
    "        self.firstname = firstname\n",
    "        self.surname = surname\n",
    "        self.age = age\n",
    "        self.job = job\n",
    "        self.gender = gender\n",
    "        \n",
    "    def name(self):\n",
    "        return self.firstname + \" \" + self.surname\n",
    "```"
   ]
  },
  {
   "cell_type": "code",
   "execution_count": 1,
   "metadata": {
    "collapsed": false
   },
   "outputs": [],
   "source": [
    "class Person:\n",
    "   \n",
    "    # constructor\n",
    "    def __init__(self,firstname,surname,age,job,gender):\n",
    "        self.firstname = firstname\n",
    "        self.surname = surname\n",
    "        self.age = age\n",
    "        self.job = job\n",
    "        self.gender = gender\n",
    "        \n",
    "    def name(self):\n",
    "        return self.firstname + \" \" + self.surname"
   ]
  },
  {
   "cell_type": "code",
   "execution_count": 2,
   "metadata": {
    "collapsed": false
   },
   "outputs": [],
   "source": [
    "me = Person(\"Ben\", \"Thomas\", 33, \"PDRA\", \"male\")"
   ]
  },
  {
   "cell_type": "code",
   "execution_count": 3,
   "metadata": {
    "collapsed": false
   },
   "outputs": [
    {
     "name": "stdout",
     "output_type": "stream",
     "text": [
      "<__main__.Person object at 0x10ac5cb00>\n"
     ]
    }
   ],
   "source": [
    "print(me)"
   ]
  },
  {
   "cell_type": "code",
   "execution_count": 4,
   "metadata": {
    "collapsed": false,
    "scrolled": true
   },
   "outputs": [
    {
     "name": "stdout",
     "output_type": "stream",
     "text": [
      "33\n",
      "Ben Thomas\n"
     ]
    }
   ],
   "source": [
    "#show name and age\n",
    "print(me.age)\n",
    "print(me.name()) "
   ]
  },
  {
   "cell_type": "markdown",
   "metadata": {},
   "source": [
    "## Encapsulation\n",
    "\n",
    "```python\n",
    "class Person:\n",
    "   \n",
    "    # constructor\n",
    "    def __init__(self,firstname,surname,job,gender):\n",
    "        self.firstname = firstname\n",
    "        self.surname = surname\n",
    "        self.job = job\n",
    "        self.gender = gender\n",
    "        self.__age = -1\n",
    "    \n",
    "    def name(self):\n",
    "        return self.firstname + \" \" + self.surname\n",
    "    \n",
    "    def set_age(self,age):\n",
    "        self.__age = age\n",
    "        \n",
    "    def get_age(self):\n",
    "        return self.__age\n",
    "```"
   ]
  },
  {
   "cell_type": "code",
   "execution_count": 5,
   "metadata": {
    "collapsed": true
   },
   "outputs": [],
   "source": [
    "class Person:\n",
    "   \n",
    "    # constructor\n",
    "    def __init__(self,firstname,surname,job,gender):\n",
    "        self.firstname = firstname\n",
    "        self.surname = surname\n",
    "        self.job = job\n",
    "        self.gender = gender\n",
    "        self.__age = -1\n",
    "    \n",
    "    def name(self):\n",
    "        return self.firstname + \" \" + self.surname\n",
    "    \n",
    "    def set_age(self,age):\n",
    "        self.__age = age\n",
    "        \n",
    "    def get_age(self):\n",
    "        return self.__age"
   ]
  },
  {
   "cell_type": "code",
   "execution_count": 6,
   "metadata": {
    "collapsed": false
   },
   "outputs": [],
   "source": [
    "me = Person(\"Ben\", \"Thomas\", \"PDRA\", \"male\")"
   ]
  },
  {
   "cell_type": "code",
   "execution_count": 7,
   "metadata": {
    "collapsed": false
   },
   "outputs": [
    {
     "data": {
      "text/plain": [
       "-1"
      ]
     },
     "execution_count": 7,
     "metadata": {},
     "output_type": "execute_result"
    }
   ],
   "source": [
    "me.get_age()"
   ]
  },
  {
   "cell_type": "code",
   "execution_count": 8,
   "metadata": {
    "collapsed": false
   },
   "outputs": [
    {
     "data": {
      "text/plain": [
       "33"
      ]
     },
     "execution_count": 8,
     "metadata": {},
     "output_type": "execute_result"
    }
   ],
   "source": [
    "me.set_age(33)\n",
    "me.get_age()"
   ]
  },
  {
   "cell_type": "code",
   "execution_count": 9,
   "metadata": {
    "collapsed": false
   },
   "outputs": [
    {
     "ename": "AttributeError",
     "evalue": "'Person' object has no attribute '__age'",
     "output_type": "error",
     "traceback": [
      "\u001b[0;31m--------------------------------------------------------\u001b[0m",
      "\u001b[0;31mAttributeError\u001b[0m         Traceback (most recent call last)",
      "\u001b[0;32m<ipython-input-9-8297559f9b67>\u001b[0m in \u001b[0;36m<module>\u001b[0;34m()\u001b[0m\n\u001b[0;32m----> 1\u001b[0;31m \u001b[0mme\u001b[0m\u001b[0;34m.\u001b[0m\u001b[0m__age\u001b[0m\u001b[0;34m\u001b[0m\u001b[0m\n\u001b[0m",
      "\u001b[0;31mAttributeError\u001b[0m: 'Person' object has no attribute '__age'"
     ]
    }
   ],
   "source": [
    "me.__age"
   ]
  },
  {
   "cell_type": "markdown",
   "metadata": {},
   "source": [
    "### Pythonic way\n",
    "\n",
    "```python\n",
    "class Person:\n",
    "   \n",
    "    # Constructor\n",
    "    def __init__(self,firstname,surname,job,gender):\n",
    "        self.firstname = firstname\n",
    "        self.surname = surname\n",
    "        self.job = job\n",
    "        self.gender = gender\n",
    "        self.myrealage = -1\n",
    "    \n",
    "    def name(self):\n",
    "        return self.firstname + \" \" + self.surname\n",
    "    \n",
    "    @property\n",
    "    def age(self):\n",
    "        return self.myrealage\n",
    "\n",
    "    @age.setter\n",
    "    def age(self,value):\n",
    "        if 18 <= value <= 100:\n",
    "            self.myrealage = value\n",
    "        else:\n",
    "            raise ValueError(\"age must be between 18 and 100!\")\n",
    "```"
   ]
  },
  {
   "cell_type": "code",
   "execution_count": 10,
   "metadata": {
    "collapsed": true
   },
   "outputs": [],
   "source": [
    "class Person:\n",
    "   \n",
    "    # Constructor\n",
    "    def __init__(self,firstname,surname,job,gender):\n",
    "        self.firstname = firstname\n",
    "        self.surname = surname\n",
    "        self.job = job\n",
    "        self.gender = gender\n",
    "        self.myrealage = -1\n",
    "    \n",
    "    def name(self):\n",
    "        return self.firstname + \" \" + self.surname\n",
    "    \n",
    "    @property\n",
    "    def age(self):\n",
    "        return self.myrealage\n",
    "\n",
    "    @age.setter\n",
    "    def age(self,value):\n",
    "        if 18 <= value <= 100:\n",
    "            self.myrealage = value\n",
    "        else:\n",
    "            raise ValueError(\"age must be between 18 and 100!\")"
   ]
  },
  {
   "cell_type": "code",
   "execution_count": 11,
   "metadata": {
    "collapsed": true
   },
   "outputs": [],
   "source": [
    "me = Person(\"Ben\", \"Thomas\", \"PDRA\", \"male\")"
   ]
  },
  {
   "cell_type": "code",
   "execution_count": 12,
   "metadata": {
    "collapsed": true
   },
   "outputs": [],
   "source": [
    "me.age = 33"
   ]
  },
  {
   "cell_type": "code",
   "execution_count": 13,
   "metadata": {
    "collapsed": false
   },
   "outputs": [
    {
     "data": {
      "text/plain": [
       "33"
      ]
     },
     "execution_count": 13,
     "metadata": {},
     "output_type": "execute_result"
    }
   ],
   "source": [
    "me.age"
   ]
  },
  {
   "cell_type": "code",
   "execution_count": 14,
   "metadata": {
    "collapsed": false
   },
   "outputs": [
    {
     "ename": "ValueError",
     "evalue": "age must be between 18 and 100!",
     "output_type": "error",
     "traceback": [
      "\u001b[0;31m--------------------------------------------------------\u001b[0m",
      "\u001b[0;31mValueError\u001b[0m             Traceback (most recent call last)",
      "\u001b[0;32m<ipython-input-14-17c5a4689544>\u001b[0m in \u001b[0;36m<module>\u001b[0;34m()\u001b[0m\n\u001b[0;32m----> 1\u001b[0;31m \u001b[0mme\u001b[0m\u001b[0;34m.\u001b[0m\u001b[0mage\u001b[0m \u001b[0;34m=\u001b[0m \u001b[0;36m500\u001b[0m\u001b[0;34m\u001b[0m\u001b[0m\n\u001b[0m",
      "\u001b[0;32m<ipython-input-10-f49709212e3c>\u001b[0m in \u001b[0;36mage\u001b[0;34m(self, value)\u001b[0m\n\u001b[1;32m     21\u001b[0m             \u001b[0mself\u001b[0m\u001b[0;34m.\u001b[0m\u001b[0mmyrealage\u001b[0m \u001b[0;34m=\u001b[0m \u001b[0mvalue\u001b[0m\u001b[0;34m\u001b[0m\u001b[0m\n\u001b[1;32m     22\u001b[0m         \u001b[0;32melse\u001b[0m\u001b[0;34m:\u001b[0m\u001b[0;34m\u001b[0m\u001b[0m\n\u001b[0;32m---> 23\u001b[0;31m             \u001b[0;32mraise\u001b[0m \u001b[0mValueError\u001b[0m\u001b[0;34m(\u001b[0m\u001b[0;34m\"age must be between 18 and 100!\"\u001b[0m\u001b[0;34m)\u001b[0m\u001b[0;34m\u001b[0m\u001b[0m\n\u001b[0m",
      "\u001b[0;31mValueError\u001b[0m: age must be between 18 and 100!"
     ]
    }
   ],
   "source": [
    "me.age = 500"
   ]
  },
  {
   "cell_type": "markdown",
   "metadata": {
    "collapsed": true
   },
   "source": [
    "## Inheritance\n",
    "\n",
    "```python\n",
    "class Animal:\n",
    "    # Constructor\n",
    "    def __init__(self, name):\n",
    "        \n",
    "        # Name attribute\n",
    "        self.name = name\n",
    "    \n",
    "    def show_info(self):\n",
    "        print(\"My name is \" + self.name)\n",
    "\n",
    "class Cat(Animal):\n",
    "    \n",
    "    def __init__(self, name, food):\n",
    "        \n",
    "        # Call the parent constructor to set name.\n",
    "        super().__init__(name)\n",
    "        \n",
    "        # Set the 'likes' variable.\n",
    "        self.likes = food\n",
    "```"
   ]
  },
  {
   "cell_type": "code",
   "execution_count": 15,
   "metadata": {
    "collapsed": true
   },
   "outputs": [],
   "source": [
    "class Animal:\n",
    "    # Constructor\n",
    "    def __init__(self, name):\n",
    "        \n",
    "        # Name attribute\n",
    "        self.name = name\n",
    "    \n",
    "    def show_info(self):\n",
    "        print(\"My name is \" + self.name)"
   ]
  },
  {
   "cell_type": "code",
   "execution_count": 16,
   "metadata": {
    "collapsed": true
   },
   "outputs": [],
   "source": [
    "class Cat(Animal):\n",
    "    \n",
    "    def __init__(self, name, food):\n",
    "        \n",
    "        # Call the parent constructor to set name.\n",
    "        super().__init__(name)\n",
    "        \n",
    "        # Set the 'likes' variable.\n",
    "        self.likes = food"
   ]
  },
  {
   "cell_type": "code",
   "execution_count": 17,
   "metadata": {
    "collapsed": true
   },
   "outputs": [],
   "source": [
    "tom = Cat(\"Tom\", \"fish\")"
   ]
  },
  {
   "cell_type": "code",
   "execution_count": 18,
   "metadata": {
    "collapsed": false
   },
   "outputs": [
    {
     "name": "stdout",
     "output_type": "stream",
     "text": [
      "My name is Tom\n"
     ]
    }
   ],
   "source": [
    "tom.show_info()"
   ]
  },
  {
   "cell_type": "markdown",
   "metadata": {},
   "source": [
    "### Adapt the child class\n",
    "\n",
    "```python\n",
    "class Cat(Animal):\n",
    "\n",
    "    def __init__(self, name, food):\n",
    "        # Call the parent constructor to set name.\n",
    "        super().__init__(name)\n",
    "\n",
    "        # Set the 'likes' variable.\n",
    "        self.likes = food\n",
    "\n",
    "    def show_info(self):\n",
    "        # Call parent show_info\n",
    "        super().show_info()\n",
    "        # Print info from child\n",
    "        print(\"I like eating \" + self.likes)\n",
    "```"
   ]
  },
  {
   "cell_type": "code",
   "execution_count": 19,
   "metadata": {
    "collapsed": false
   },
   "outputs": [],
   "source": [
    "class Cat(Animal):\n",
    "\n",
    "    def __init__(self, name, food):\n",
    "        # Call the parent constructor to set name.\n",
    "        super().__init__(name)\n",
    "\n",
    "        # Set the 'likes' variable.\n",
    "        self.likes = food\n",
    "\n",
    "    def show_info(self):\n",
    "        # Call parent show_info\n",
    "        super().show_info()\n",
    "        # Print info from child\n",
    "        print(\"I like eating \" + self.likes)"
   ]
  },
  {
   "cell_type": "code",
   "execution_count": 20,
   "metadata": {
    "collapsed": false
   },
   "outputs": [],
   "source": [
    "tom = Cat(\"Tom\", \"fish\")"
   ]
  },
  {
   "cell_type": "code",
   "execution_count": 21,
   "metadata": {
    "collapsed": false
   },
   "outputs": [
    {
     "name": "stdout",
     "output_type": "stream",
     "text": [
      "My name is Tom\n",
      "I like eating fish\n"
     ]
    }
   ],
   "source": [
    "tom.show_info()"
   ]
  },
  {
   "cell_type": "markdown",
   "metadata": {},
   "source": [
    "## Polymorphism and abstract classes\n",
    "\n",
    "```python\n",
    "class Animal:\n",
    "    # Constructor\n",
    "    def __init__(self, name):\n",
    "        \n",
    "        # Name attribute\n",
    "        self.name = name\n",
    "    \n",
    "    def show_surface(self):\n",
    "        raise NotImplementedError(\"Must implement abstract method\")\n",
    "        \n",
    "class Cat(Animal):\n",
    "    \n",
    "    def show_surface(self):\n",
    "        print(self.name + \" has fur\")\n",
    "\n",
    "class Dog(Animal):\n",
    "    \n",
    "    def show_surface(self):\n",
    "        print(self.name + \" has fur\")\n",
    "\n",
    "class Duck(Animal):\n",
    "    \n",
    "    def show_surface(self):\n",
    "        print(self.name + \" has feathers\")\n",
    "```"
   ]
  },
  {
   "cell_type": "code",
   "execution_count": 22,
   "metadata": {
    "collapsed": true
   },
   "outputs": [],
   "source": [
    "class Animal:\n",
    "    # Constructor\n",
    "    def __init__(self, name):\n",
    "        \n",
    "        # Name attribute\n",
    "        self.name = name\n",
    "    \n",
    "    def show_surface(self):\n",
    "        raise NotImplementedError(\"Must implement abstract method\")"
   ]
  },
  {
   "cell_type": "code",
   "execution_count": 23,
   "metadata": {
    "collapsed": false
   },
   "outputs": [],
   "source": [
    "class Cat(Animal):\n",
    "    \n",
    "    def show_surface(self):\n",
    "        print(self.name + \" has fur\")\n",
    "\n",
    "class Dog(Animal):\n",
    "    \n",
    "    def show_surface(self):\n",
    "        print(self.name + \" has fur\")\n",
    "\n",
    "class Duck(Animal):\n",
    "    \n",
    "    def show_surface(self):\n",
    "        print(self.name + \" has feathers\")"
   ]
  },
  {
   "cell_type": "code",
   "execution_count": 24,
   "metadata": {
    "collapsed": true
   },
   "outputs": [],
   "source": [
    "c = Cat(\"Tom\")\n",
    "p = Dog(\"Pluto\")\n",
    "d = Duck(\"Donald\")"
   ]
  },
  {
   "cell_type": "code",
   "execution_count": 25,
   "metadata": {
    "collapsed": false
   },
   "outputs": [],
   "source": [
    "pets = [c,p,d]"
   ]
  },
  {
   "cell_type": "code",
   "execution_count": 26,
   "metadata": {
    "collapsed": false
   },
   "outputs": [
    {
     "name": "stdout",
     "output_type": "stream",
     "text": [
      "Tom has fur\n",
      "Pluto has fur\n",
      "Donald has feathers\n"
     ]
    }
   ],
   "source": [
    "for pet in pets:\n",
    "    pet.show_surface()"
   ]
  }
 ],
 "metadata": {
  "kernelspec": {
   "display_name": "Python 3",
   "language": "python",
   "name": "python3"
  },
  "language_info": {
   "codemirror_mode": {
    "name": "ipython",
    "version": 3
   },
   "file_extension": ".py",
   "mimetype": "text/x-python",
   "name": "python",
   "nbconvert_exporter": "python",
   "pygments_lexer": "ipython3",
   "version": "3.6.0"
  }
 },
 "nbformat": 4,
 "nbformat_minor": 2
}

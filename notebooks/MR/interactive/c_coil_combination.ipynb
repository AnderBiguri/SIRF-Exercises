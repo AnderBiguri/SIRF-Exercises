{
 "cells": [
  {
   "cell_type": "code",
   "execution_count": null,
   "metadata": {},
   "outputs": [],
   "source": [
    "# -*- coding: utf-8 -*-\n",
    "###\n",
    "# Demonstration of MR reconstruction with CCP PET-MR Software\n",
    "#\n",
    "# This demonstration shows how to reconstruct MR images on a coil-by-coil basis\n",
    "# and how to combine the image information from the different receiver coils\n",
    "#\n",
    "# This demo is a 'script', i.e. intended to be run step by step in a\n",
    "# Python IDE such as spyder. It is organised in 'cells'. spyder displays these\n",
    "# cells nicely and allows you to run each cell on its own.\n",
    "#\n",
    "# First version: 27th of May 2017\n",
    "# Updated 10th of April 2019\n",
    "# Author: Christoph Kolbitsch, Johannes Mayer\n",
    "#\n",
    "\n",
    "## CCP PETMR Synergistic Image Reconstruction Framework (SIRF).\n",
    "## Copyright 2015 - 2017 Rutherford Appleton Laboratory STFC.\n",
    "## Copyright 2015 - 2017 University College London.\n",
    "## Copyright 2015 - 2017 Physikalisch-Technische Bundesanstalt.\n",
    "##\n",
    "## This is software developed for the Collaborative Computational\n",
    "## Project in Positron Emission Tomography and Magnetic Resonance imaging\n",
    "## (http://www.ccppetmr.ac.uk/).\n",
    "##\n",
    "## Licensed under the Apache License, Version 2.0 (the \"License\");\n",
    "##   you may not use this file except in compliance with the License.\n",
    "##   You may obtain a copy of the License at\n",
    "##       http://www.apache.org/licenses/LICENSE-2.0\n",
    "##   Unless required by applicable law or agreed to in writing, software\n",
    "##   distributed under the License is distributed on an \"AS IS\" BASIS,\n",
    "##   WITHOUT WARRANTIES OR CONDITIONS OF ANY KIND, either express or implied.\n",
    "##   See the License for the specific language governing permissions and\n",
    "##   limitations under the License."
   ]
  },
  {
   "cell_type": "code",
   "execution_count": null,
   "metadata": {},
   "outputs": [],
   "source": [
    "__version__ = '0.1.0'\n",
    "\n",
    "# import engine module\n",
    "import sirf.Gadgetron as pMR\n",
    "from sirf.Utilities import examples_data_path\n",
    "\n",
    "# import further modules\n",
    "import os, numpy\n",
    "%matplotlib\n",
    "import matplotlib.pyplot as plt\n",
    "\n",
    "#%% GO TO MR FOLDER\n",
    "os.chdir( examples_data_path('MR'))"
   ]
  },
  {
   "cell_type": "markdown",
   "metadata": {},
   "source": [
    "### Coil Combination\n",
    "#### Goals of this notebook:\n",
    "- Explore ways to combine acquisition data from multiple receiver coils."
   ]
  },
  {
   "cell_type": "markdown",
   "metadata": {},
   "source": [
    "### Multi Receiver Channel Imaging\n",
    "In principle one does not need multiple coils placed on a patient or phantom in an MR exam. Every scanner has the so called body coil which is able to receive the MRI signal and one can reconstruct an image from that.\n",
    "\n",
    "However, nobody uses the body coil images any more but so called __receiver coils__ somethimes refered to as __phased arrays__ or mostly just as __coils__ are used. This has several advantages, one being that the receiver can be placed very close to the recorded signal.   \n",
    "Each of this channels also adds a complex phase onto the recorded signal (hence the name __phased__ arrays!)\n",
    "\n",
    "The sensitivity of these phased arrays is not constant but a function of space. The different coils are also referred to as __channels__.\n",
    "\n",
    "#### Naming Convention\n",
    "The following expressions are usually used synonymously:\n",
    "- coil sensitivity profile\n",
    "- coil sensitivity maps (CSM)\n",
    "- coil maps"
   ]
  },
  {
   "cell_type": "code",
   "execution_count": null,
   "metadata": {},
   "outputs": [],
   "source": [
    "#%% LOAD AND PREPROCESS RAW MR DATA\n",
    "filename = 'ptb_resolutionphantom_fully_ismrmrd.h5'\n",
    "acq_data = pMR.AcquisitionData(filename)\n",
    "preprocessed_data = pMR.preprocess_acquisition_data(acq_data)\n",
    "preprocessed_data.sort()\n",
    "\n"
   ]
  },
  {
   "cell_type": "code",
   "execution_count": null,
   "metadata": {},
   "outputs": [],
   "source": [
    "#%% RETRIEVE K-SPACE DATA\n",
    "k_array = preprocessed_data.as_array()\n",
    "print('Size of k-space %dx%dx%d' % k_array.shape)\n",
    "\n",
    "\n"
   ]
  },
  {
   "cell_type": "code",
   "execution_count": null,
   "metadata": {},
   "outputs": [],
   "source": [
    "#%% SELECT FIRST REPETITION AND VIEW DATA\n",
    "k_array = k_array[0:256,:,:]\n",
    "print('Size of k-space %dx%dx%d' % k_array.shape)\n",
    "\n",
    "k_array = k_array / numpy.max(abs(k_array[:]))\n",
    "num_channels = k_array.shape[1]\n",
    "\n",
    "fig = plt.figure(1)\n",
    "plt.set_cmap('gray')\n",
    "for c in range( num_channels ):\n",
    "    ax = fig.add_subplot(2,num_channels/2,c+1)\n",
    "    ax.imshow(abs(k_array[:,c,:]), vmin=0, vmax=0.05)\n",
    "    ax.set_title('Coil '+str(c+1))\n",
    "    ax.axis('off')\n",
    "\n",
    "\n"
   ]
  },
  {
   "cell_type": "code",
   "execution_count": null,
   "metadata": {},
   "outputs": [],
   "source": [
    "#%% APPLY INVERSE FFT TO EACH COIL AND VIEW IMAGES\n",
    "image_array = numpy.zeros(k_array.shape, numpy.complex128)\n",
    "for c in range(k_array.shape[1]):\n",
    "    image_array[:,c,:] = numpy.fft.fftshift(numpy.fft.ifft2(numpy.fft.ifftshift(k_array[:,c,:])))\n",
    "image_array = image_array/image_array.max()\n",
    "   \n",
    "\n",
    "fig = plt.figure(2)   \n",
    "plt.set_cmap('gray')\n",
    "for c in range(image_array.shape[1]):\n",
    "    ax = fig.add_subplot(2,num_channels/2,c+1)\n",
    "    ax.imshow(abs(image_array[:,c,:]), vmin=0, vmax=0.4)\n",
    "    ax.set_title('Coil '+str(c+1))\n",
    "    ax.axis('off')\n",
    "    \n",
    "    \n"
   ]
  },
  {
   "cell_type": "markdown",
   "metadata": {},
   "source": [
    "### Question:\n",
    "- What differences appear in the individual channel reconstructions compared to the combined image we saw in the last notebook?\n"
   ]
  },
  {
   "cell_type": "markdown",
   "metadata": {},
   "source": [
    "### Sum of Square (SOS) Coil Combination\n",
    "\n",
    "As you can see the individual receiver channels have a spatially varying intensity due to the coil sensitivity profiles. This information needs to be combined.\n",
    "\n",
    "Assume you have a set of reconstructed images $f_c$ where $c \\in \\{1, \\dots N_c \\}$ label the individual coil channels' reconstructions.\n",
    "\n",
    "One way to combine the signal from all coil channels is to use a sum-of-squares approach:\n",
    "\n",
    "$$\n",
    "f_{sos} = \\sqrt{ \\sum_c \\bigl{|} \\, f_c \\bigr{|}^2 }\n",
    "$$"
   ]
  },
  {
   "cell_type": "markdown",
   "metadata": {},
   "source": [
    "### Question:\n",
    "- Why is SOS preferable to simply summing them without squaring: $\\;f_{combined} = \\sum_c f_c$\n",
    "- What could be a possible disadvantage of this coil combination approach?\n",
    "- Apart from fancy parallel imaging techniques, why is it even useful to have more than one receiver channel?  "
   ]
  },
  {
   "cell_type": "code",
   "execution_count": null,
   "metadata": {},
   "outputs": [],
   "source": [
    "#%% COMBINE COIL IMAGES USING SOS\n",
    "image_array_sos = numpy.sqrt(numpy.sum(numpy.square(numpy.abs(image_array)),1))\n",
    "image_array_sos = image_array_sos/image_array_sos.max()\n",
    "\n",
    "fig = plt.figure(3)\n",
    "plt.set_cmap('gray')\n",
    "plt.imshow(image_array_sos, vmin=0, vmax=0.7)\n",
    "plt.title('Combined image using sum-of-squares') \n",
    "\n",
    "\n"
   ]
  },
  {
   "cell_type": "markdown",
   "metadata": {},
   "source": [
    "### Weighted Sum (WS) Coil Combination\n",
    "\n",
    "Instead of squaring each channel before adding them up there is another method of combining coils, by weighting each image with it's corresponding coil sensitivity:\n",
    "\n",
    "One way to combine the signal from all coil channels is to use a sum-of-squares approach:\n",
    "\n",
    "$$\n",
    "f_{ws} =  \\frac{1}{{\\sum_{c'}{\\bigl{|} C_{c'} \\bigr{|}^2}}}{\\sum_c C_c^* \\cdot f_c}\n",
    "$$\n",
    "where $C_c$ is the coil sensitivity profile of coil $c$.  \n",
    "\n",
    "It can be shown that this way of combining coils yields an optimal signal-to-noise ratio (SNR). Note also, that this way of combining channels does not destroy the phase information.\n",
    "However, for each coil one needs to either\n",
    "- estimate the coil sensitivity $C_c$ from the data itself.\n",
    "- measure them separately (clinically not feasible).\n",
    "\n",
    "For the task of estimating coil sensitivities from the acquisition data, in `pMR` there is a class called `CoilSensitivityData`. Let's use it to compute the coilmaps of our dataset. __Note:__ the details of the the coilmap estimation is outside the scope of this workshop."
   ]
  },
  {
   "cell_type": "markdown",
   "metadata": {},
   "source": [
    "### Computing Coil Sensitivities\n",
    "\n"
   ]
  },
  {
   "cell_type": "code",
   "execution_count": null,
   "metadata": {},
   "outputs": [],
   "source": [
    "#%% CALCULATE COIL SENSITIVITIES\n",
    "csm = pMR.CoilSensitivityData()\n",
    "csm.smoothness = 100\n",
    "csm.calculate(preprocessed_data)\n",
    "csm_array = numpy.squeeze(csm.as_array(0))\n",
    "\n",
    "# csm_array has orientation [coil, im_x, im_y]\n",
    "csm_array = csm_array.transpose([1,0,2])\n",
    "\n",
    "fig = plt.figure()\n",
    "plt.set_cmap('jet')\n",
    "for c in range(num_channels):\n",
    "    ax = fig.add_subplot(2,num_channels,c+1)\n",
    "    ax.imshow(abs(csm_array[:,c,:]))\n",
    "    ax.set_title('Coil '+str(c+1))\n",
    "    ax.axis('off')"
   ]
  },
  {
   "cell_type": "markdown",
   "metadata": {},
   "source": [
    "### Question\n",
    "Please answer the following questions:\n",
    "- Why is there so much noise in some regions of the coilmaps and outside the object? \n",
    "- Is this noise in the coilmap going to have a strong negative impact on the image quality in this region of the combined image?\n",
    "- In which organ in the human anatomy would you expect a coilmap to look similarly noisy?\n",
    "\n"
   ]
  },
  {
   "cell_type": "code",
   "execution_count": null,
   "metadata": {},
   "outputs": [],
   "source": [
    "#%% COMBINE COIL IMAGES USING WEIGHTED SUM\n",
    "image_array_ws = numpy.sum(numpy.multiply(image_array, numpy.conj(csm_array)),1)\n",
    "image_array_ws = abs(numpy.divide(image_array_ws, numpy.sum(numpy.multiply(csm_array, numpy.conj(csm_array)),1)))\n",
    "image_array_ws = image_array_ws/image_array_ws.max()\n",
    "\n",
    "\n",
    "diff_img_arr = abs(image_array_sos-image_array_ws)\n",
    "diff_img_arr = diff_img_arr/diff_img_arr.max()\n",
    "\n",
    "\n",
    "fig = plt.figure(figsize=[12, 4])\n",
    "plt.set_cmap('gray')\n",
    "\n",
    "ax = fig.add_subplot(1,3,1)\n",
    "ax.imshow(image_array_sos, vmin=0, vmax=0.7)\n",
    "ax.set_title('Sum-of-squares (SOS)')\n",
    "ax.axis('off')\n",
    "\n",
    "ax = fig.add_subplot(1,3,2)\n",
    "ax.imshow(image_array_ws, vmin=0, vmax=0.7)\n",
    "ax.set_title('Weighted sum (WS)')\n",
    "ax.axis('off')\n",
    "\n",
    "ax = fig.add_subplot(1,3,3)\n",
    "ax.imshow(diff_img_arr, vmin=-0, vmax=0.1)\n",
    "ax.set_title('SOS - WS')\n",
    "ax.axis('off')\n",
    "\n",
    "\n",
    "\n"
   ]
  },
  {
   "cell_type": "markdown",
   "metadata": {},
   "source": [
    "### Question\n",
    "\n",
    "Do you think instead of reconstructing individual coil channels and combining them there is a possibility to reconstruct them all together into one image at the same time?\n"
   ]
  },
  {
   "cell_type": "markdown",
   "metadata": {},
   "source": [
    "### Recap Coil Combination\n",
    "\n",
    "In this exercise we learned:\n",
    "- how to combine multichannel image reconstructions\n",
    "- compute coil sensitivities with SIRF.\n",
    "\n",
    "\n"
   ]
  },
  {
   "cell_type": "code",
   "execution_count": null,
   "metadata": {},
   "outputs": [],
   "source": [
    "plt.close('all')"
   ]
  },
  {
   "cell_type": "code",
   "execution_count": null,
   "metadata": {},
   "outputs": [],
   "source": []
  }
 ],
 "metadata": {
  "kernelspec": {
   "display_name": "Python 3",
   "language": "python",
   "name": "python3"
  },
  "language_info": {
   "codemirror_mode": {
    "name": "ipython"
   },
   "file_extension": ".py",
   "mimetype": "text/x-python",
   "name": "python",
   "nbconvert_exporter": "python"
  }
 },
 "nbformat": 4,
 "nbformat_minor": 1
}

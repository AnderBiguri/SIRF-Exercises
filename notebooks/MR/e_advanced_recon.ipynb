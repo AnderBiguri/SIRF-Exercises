{
 "cells": [
  {
   "cell_type": "markdown",
   "id": "29efc3dc",
   "metadata": {},
   "source": [
    "Also hier geht's los"
   ]
  },
  {
   "cell_type": "code",
   "execution_count": null,
   "id": "440b2803",
   "metadata": {},
   "outputs": [],
   "source": [
    "#%% make sure figures appears inline and animations works\n",
    "%matplotlib notebook"
   ]
  },
  {
   "cell_type": "code",
   "execution_count": null,
   "id": "4cd64031",
   "metadata": {},
   "outputs": [],
   "source": [
    "__version__ = '0.1.0'\n",
    "\n",
    "# import engine module\n",
    "import sirf.Gadgetron as pMR\n",
    "from sirf.Utilities import examples_data_path\n",
    "\n",
    "# import further modules\n",
    "import os, numpy as np\n",
    "\n",
    "import matplotlib.pyplot as plt\n",
    "import matplotlib.animation as animation\n",
    "\n",
    "from tqdm.auto import trange\n",
    "\n",
    "#%% GO TO MR FOLDER\n",
    "os.chdir(examples_data_path('MR'))"
   ]
  },
  {
   "cell_type": "code",
   "execution_count": null,
   "id": "6ac630ea",
   "metadata": {},
   "outputs": [],
   "source": [
    "# This is just an auxiliary function\n",
    "def norm_array( arr ):\n",
    "    min_a = abs(arr).min()\n",
    "    max_a = abs(arr).max()\n",
    "\n",
    "    return (arr - min_a)/(max_a - min_a)\n",
    "    "
   ]
  },
  {
   "cell_type": "code",
   "execution_count": null,
   "id": "69a31733",
   "metadata": {},
   "outputs": [],
   "source": [
    "# LOADING AND PREPROCESSING DATA FOR THIS SET\n",
    "filename_grappa_file = 'ptb_resolutionphantom_GRAPPA4_ismrmrd.h5'\n",
    "acq_data = pMR.AcquisitionData(filename_grappa_file)\n",
    "preprocessed_data = pMR.preprocess_acquisition_data(acq_data)\n",
    "preprocessed_data.sort()"
   ]
  },
  {
   "cell_type": "code",
   "execution_count": null,
   "id": "20818387",
   "metadata": {},
   "outputs": [],
   "source": [
    "# WE DO A GRAPPA RECONSTRUCTION USING SIRF\n",
    "\n",
    "recon = pMR.CartesianGRAPPAReconstructor()\n",
    "recon.set_input(preprocessed_data)\n",
    "recon.compute_gfactors(False)\n",
    "print('---\\n reconstructing...')\n",
    "\n",
    "recon.process()\n",
    "# for undersampled acquisition data GRAPPA computes Gfactor images\n",
    "# in addition to reconstructed ones\n",
    "grappa_images = recon.get_output()\n",
    "grappa_images_array = grappa_images.as_array()\n",
    "grappa_images_array = norm_array(grappa_images_array)"
   ]
  },
  {
   "cell_type": "code",
   "execution_count": null,
   "id": "710d3170",
   "metadata": {},
   "outputs": [],
   "source": [
    "csm = pMR.CoilSensitivityData()\n",
    "csm.smoothness = 50\n",
    "csm.calculate(preprocessed_data)\n"
   ]
  },
  {
   "cell_type": "code",
   "execution_count": null,
   "id": "f650e28c",
   "metadata": {},
   "outputs": [],
   "source": [
    "# NOW WE GENERATE THE ACQUISITION MODEL\n",
    "E = pMR.AcquisitionModel(preprocessed_data, grappa_images)\n",
    "# to supply coil info to the acquisition model we use the dedicated method\n",
    "E.set_coil_sensitivity_maps(csm)\n"
   ]
  },
  {
   "cell_type": "code",
   "execution_count": null,
   "id": "0cc3f075",
   "metadata": {},
   "outputs": [],
   "source": [
    "# Now we can hop back from k-space into image space in just one line:\n",
    "aq_model_image = E.backward( preprocessed_data )\n",
    "aq_model_image_array = norm_array(aq_model_image.as_array())"
   ]
  },
  {
   "cell_type": "code",
   "execution_count": null,
   "id": "128a0601",
   "metadata": {},
   "outputs": [],
   "source": [
    "# PLOT THE RESULTS\n",
    "fig = plt.figure(figsize=(9, 4))\n",
    "plt.set_cmap('gray')\n",
    "ax = fig.add_subplot(1,2,1)\n",
    "ax.imshow(abs(grappa_images_array[0,:,:]), vmin=0, vmax=1)\n",
    "ax.set_title('GRAPPA')\n",
    "ax.axis('off')\n",
    "\n",
    "ax = fig.add_subplot(1,2,2)\n",
    "ax.imshow(abs(aq_model_image_array[0,:,:]))\n",
    "ax.set_title('Result Backward Method of E ')\n",
    "ax.axis('off')\n",
    "plt.tight_layout()\n",
    "\n",
    "\n"
   ]
  },
  {
   "cell_type": "markdown",
   "id": "63ef33bb",
   "metadata": {},
   "source": [
    "We want to use conjugate gradient routine of the `scipy.optimize.minimize`function to solve the equation $A x - y = 0$ where $A = A^H$\n",
    "\n",
    "You need to supply the objective function and it's gradient as: `fun(x,*args) -> float`.\n",
    "\n",
    "Also, `scipy` only acts on real data `x`, so we need to split our complex images into two channels: `[img] = [real(img), imag(img)]`"
   ]
  },
  {
   "cell_type": "code",
   "execution_count": null,
   "id": "9ab01a1d",
   "metadata": {},
   "outputs": [],
   "source": [
    "import scipy.optimize as optimize\n",
    "\n",
    "def split_complex_to_real(data):\n",
    "    \n",
    "    return np.concatenate( (np.real(data.flatten()), np.imag(data.flatten())))\n",
    "\n",
    "def merge_real_to_complex(data):\n",
    "    \n",
    "    data = np.split(data,2)\n",
    "    \n",
    "    return data[0] + 1j*data[1]\n",
    "\n"
   ]
  },
  {
   "cell_type": "code",
   "execution_count": null,
   "id": "c89722cd",
   "metadata": {},
   "outputs": [],
   "source": [
    "y = preprocessed_data\n",
    "y = y / y.norm()\n",
    "\n",
    "print(y.norm())"
   ]
  },
  {
   "cell_type": "code",
   "execution_count": null,
   "id": "758a58f6",
   "metadata": {},
   "outputs": [],
   "source": [
    "def objective(x, *args):\n",
    "    \n",
    "    \n",
    "    assert len(args)==3, \"Please give three arguments only\"\n",
    "    E = args[0]\n",
    "    i = args[1]\n",
    "    y = args[2]\n",
    "    \n",
    "    data = merge_real_to_complex(x)\n",
    "    i = i.fill(data)\n",
    "    \n",
    "    c =  E.forward(i)-y\n",
    "    return c.norm() ** 2\n",
    "\n",
    "def grad_objective(x, *args):\n",
    "    \n",
    "    assert len(args)==3, \"Please give three arguments only\"\n",
    "    E = args[0]\n",
    "    i = args[1]\n",
    "    y = args[2]\n",
    "    \n",
    "    data = merge_real_to_complex(x)\n",
    "    \n",
    "    i = i.fill(data)    \n",
    "    \n",
    "    dObj = E.backward(E.forward(i) - y)\n",
    "    dObj = 2*dObj.as_array().flatten()\n",
    "    \n",
    "    return split_complex_to_real(dObj)"
   ]
  },
  {
   "cell_type": "code",
   "execution_count": null,
   "id": "f57b2380",
   "metadata": {},
   "outputs": [],
   "source": [
    "img = grappa_images\n",
    "extra_args = (E, img, y)\n",
    "\n",
    "cg_tol = 0\n",
    "extra_options = {\"maxiter\": 150, \"disp\": True, \"gtol\":cg_tol}"
   ]
  },
  {
   "cell_type": "markdown",
   "id": "613baa1e",
   "metadata": {},
   "source": [
    "Fix the starting conditions and check the cost function"
   ]
  },
  {
   "cell_type": "code",
   "execution_count": null,
   "id": "b985535c",
   "metadata": {},
   "outputs": [],
   "source": [
    "img.fill(0.0 + 1j*0.0)\n",
    "x0 = split_complex_to_real(img.as_array().flatten().copy())\n",
    "c0 = objective(x0, *extra_args)\n",
    "print(\"Objective funtion start is: {}\".format((c0)))\n"
   ]
  },
  {
   "cell_type": "code",
   "execution_count": null,
   "id": "340c281c",
   "metadata": {},
   "outputs": [],
   "source": [
    "# x0 = img.as_array().flatten()\n",
    "res = optimize.minimize(objective, x0, args=extra_args, method='CG', jac=grad_objective, options=extra_options)\n",
    "res = img.fill(res.x)\n",
    "resarr = norm_array(res.as_array())"
   ]
  },
  {
   "cell_type": "code",
   "execution_count": null,
   "id": "196854d4",
   "metadata": {},
   "outputs": [],
   "source": [
    "# PLOT THE RESULTS\n",
    "fig = plt.figure(figsize=(9, 4))\n",
    "ax = fig.add_subplot(1,4,1)\n",
    "ax.imshow(abs(grappa_images_array[0,:,:]), vmin=0, vmax=1)\n",
    "ax.set_title('GRAPPA')\n",
    "ax.axis('off')\n",
    "\n",
    "plt.set_cmap('gray')\n",
    "ax = fig.add_subplot(1,4,2)\n",
    "ax.imshow(abs(aq_model_image_array[0,:,:]), vmin=0, vmax=1)\n",
    "ax.set_title('Result Backward Method of E ')\n",
    "ax.axis('off')\n",
    "plt.tight_layout()\n",
    "\n",
    "plt.set_cmap('gray')\n",
    "ax = fig.add_subplot(1,4,3)\n",
    "ax.imshow(abs(resarr[0,:,:]), vmin=0, vmax=1)\n",
    "ax.set_title('Result CG Method')\n",
    "ax.axis('off')\n",
    "plt.tight_layout()\n",
    "\n",
    "plt.set_cmap('gray')\n",
    "ax = fig.add_subplot(1,4,4)\n",
    "ax.imshow(abs(aq_model_image_array[0,:,:] - resarr[0,:,:]), vmin=0, vmax=0.5)\n",
    "ax.set_title('Diff')\n",
    "ax.axis('off')\n",
    "plt.tight_layout()"
   ]
  }
 ],
 "metadata": {
  "kernelspec": {
   "display_name": "Python 3",
   "language": "python",
   "name": "python3"
  },
  "language_info": {
   "codemirror_mode": {
    "name": "ipython",
    "version": 3
   },
   "file_extension": ".py",
   "mimetype": "text/x-python",
   "name": "python",
   "nbconvert_exporter": "python",
   "pygments_lexer": "ipython3",
   "version": "3.6.9"
  }
 },
 "nbformat": 4,
 "nbformat_minor": 5
}

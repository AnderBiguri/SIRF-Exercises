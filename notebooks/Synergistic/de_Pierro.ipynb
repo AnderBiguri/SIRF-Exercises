{
 "cells": [
  {
   "cell_type": "markdown",
   "metadata": {},
   "source": [
    "# MAPEM de Pierro algorithm"
   ]
  },
  {
   "cell_type": "code",
   "execution_count": null,
   "metadata": {},
   "outputs": [],
   "source": [
    "#%% make sure figures appears inline and animations works\n",
    "# %matplotlib notebook"
   ]
  },
  {
   "cell_type": "code",
   "execution_count": null,
   "metadata": {},
   "outputs": [],
   "source": [
    "import sirf.STIR as pet\n",
    "import matplotlib.pyplot as plt\n",
    "import os\n",
    "import numpy\n",
    "from numpy.linalg import norm\n",
    "\n",
    "# Get to correct directory\n",
    "os.chdir(\"/Users/rich/Documents/Data/Johannes_data/SRS_data_exhale/\")"
   ]
  },
  {
   "cell_type": "code",
   "execution_count": null,
   "metadata": {},
   "outputs": [],
   "source": [
    "#%% some handy function definitions\n",
    "def make_cylindrical_FOV(image):\n",
    "    \"\"\"truncate to cylindrical FOV\"\"\"\n",
    "    filter = pet.TruncateToCylinderProcessor()\n",
    "    filter.apply(image)"
   ]
  },
  {
   "cell_type": "markdown",
   "metadata": {},
   "source": [
    "## PET ground truth"
   ]
  },
  {
   "cell_type": "code",
   "execution_count": null,
   "metadata": {},
   "outputs": [],
   "source": [
    "gt_act = pet.ImageData('PET_activity.nii')\n",
    "gt_atten = pet.ImageData('PET_attenuation.nii')\n",
    "\n",
    "fig, axs = plt.subplots(2,3)\n",
    "fig.suptitle('Ground truth PET')\n",
    "\n",
    "# PET Activity\n",
    "axs[0,0].set_ylabel('Activity', rotation=90, size='large')\n",
    "axs[0,0].imshow(gt_act.as_array()[:,:,60])\n",
    "axs[0,1].imshow(gt_act.as_array()[:,60,:])\n",
    "axs[0,2].imshow(gt_act.as_array()[60,:,:])\n",
    "\n",
    "# PET attenuation\n",
    "axs[1,0].set_ylabel('Attenuation', rotation=90, size='large')\n",
    "axs[1,0].imshow(gt_atten.as_array()[:,:,60])\n",
    "axs[1,1].imshow(gt_atten.as_array()[:,60,:])\n",
    "axs[1,2].imshow(gt_atten.as_array()[60,:,:])"
   ]
  },
  {
   "cell_type": "markdown",
   "metadata": {},
   "source": [
    "## MR ground truth"
   ]
  },
  {
   "cell_type": "code",
   "execution_count": null,
   "metadata": {},
   "outputs": [],
   "source": [
    "gt_T1 = pet.ImageData('MR_T1.nii')\n",
    "gt_T2 = pet.ImageData('MR_T2.nii')\n",
    "gt_PD = pet.ImageData('MR_PD.nii')\n",
    "\n",
    "fig, axs = plt.subplots(3,3)\n",
    "fig.suptitle('Ground truth MR')\n",
    "\n",
    "# MR T1\n",
    "axs[0,0].set_ylabel('T1', rotation=90, size='large')\n",
    "axs[0,0].imshow(gt_T1.as_array()[:,:,60])\n",
    "axs[0,1].imshow(gt_T1.as_array()[:,60,:])\n",
    "axs[0,2].imshow(gt_T1.as_array()[60,:,:])\n",
    "\n",
    "# MR T1\n",
    "axs[1,0].set_ylabel('T2', rotation=90, size='large')\n",
    "axs[1,0].imshow(gt_T2.as_array()[:,:,60])\n",
    "axs[1,1].imshow(gt_T2.as_array()[:,60,:])\n",
    "axs[1,2].imshow(gt_T2.as_array()[60,:,:])\n",
    "\n",
    "# MR PD\n",
    "axs[2,0].set_ylabel('PD', rotation=90, size='large')\n",
    "axs[2,0].imshow(gt_PD.as_array()[:,:,60])\n",
    "axs[2,1].imshow(gt_PD.as_array()[:,60,:])\n",
    "axs[2,2].imshow(gt_PD.as_array()[60,:,:])"
   ]
  },
  {
   "cell_type": "markdown",
   "metadata": {},
   "source": [
    "## Create noise"
   ]
  },
  {
   "cell_type": "code",
   "execution_count": null,
   "metadata": {},
   "outputs": [],
   "source": [
    "#%% create acquisition model\n",
    "am = pet.AcquisitionModelUsingRayTracingMatrix()\n",
    "# we will increate the number of rays used for every Line-of-Response (LOR) as an example\n",
    "# (it is not required for the exercise of course)\n",
    "am.set_num_tangential_LORs(5)\n",
    "\n",
    "templ = pet.AcquisitionData('mMR_template_span11.hs')\n",
    "am.set_up(templ,gt_act);\n"
   ]
  },
  {
   "cell_type": "code",
   "execution_count": null,
   "metadata": {},
   "outputs": [],
   "source": [
    "#%% simulate some data using forward projection\n",
    "gt_sino = am.forward(gt_act)"
   ]
  },
  {
   "cell_type": "code",
   "execution_count": null,
   "metadata": {},
   "outputs": [],
   "source": [
    "gt_sino_array = numpy.abs(gt_sino.as_array());\n",
    "noisy_array = numpy.random.poisson(gt_sino_array).astype('float64');\n",
    "noisy_sino = gt_sino.clone();\n",
    "noisy_sino.fill(noisy_array);"
   ]
  },
  {
   "cell_type": "code",
   "execution_count": null,
   "metadata": {},
   "outputs": [],
   "source": [
    "fig, axs = plt.subplots(1,2)\n",
    "\n",
    "# Sinograms\n",
    "axs[0].title.set_text('Original')\n",
    "axs[0].imshow(gt_sino_array[0,400,:,:])\n",
    "axs[1].title.set_text('Noisy')\n",
    "axs[1].imshow(noisy_array[0,400,:,:])"
   ]
  },
  {
   "cell_type": "markdown",
   "metadata": {},
   "source": [
    "## OSEM reconstruction of noisy data"
   ]
  },
  {
   "cell_type": "code",
   "execution_count": null,
   "metadata": {},
   "outputs": [],
   "source": [
    "#%% create objective function\n",
    "obj_fun = pet.make_Poisson_loglikelihood(noisy_sino)\n",
    "obj_fun.set_acquisition_model(am)\n",
    "#%% create OSEM reconstructor\n",
    "OSEM_reconstructor = pet.OSMAPOSLReconstructor()\n",
    "OSEM_reconstructor.set_objective_function(obj_fun)\n",
    "OSEM_reconstructor.set_num_subsets(21)\n",
    "num_subiters=10;\n",
    "OSEM_reconstructor.set_num_subiterations(num_subiters)\n",
    "#%%  create initial image\n",
    "init_image=gt_act.get_uniform_copy(gt_act.as_array().max()*.1)\n",
    "make_cylindrical_FOV(init_image)\n",
    "\n",
    "reconstructed_image = init_image.clone()\n",
    "OSEM_reconstructor.set_up(reconstructed_image)\n",
    "OSEM_reconstructor.reconstruct(reconstructed_image)"
   ]
  },
  {
   "cell_type": "code",
   "execution_count": null,
   "metadata": {},
   "outputs": [],
   "source": [
    "fig, axs = plt.subplots(1,3)\n",
    "fig.suptitle('Reconstructed noisy data')\n",
    "\n",
    "# PET Activity\n",
    "# axs[0].set_ylabel('Activity', rotation=90, size='large')\n",
    "axs[0].imshow(reconstructed_image.as_array()[:,:,60])\n",
    "axs[1].imshow(reconstructed_image.as_array()[:,60,:])\n",
    "axs[2].imshow(reconstructed_image.as_array()[60,:,:])"
   ]
  },
  {
   "cell_type": "markdown",
   "metadata": {},
   "source": [
    "## Now use dePierro MAPEM"
   ]
  },
  {
   "cell_type": "code",
   "execution_count": null,
   "metadata": {},
   "outputs": [],
   "source": [
    "from sirf.contrib.kcl import Prior"
   ]
  },
  {
   "cell_type": "code",
   "execution_count": null,
   "metadata": {},
   "outputs": [],
   "source": []
  }
 ],
 "metadata": {
  "kernelspec": {
   "display_name": "Python 3",
   "language": "python",
   "name": "python3"
  },
  "language_info": {
   "codemirror_mode": {
    "name": "ipython",
    "version": 3
   },
   "file_extension": ".py",
   "mimetype": "text/x-python",
   "name": "python",
   "nbconvert_exporter": "python",
   "pygments_lexer": "ipython3",
   "version": "3.7.4"
  }
 },
 "nbformat": 4,
 "nbformat_minor": 2
}
